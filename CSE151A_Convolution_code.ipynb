{
  "nbformat": 4,
  "nbformat_minor": 0,
  "metadata": {
    "colab": {
      "provenance": []
    },
    "kernelspec": {
      "name": "python3",
      "display_name": "Python 3"
    },
    "language_info": {
      "name": "python"
    }
  },
  "cells": [
    {
      "cell_type": "markdown",
      "source": [
        "## Participation"
      ],
      "metadata": {
        "id": "GMlolWSopqK3"
      }
    },
    {
      "cell_type": "markdown",
      "source": [
        "## Convolution Code"
      ],
      "metadata": {
        "id": "R7mdajrNpthI"
      }
    },
    {
      "cell_type": "code",
      "execution_count": 1,
      "metadata": {
        "id": "Epc5h4DPIqVm"
      },
      "outputs": [],
      "source": [
        "import numpy as np"
      ]
    },
    {
      "cell_type": "code",
      "source": [
        "myimg = [[30,30,30,0,0,0],[30,30,30,0,0,0],[30,30,30,0,0,0],[30,30,30,0,0,0],[30,30,30,0,0,0],[30,30,30,0,0,1]]\n",
        "myimg"
      ],
      "metadata": {
        "colab": {
          "base_uri": "https://localhost:8080/"
        },
        "id": "yl1l3iPBJCEY",
        "outputId": "c48e6a63-5553-4094-bca6-bbfb4b2e38b9"
      },
      "execution_count": 2,
      "outputs": [
        {
          "output_type": "execute_result",
          "data": {
            "text/plain": [
              "[[30, 30, 30, 0, 0, 0],\n",
              " [30, 30, 30, 0, 0, 0],\n",
              " [30, 30, 30, 0, 0, 0],\n",
              " [30, 30, 30, 0, 0, 0],\n",
              " [30, 30, 30, 0, 0, 0],\n",
              " [30, 30, 30, 0, 0, 1]]"
            ]
          },
          "metadata": {},
          "execution_count": 2
        }
      ]
    },
    {
      "cell_type": "code",
      "source": [
        "myimg = np.array(myimg)\n",
        "myimg"
      ],
      "metadata": {
        "colab": {
          "base_uri": "https://localhost:8080/"
        },
        "id": "nZN78YxrIuSa",
        "outputId": "7085a0f0-e4ac-40c2-9e6f-433b7bfa3cbb"
      },
      "execution_count": 3,
      "outputs": [
        {
          "output_type": "execute_result",
          "data": {
            "text/plain": [
              "array([[30, 30, 30,  0,  0,  0],\n",
              "       [30, 30, 30,  0,  0,  0],\n",
              "       [30, 30, 30,  0,  0,  0],\n",
              "       [30, 30, 30,  0,  0,  0],\n",
              "       [30, 30, 30,  0,  0,  0],\n",
              "       [30, 30, 30,  0,  0,  1]])"
            ]
          },
          "metadata": {},
          "execution_count": 3
        }
      ]
    },
    {
      "cell_type": "code",
      "source": [
        "myimg[0]"
      ],
      "metadata": {
        "colab": {
          "base_uri": "https://localhost:8080/"
        },
        "id": "eGcqWC1pJnpI",
        "outputId": "a46f73e6-f167-4143-a249-fb66a1cdd790"
      },
      "execution_count": 4,
      "outputs": [
        {
          "output_type": "execute_result",
          "data": {
            "text/plain": [
              "array([30, 30, 30,  0,  0,  0])"
            ]
          },
          "metadata": {},
          "execution_count": 4
        }
      ]
    },
    {
      "cell_type": "code",
      "source": [
        "myimg[:,0]"
      ],
      "metadata": {
        "colab": {
          "base_uri": "https://localhost:8080/"
        },
        "id": "KytYbSnYJvZd",
        "outputId": "c14213e4-0b02-484b-8287-1d1ae81a98af"
      },
      "execution_count": 5,
      "outputs": [
        {
          "output_type": "execute_result",
          "data": {
            "text/plain": [
              "array([30, 30, 30, 30, 30, 30])"
            ]
          },
          "metadata": {},
          "execution_count": 5
        }
      ]
    },
    {
      "cell_type": "code",
      "source": [
        "myimg[:3]"
      ],
      "metadata": {
        "colab": {
          "base_uri": "https://localhost:8080/"
        },
        "id": "O3yyzIrxJ04O",
        "outputId": "464f2c8a-ffea-46c8-f982-75aec16e62eb"
      },
      "execution_count": 6,
      "outputs": [
        {
          "output_type": "execute_result",
          "data": {
            "text/plain": [
              "array([[30, 30, 30,  0,  0,  0],\n",
              "       [30, 30, 30,  0,  0,  0],\n",
              "       [30, 30, 30,  0,  0,  0]])"
            ]
          },
          "metadata": {},
          "execution_count": 6
        }
      ]
    },
    {
      "cell_type": "code",
      "source": [
        "myimg[:3,:]"
      ],
      "metadata": {
        "colab": {
          "base_uri": "https://localhost:8080/"
        },
        "id": "q6WylOxBJ5qF",
        "outputId": "d3807c79-5524-4690-ad57-66fe6234434f"
      },
      "execution_count": 7,
      "outputs": [
        {
          "output_type": "execute_result",
          "data": {
            "text/plain": [
              "array([[30, 30, 30,  0,  0,  0],\n",
              "       [30, 30, 30,  0,  0,  0],\n",
              "       [30, 30, 30,  0,  0,  0]])"
            ]
          },
          "metadata": {},
          "execution_count": 7
        }
      ]
    },
    {
      "cell_type": "code",
      "source": [
        "myimg[:,:3]"
      ],
      "metadata": {
        "colab": {
          "base_uri": "https://localhost:8080/"
        },
        "id": "TKaw_MEHKFFQ",
        "outputId": "e7d58084-f707-46dd-e3f9-9dd1dc742285"
      },
      "execution_count": 8,
      "outputs": [
        {
          "output_type": "execute_result",
          "data": {
            "text/plain": [
              "array([[30, 30, 30],\n",
              "       [30, 30, 30],\n",
              "       [30, 30, 30],\n",
              "       [30, 30, 30],\n",
              "       [30, 30, 30],\n",
              "       [30, 30, 30]])"
            ]
          },
          "metadata": {},
          "execution_count": 8
        }
      ]
    },
    {
      "cell_type": "code",
      "source": [
        "my3x3 = myimg[:3,:3]\n",
        "my3x3"
      ],
      "metadata": {
        "colab": {
          "base_uri": "https://localhost:8080/"
        },
        "id": "lPcKg5NgKTcd",
        "outputId": "d0e39fa0-37c7-4ea4-db03-23599725aa25"
      },
      "execution_count": 9,
      "outputs": [
        {
          "output_type": "execute_result",
          "data": {
            "text/plain": [
              "array([[30, 30, 30],\n",
              "       [30, 30, 30],\n",
              "       [30, 30, 30]])"
            ]
          },
          "metadata": {},
          "execution_count": 9
        }
      ]
    },
    {
      "cell_type": "code",
      "source": [
        "myvertedge = np.array([[-1, 0, 1],[-1, 0, 1],[-1, 0, 1]])\n",
        "myvertedge"
      ],
      "metadata": {
        "colab": {
          "base_uri": "https://localhost:8080/"
        },
        "id": "2uNV4sJFKXVY",
        "outputId": "26dc8086-bf47-43ab-bfd3-8da7cc298507"
      },
      "execution_count": 10,
      "outputs": [
        {
          "output_type": "execute_result",
          "data": {
            "text/plain": [
              "array([[-1,  0,  1],\n",
              "       [-1,  0,  1],\n",
              "       [-1,  0,  1]])"
            ]
          },
          "metadata": {},
          "execution_count": 10
        }
      ]
    },
    {
      "cell_type": "code",
      "source": [
        "my3x3[:,0]"
      ],
      "metadata": {
        "colab": {
          "base_uri": "https://localhost:8080/"
        },
        "id": "3bTJHqK_LBEF",
        "outputId": "9ef20f9b-2f27-487f-fd80-98571c748e60"
      },
      "execution_count": 11,
      "outputs": [
        {
          "output_type": "execute_result",
          "data": {
            "text/plain": [
              "array([30, 30, 30])"
            ]
          },
          "metadata": {},
          "execution_count": 11
        }
      ]
    },
    {
      "cell_type": "code",
      "source": [
        "myvertedge[:,0]"
      ],
      "metadata": {
        "colab": {
          "base_uri": "https://localhost:8080/"
        },
        "id": "8YkhfMwVKtSL",
        "outputId": "460a89f5-ad0f-4b04-f288-d7e7472caee1"
      },
      "execution_count": 13,
      "outputs": [
        {
          "output_type": "execute_result",
          "data": {
            "text/plain": [
              "array([-1, -1, -1])"
            ]
          },
          "metadata": {},
          "execution_count": 13
        }
      ]
    },
    {
      "cell_type": "code",
      "source": [
        "my3x3[:,0] @ myvertedge[:,0]"
      ],
      "metadata": {
        "colab": {
          "base_uri": "https://localhost:8080/"
        },
        "id": "Anv8U_qgModN",
        "outputId": "b9bc4d3c-9700-4c93-bdd9-9bee3cdff58b"
      },
      "execution_count": 14,
      "outputs": [
        {
          "output_type": "execute_result",
          "data": {
            "text/plain": [
              "-90"
            ]
          },
          "metadata": {},
          "execution_count": 14
        }
      ]
    },
    {
      "cell_type": "code",
      "source": [
        "my3x3[:,1]"
      ],
      "metadata": {
        "colab": {
          "base_uri": "https://localhost:8080/"
        },
        "id": "S0ig1GhiMvZD",
        "outputId": "b89e82cb-0f1a-47dc-8406-61a6aee7d52d"
      },
      "execution_count": 15,
      "outputs": [
        {
          "output_type": "execute_result",
          "data": {
            "text/plain": [
              "array([30, 30, 30])"
            ]
          },
          "metadata": {},
          "execution_count": 15
        }
      ]
    },
    {
      "cell_type": "code",
      "source": [
        "myvertedge[:,1]"
      ],
      "metadata": {
        "colab": {
          "base_uri": "https://localhost:8080/"
        },
        "id": "i2BxdFUUMvks",
        "outputId": "8ea1dfe6-2a91-47a0-a5e4-97a4eb29425d"
      },
      "execution_count": 16,
      "outputs": [
        {
          "output_type": "execute_result",
          "data": {
            "text/plain": [
              "array([0, 0, 0])"
            ]
          },
          "metadata": {},
          "execution_count": 16
        }
      ]
    },
    {
      "cell_type": "code",
      "source": [
        "my3x3[:,1] @ myvertedge[:,1]"
      ],
      "metadata": {
        "colab": {
          "base_uri": "https://localhost:8080/"
        },
        "id": "suNvWaAlM_SW",
        "outputId": "060d4759-a204-4c7f-a4e2-25b26a2072f5"
      },
      "execution_count": 17,
      "outputs": [
        {
          "output_type": "execute_result",
          "data": {
            "text/plain": [
              "0"
            ]
          },
          "metadata": {},
          "execution_count": 17
        }
      ]
    },
    {
      "cell_type": "code",
      "source": [
        "myvertedge[:,2]"
      ],
      "metadata": {
        "colab": {
          "base_uri": "https://localhost:8080/"
        },
        "id": "BIavTuV6Mvrj",
        "outputId": "25b8b897-ac18-4558-930a-57aaf9d999b9"
      },
      "execution_count": 18,
      "outputs": [
        {
          "output_type": "execute_result",
          "data": {
            "text/plain": [
              "array([1, 1, 1])"
            ]
          },
          "metadata": {},
          "execution_count": 18
        }
      ]
    },
    {
      "cell_type": "code",
      "source": [
        "my3x3[:,2] @ myvertedge[:,2]"
      ],
      "metadata": {
        "colab": {
          "base_uri": "https://localhost:8080/"
        },
        "id": "pScRyn0HM6HT",
        "outputId": "74cea0af-1e97-41fb-cdfd-805462b9fdb6"
      },
      "execution_count": 19,
      "outputs": [
        {
          "output_type": "execute_result",
          "data": {
            "text/plain": [
              "90"
            ]
          },
          "metadata": {},
          "execution_count": 19
        }
      ]
    },
    {
      "cell_type": "code",
      "source": [
        "my3x3[:,0] @ myvertedge[:,0] + my3x3[:,1] @ myvertedge[:,1] + my3x3[:,2] @ myvertedge[:,2]"
      ],
      "metadata": {
        "colab": {
          "base_uri": "https://localhost:8080/"
        },
        "id": "SRXsFAnaNKVg",
        "outputId": "7d744dcd-eda7-40bc-b987-85e4fbe17952"
      },
      "execution_count": 20,
      "outputs": [
        {
          "output_type": "execute_result",
          "data": {
            "text/plain": [
              "0"
            ]
          },
          "metadata": {},
          "execution_count": 20
        }
      ]
    },
    {
      "cell_type": "code",
      "source": [
        "my3x3 = myimg[1:4,1:4]\n",
        "my3x3"
      ],
      "metadata": {
        "colab": {
          "base_uri": "https://localhost:8080/"
        },
        "id": "yTmmVYLyK5qs",
        "outputId": "7f1a51bf-28d7-453b-d5fe-b007c2d9e5a4"
      },
      "execution_count": 21,
      "outputs": [
        {
          "output_type": "execute_result",
          "data": {
            "text/plain": [
              "array([[30, 30,  0],\n",
              "       [30, 30,  0],\n",
              "       [30, 30,  0]])"
            ]
          },
          "metadata": {},
          "execution_count": 21
        }
      ]
    },
    {
      "cell_type": "code",
      "source": [
        "my3x3[:,0] @ myvertedge[:,0]"
      ],
      "metadata": {
        "colab": {
          "base_uri": "https://localhost:8080/"
        },
        "id": "mT5vmgwuLN9l",
        "outputId": "322a5ee4-f8a9-470f-dbe8-a2065c2d3ba4"
      },
      "execution_count": 22,
      "outputs": [
        {
          "output_type": "execute_result",
          "data": {
            "text/plain": [
              "-90"
            ]
          },
          "metadata": {},
          "execution_count": 22
        }
      ]
    },
    {
      "cell_type": "code",
      "source": [
        "my3x3[:,1] @ myvertedge[:,1]"
      ],
      "metadata": {
        "colab": {
          "base_uri": "https://localhost:8080/"
        },
        "id": "_dThj5FSLnYw",
        "outputId": "bddbb8a4-fc42-450f-e2bf-77b7a359ef89"
      },
      "execution_count": 23,
      "outputs": [
        {
          "output_type": "execute_result",
          "data": {
            "text/plain": [
              "0"
            ]
          },
          "metadata": {},
          "execution_count": 23
        }
      ]
    },
    {
      "cell_type": "code",
      "source": [
        "my3x3[:,2] @ myvertedge[:,2]"
      ],
      "metadata": {
        "colab": {
          "base_uri": "https://localhost:8080/"
        },
        "id": "7T5EFRTlMHjd",
        "outputId": "0d2c8f18-e717-4def-f2b9-8e65dfcecffa"
      },
      "execution_count": 24,
      "outputs": [
        {
          "output_type": "execute_result",
          "data": {
            "text/plain": [
              "0"
            ]
          },
          "metadata": {},
          "execution_count": 24
        }
      ]
    },
    {
      "cell_type": "code",
      "source": [
        "my3x3[:,0] @ myvertedge[:,0] + my3x3[:,1] @ myvertedge[:,1] + my3x3[:,2] @ myvertedge[:,2]"
      ],
      "metadata": {
        "colab": {
          "base_uri": "https://localhost:8080/"
        },
        "id": "4lbUENzzMK65",
        "outputId": "c6c51211-cf34-4cb0-bdda-7cd25a91bc03"
      },
      "execution_count": 25,
      "outputs": [
        {
          "output_type": "execute_result",
          "data": {
            "text/plain": [
              "-90"
            ]
          },
          "metadata": {},
          "execution_count": 25
        }
      ]
    },
    {
      "cell_type": "code",
      "source": [
        "my3x3 = myimg[2:5,2:5]\n",
        "my3x3"
      ],
      "metadata": {
        "colab": {
          "base_uri": "https://localhost:8080/"
        },
        "id": "FF_s-EnTMOtR",
        "outputId": "7bfe109d-42fb-40fb-b7cf-3b6abe676bbc"
      },
      "execution_count": 26,
      "outputs": [
        {
          "output_type": "execute_result",
          "data": {
            "text/plain": [
              "array([[30,  0,  0],\n",
              "       [30,  0,  0],\n",
              "       [30,  0,  0]])"
            ]
          },
          "metadata": {},
          "execution_count": 26
        }
      ]
    },
    {
      "cell_type": "code",
      "source": [
        "my3x3[:,0] @ myvertedge[:,0]"
      ],
      "metadata": {
        "colab": {
          "base_uri": "https://localhost:8080/"
        },
        "id": "VC1zgCH6MRwy",
        "outputId": "987a2746-7e38-428c-e041-d9266b91d61f"
      },
      "execution_count": 27,
      "outputs": [
        {
          "output_type": "execute_result",
          "data": {
            "text/plain": [
              "-90"
            ]
          },
          "metadata": {},
          "execution_count": 27
        }
      ]
    },
    {
      "cell_type": "code",
      "source": [
        "my3x3[:,1] @ myvertedge[:,1]"
      ],
      "metadata": {
        "colab": {
          "base_uri": "https://localhost:8080/"
        },
        "id": "RWdFrXY2NqoB",
        "outputId": "29e30aeb-93d5-4928-8875-55f9994701f8"
      },
      "execution_count": 28,
      "outputs": [
        {
          "output_type": "execute_result",
          "data": {
            "text/plain": [
              "0"
            ]
          },
          "metadata": {},
          "execution_count": 28
        }
      ]
    },
    {
      "cell_type": "code",
      "source": [
        "my3x3[:,2] @ myvertedge[:,2]"
      ],
      "metadata": {
        "colab": {
          "base_uri": "https://localhost:8080/"
        },
        "id": "aaeJlzQ5MSXh",
        "outputId": "fcd6c15b-a4fe-4767-de34-c5ce2137ac48"
      },
      "execution_count": 29,
      "outputs": [
        {
          "output_type": "execute_result",
          "data": {
            "text/plain": [
              "0"
            ]
          },
          "metadata": {},
          "execution_count": 29
        }
      ]
    },
    {
      "cell_type": "code",
      "source": [
        "my3x3[:,0] @ myvertedge[:,0] + my3x3[:,1] @ myvertedge[:,1] + my3x3[:,2] @ myvertedge[:,2]"
      ],
      "metadata": {
        "colab": {
          "base_uri": "https://localhost:8080/"
        },
        "id": "Xdwh3mYEMTFx",
        "outputId": "1c924696-b3ff-4958-befa-c6551e7b7349"
      },
      "execution_count": 30,
      "outputs": [
        {
          "output_type": "execute_result",
          "data": {
            "text/plain": [
              "-90"
            ]
          },
          "metadata": {},
          "execution_count": 30
        }
      ]
    },
    {
      "cell_type": "code",
      "source": [
        "myimg.shape"
      ],
      "metadata": {
        "colab": {
          "base_uri": "https://localhost:8080/"
        },
        "id": "_A0girtlOCDV",
        "outputId": "1bbca4c9-9b08-4e13-ec98-9d9bb5d63ff8"
      },
      "execution_count": 31,
      "outputs": [
        {
          "output_type": "execute_result",
          "data": {
            "text/plain": [
              "(6, 6)"
            ]
          },
          "metadata": {},
          "execution_count": 31
        }
      ]
    },
    {
      "cell_type": "code",
      "source": [
        "myvertedge.shape"
      ],
      "metadata": {
        "colab": {
          "base_uri": "https://localhost:8080/"
        },
        "id": "ae2ENRUGOFo8",
        "outputId": "0242c9fb-3b89-44ac-f699-9f40feb70e9d"
      },
      "execution_count": 32,
      "outputs": [
        {
          "output_type": "execute_result",
          "data": {
            "text/plain": [
              "(3, 3)"
            ]
          },
          "metadata": {},
          "execution_count": 32
        }
      ]
    },
    {
      "cell_type": "code",
      "source": [
        "np.array(myimg.shape)"
      ],
      "metadata": {
        "colab": {
          "base_uri": "https://localhost:8080/"
        },
        "id": "BylWRwUmOWhF",
        "outputId": "635dbe06-92cb-4c10-9537-a52c62e9661e"
      },
      "execution_count": 33,
      "outputs": [
        {
          "output_type": "execute_result",
          "data": {
            "text/plain": [
              "array([6, 6])"
            ]
          },
          "metadata": {},
          "execution_count": 33
        }
      ]
    },
    {
      "cell_type": "code",
      "source": [
        "np.array(myimg.shape) - np.array(myvertedge.shape)"
      ],
      "metadata": {
        "colab": {
          "base_uri": "https://localhost:8080/"
        },
        "id": "HnOeGg6ROLr0",
        "outputId": "ff629ede-3102-428a-f65c-99661f3ef28b"
      },
      "execution_count": 34,
      "outputs": [
        {
          "output_type": "execute_result",
          "data": {
            "text/plain": [
              "array([3, 3])"
            ]
          },
          "metadata": {},
          "execution_count": 34
        }
      ]
    },
    {
      "cell_type": "code",
      "source": [
        "myimg = np.array([[30,30,30,0,0,0],[30,30,30,0,0,0],[30,30,30,0,0,0],[30,30,30,0,0,0],[30,30,30,0,0,0],[30,30,30,0,0,1]])\n",
        "myimg"
      ],
      "metadata": {
        "colab": {
          "base_uri": "https://localhost:8080/"
        },
        "id": "yi_bnXELO8fq",
        "outputId": "4373ca1a-287f-47a5-d9ec-e8b03705cc6d"
      },
      "execution_count": 35,
      "outputs": [
        {
          "output_type": "execute_result",
          "data": {
            "text/plain": [
              "array([[30, 30, 30,  0,  0,  0],\n",
              "       [30, 30, 30,  0,  0,  0],\n",
              "       [30, 30, 30,  0,  0,  0],\n",
              "       [30, 30, 30,  0,  0,  0],\n",
              "       [30, 30, 30,  0,  0,  0],\n",
              "       [30, 30, 30,  0,  0,  1]])"
            ]
          },
          "metadata": {},
          "execution_count": 35
        }
      ]
    },
    {
      "cell_type": "code",
      "source": [
        "my3x3 = myimg[3:6,0:3]\n",
        "my3x3"
      ],
      "metadata": {
        "colab": {
          "base_uri": "https://localhost:8080/"
        },
        "id": "3HZZsg03OQ65",
        "outputId": "8f62a890-eb29-41f4-8c26-5a3d1f03a8cb"
      },
      "execution_count": 36,
      "outputs": [
        {
          "output_type": "execute_result",
          "data": {
            "text/plain": [
              "array([[30, 30, 30],\n",
              "       [30, 30, 30],\n",
              "       [30, 30, 30]])"
            ]
          },
          "metadata": {},
          "execution_count": 36
        }
      ]
    },
    {
      "cell_type": "code",
      "source": [
        "def myconv2d(X,convKernel):\n",
        "  xlen = myimg.shape[1]\n",
        "  ylen = myimg.shape[0]\n",
        "  convklen = convKernel.shape[0]\n",
        "  for j in range(0,ylen):\n",
        "    for i in range(0,xlen):\n",
        "      my3x3 = myimg[j:j+convklen,i:i+convklen]\n",
        "      print(my3x3)"
      ],
      "metadata": {
        "id": "tuAV44MSNu0-"
      },
      "execution_count": 37,
      "outputs": []
    },
    {
      "cell_type": "code",
      "source": [
        "myconv2d(myimg, myvertedge)"
      ],
      "metadata": {
        "colab": {
          "base_uri": "https://localhost:8080/"
        },
        "id": "DtFTLo4bR054",
        "outputId": "b91f3f64-888a-4c2a-ae5e-e2559a44550b"
      },
      "execution_count": 38,
      "outputs": [
        {
          "output_type": "stream",
          "name": "stdout",
          "text": [
            "[[30 30 30]\n",
            " [30 30 30]\n",
            " [30 30 30]]\n",
            "[[30 30  0]\n",
            " [30 30  0]\n",
            " [30 30  0]]\n",
            "[[30  0  0]\n",
            " [30  0  0]\n",
            " [30  0  0]]\n",
            "[[0 0 0]\n",
            " [0 0 0]\n",
            " [0 0 0]]\n",
            "[[0 0]\n",
            " [0 0]\n",
            " [0 0]]\n",
            "[[0]\n",
            " [0]\n",
            " [0]]\n",
            "[[30 30 30]\n",
            " [30 30 30]\n",
            " [30 30 30]]\n",
            "[[30 30  0]\n",
            " [30 30  0]\n",
            " [30 30  0]]\n",
            "[[30  0  0]\n",
            " [30  0  0]\n",
            " [30  0  0]]\n",
            "[[0 0 0]\n",
            " [0 0 0]\n",
            " [0 0 0]]\n",
            "[[0 0]\n",
            " [0 0]\n",
            " [0 0]]\n",
            "[[0]\n",
            " [0]\n",
            " [0]]\n",
            "[[30 30 30]\n",
            " [30 30 30]\n",
            " [30 30 30]]\n",
            "[[30 30  0]\n",
            " [30 30  0]\n",
            " [30 30  0]]\n",
            "[[30  0  0]\n",
            " [30  0  0]\n",
            " [30  0  0]]\n",
            "[[0 0 0]\n",
            " [0 0 0]\n",
            " [0 0 0]]\n",
            "[[0 0]\n",
            " [0 0]\n",
            " [0 0]]\n",
            "[[0]\n",
            " [0]\n",
            " [0]]\n",
            "[[30 30 30]\n",
            " [30 30 30]\n",
            " [30 30 30]]\n",
            "[[30 30  0]\n",
            " [30 30  0]\n",
            " [30 30  0]]\n",
            "[[30  0  0]\n",
            " [30  0  0]\n",
            " [30  0  0]]\n",
            "[[0 0 0]\n",
            " [0 0 0]\n",
            " [0 0 1]]\n",
            "[[0 0]\n",
            " [0 0]\n",
            " [0 1]]\n",
            "[[0]\n",
            " [0]\n",
            " [1]]\n",
            "[[30 30 30]\n",
            " [30 30 30]]\n",
            "[[30 30  0]\n",
            " [30 30  0]]\n",
            "[[30  0  0]\n",
            " [30  0  0]]\n",
            "[[0 0 0]\n",
            " [0 0 1]]\n",
            "[[0 0]\n",
            " [0 1]]\n",
            "[[0]\n",
            " [1]]\n",
            "[[30 30 30]]\n",
            "[[30 30  0]]\n",
            "[[30  0  0]]\n",
            "[[0 0 1]]\n",
            "[[0 1]]\n",
            "[[1]]\n"
          ]
        }
      ]
    },
    {
      "cell_type": "code",
      "source": [
        "def myconv2d(X,convKernel):\n",
        "  xlen = myimg.shape[1]\n",
        "  ylen = myimg.shape[0]\n",
        "  convklen = convKernel.shape[0]\n",
        "  for j in range(0,ylen):\n",
        "    for i in range(0,xlen-convklen+1):\n",
        "      my3x3 = myimg[j:j+convklen,i:i+convklen]\n",
        "      print(my3x3)"
      ],
      "metadata": {
        "id": "3f85_sMdOs-R"
      },
      "execution_count": 40,
      "outputs": []
    },
    {
      "cell_type": "code",
      "source": [
        "myconv2d(myimg, myvertedge)"
      ],
      "metadata": {
        "colab": {
          "base_uri": "https://localhost:8080/"
        },
        "id": "kuyVyHvhQGu1",
        "outputId": "9dc16cdb-5232-4cc1-ad18-c3ee8c6fa8ca"
      },
      "execution_count": 41,
      "outputs": [
        {
          "output_type": "stream",
          "name": "stdout",
          "text": [
            "[[30 30 30]\n",
            " [30 30 30]\n",
            " [30 30 30]]\n",
            "[[30 30  0]\n",
            " [30 30  0]\n",
            " [30 30  0]]\n",
            "[[30  0  0]\n",
            " [30  0  0]\n",
            " [30  0  0]]\n",
            "[[0 0 0]\n",
            " [0 0 0]\n",
            " [0 0 0]]\n",
            "[[30 30 30]\n",
            " [30 30 30]\n",
            " [30 30 30]]\n",
            "[[30 30  0]\n",
            " [30 30  0]\n",
            " [30 30  0]]\n",
            "[[30  0  0]\n",
            " [30  0  0]\n",
            " [30  0  0]]\n",
            "[[0 0 0]\n",
            " [0 0 0]\n",
            " [0 0 0]]\n",
            "[[30 30 30]\n",
            " [30 30 30]\n",
            " [30 30 30]]\n",
            "[[30 30  0]\n",
            " [30 30  0]\n",
            " [30 30  0]]\n",
            "[[30  0  0]\n",
            " [30  0  0]\n",
            " [30  0  0]]\n",
            "[[0 0 0]\n",
            " [0 0 0]\n",
            " [0 0 0]]\n",
            "[[30 30 30]\n",
            " [30 30 30]\n",
            " [30 30 30]]\n",
            "[[30 30  0]\n",
            " [30 30  0]\n",
            " [30 30  0]]\n",
            "[[30  0  0]\n",
            " [30  0  0]\n",
            " [30  0  0]]\n",
            "[[0 0 0]\n",
            " [0 0 0]\n",
            " [0 0 1]]\n",
            "[[30 30 30]\n",
            " [30 30 30]]\n",
            "[[30 30  0]\n",
            " [30 30  0]]\n",
            "[[30  0  0]\n",
            " [30  0  0]]\n",
            "[[0 0 0]\n",
            " [0 0 1]]\n",
            "[[30 30 30]]\n",
            "[[30 30  0]]\n",
            "[[30  0  0]]\n",
            "[[0 0 1]]\n"
          ]
        }
      ]
    },
    {
      "cell_type": "code",
      "source": [
        "def myconv2d(X,convKernel):\n",
        "  xlen = myimg.shape[1]\n",
        "  ylen = myimg.shape[0]\n",
        "  convklen = convKernel.shape[0]\n",
        "  for j in range(0,ylen-convklen+1):\n",
        "    for i in range(0,xlen-convklen+1):\n",
        "      my3x3 = myimg[j:j+convklen,i:i+convklen]\n",
        "      print(my3x3)"
      ],
      "metadata": {
        "id": "MRK4159NR2qd"
      },
      "execution_count": 42,
      "outputs": []
    },
    {
      "cell_type": "code",
      "source": [
        "myconv2d(myimg, myvertedge)"
      ],
      "metadata": {
        "colab": {
          "base_uri": "https://localhost:8080/"
        },
        "id": "TqycYynaRIpf",
        "outputId": "43cbab23-8719-46c9-a026-d5338d7dcffc"
      },
      "execution_count": 43,
      "outputs": [
        {
          "output_type": "stream",
          "name": "stdout",
          "text": [
            "[[30 30 30]\n",
            " [30 30 30]\n",
            " [30 30 30]]\n",
            "[[30 30  0]\n",
            " [30 30  0]\n",
            " [30 30  0]]\n",
            "[[30  0  0]\n",
            " [30  0  0]\n",
            " [30  0  0]]\n",
            "[[0 0 0]\n",
            " [0 0 0]\n",
            " [0 0 0]]\n",
            "[[30 30 30]\n",
            " [30 30 30]\n",
            " [30 30 30]]\n",
            "[[30 30  0]\n",
            " [30 30  0]\n",
            " [30 30  0]]\n",
            "[[30  0  0]\n",
            " [30  0  0]\n",
            " [30  0  0]]\n",
            "[[0 0 0]\n",
            " [0 0 0]\n",
            " [0 0 0]]\n",
            "[[30 30 30]\n",
            " [30 30 30]\n",
            " [30 30 30]]\n",
            "[[30 30  0]\n",
            " [30 30  0]\n",
            " [30 30  0]]\n",
            "[[30  0  0]\n",
            " [30  0  0]\n",
            " [30  0  0]]\n",
            "[[0 0 0]\n",
            " [0 0 0]\n",
            " [0 0 0]]\n",
            "[[30 30 30]\n",
            " [30 30 30]\n",
            " [30 30 30]]\n",
            "[[30 30  0]\n",
            " [30 30  0]\n",
            " [30 30  0]]\n",
            "[[30  0  0]\n",
            " [30  0  0]\n",
            " [30  0  0]]\n",
            "[[0 0 0]\n",
            " [0 0 0]\n",
            " [0 0 1]]\n"
          ]
        }
      ]
    },
    {
      "cell_type": "code",
      "source": [
        "def myconv2d(X,convKernel):\n",
        "  xlen = myimg.shape[1]\n",
        "  ylen = myimg.shape[0]\n",
        "  convklen = convKernel.shape[0]\n",
        "  for j in range(0,ylen-convklen+1):\n",
        "    for i in range(0,xlen-convklen+1):\n",
        "      my3x3 = myimg[j:j+convklen,i:i+convklen]\n",
        "      convtransform = my3x3[:,0] @ myvertedge[:,0] + my3x3[:,1] @ myvertedge[:,1] + my3x3[:,2] @ myvertedge[:,2]\n",
        "      print(convtransform)"
      ],
      "metadata": {
        "id": "1MZU5JqPSMuB"
      },
      "execution_count": 44,
      "outputs": []
    },
    {
      "cell_type": "code",
      "source": [
        "myconv2d(myimg, myvertedge)"
      ],
      "metadata": {
        "colab": {
          "base_uri": "https://localhost:8080/"
        },
        "id": "w36BVHW3SfB2",
        "outputId": "2e965480-9d23-446b-e7cc-f0c33c5f1ff2"
      },
      "execution_count": 45,
      "outputs": [
        {
          "output_type": "stream",
          "name": "stdout",
          "text": [
            "0\n",
            "-90\n",
            "-90\n",
            "0\n",
            "0\n",
            "-90\n",
            "-90\n",
            "0\n",
            "0\n",
            "-90\n",
            "-90\n",
            "0\n",
            "0\n",
            "-90\n",
            "-90\n",
            "1\n"
          ]
        }
      ]
    },
    {
      "cell_type": "code",
      "source": [
        "np.zeros((4,4))"
      ],
      "metadata": {
        "colab": {
          "base_uri": "https://localhost:8080/"
        },
        "id": "TDBxFZKLSflw",
        "outputId": "45ef1a59-48f8-4b3d-817f-e25bf6f5db76"
      },
      "execution_count": null,
      "outputs": [
        {
          "output_type": "execute_result",
          "data": {
            "text/plain": [
              "array([[0., 0., 0., 0.],\n",
              "       [0., 0., 0., 0.],\n",
              "       [0., 0., 0., 0.],\n",
              "       [0., 0., 0., 0.]])"
            ]
          },
          "metadata": {},
          "execution_count": 109
        }
      ]
    },
    {
      "cell_type": "code",
      "source": [
        "def myconv2d(X,convKernel):\n",
        "  myconv2dtransformimg = np.zeros((4,4))\n",
        "  xlen = myimg.shape[1]\n",
        "  ylen = myimg.shape[0]\n",
        "  convklen = convKernel.shape[0]\n",
        "  for j in range(0,ylen-convklen+1):\n",
        "    for i in range(0,xlen-convklen+1):\n",
        "      my3x3 = myimg[j:j+convklen,i:i+convklen]\n",
        "      convtransform = my3x3[:,0] @ myvertedge[:,0] + my3x3[:,1] @ myvertedge[:,1] + my3x3[:,2] @ myvertedge[:,2]\n",
        "      myconv2dtransformimg[j,i] = convtransform\n",
        "      print(myconv2dtransformimg)"
      ],
      "metadata": {
        "id": "kDf8-9VzStLJ"
      },
      "execution_count": 46,
      "outputs": []
    },
    {
      "cell_type": "code",
      "source": [
        "myconv2d(myimg, myvertedge)"
      ],
      "metadata": {
        "colab": {
          "base_uri": "https://localhost:8080/"
        },
        "id": "biQ9nZYXTCqm",
        "outputId": "f6473959-e98c-4724-c879-7aca70975939"
      },
      "execution_count": 47,
      "outputs": [
        {
          "output_type": "stream",
          "name": "stdout",
          "text": [
            "[[0. 0. 0. 0.]\n",
            " [0. 0. 0. 0.]\n",
            " [0. 0. 0. 0.]\n",
            " [0. 0. 0. 0.]]\n",
            "[[  0. -90.   0.   0.]\n",
            " [  0.   0.   0.   0.]\n",
            " [  0.   0.   0.   0.]\n",
            " [  0.   0.   0.   0.]]\n",
            "[[  0. -90. -90.   0.]\n",
            " [  0.   0.   0.   0.]\n",
            " [  0.   0.   0.   0.]\n",
            " [  0.   0.   0.   0.]]\n",
            "[[  0. -90. -90.   0.]\n",
            " [  0.   0.   0.   0.]\n",
            " [  0.   0.   0.   0.]\n",
            " [  0.   0.   0.   0.]]\n",
            "[[  0. -90. -90.   0.]\n",
            " [  0.   0.   0.   0.]\n",
            " [  0.   0.   0.   0.]\n",
            " [  0.   0.   0.   0.]]\n",
            "[[  0. -90. -90.   0.]\n",
            " [  0. -90.   0.   0.]\n",
            " [  0.   0.   0.   0.]\n",
            " [  0.   0.   0.   0.]]\n",
            "[[  0. -90. -90.   0.]\n",
            " [  0. -90. -90.   0.]\n",
            " [  0.   0.   0.   0.]\n",
            " [  0.   0.   0.   0.]]\n",
            "[[  0. -90. -90.   0.]\n",
            " [  0. -90. -90.   0.]\n",
            " [  0.   0.   0.   0.]\n",
            " [  0.   0.   0.   0.]]\n",
            "[[  0. -90. -90.   0.]\n",
            " [  0. -90. -90.   0.]\n",
            " [  0.   0.   0.   0.]\n",
            " [  0.   0.   0.   0.]]\n",
            "[[  0. -90. -90.   0.]\n",
            " [  0. -90. -90.   0.]\n",
            " [  0. -90.   0.   0.]\n",
            " [  0.   0.   0.   0.]]\n",
            "[[  0. -90. -90.   0.]\n",
            " [  0. -90. -90.   0.]\n",
            " [  0. -90. -90.   0.]\n",
            " [  0.   0.   0.   0.]]\n",
            "[[  0. -90. -90.   0.]\n",
            " [  0. -90. -90.   0.]\n",
            " [  0. -90. -90.   0.]\n",
            " [  0.   0.   0.   0.]]\n",
            "[[  0. -90. -90.   0.]\n",
            " [  0. -90. -90.   0.]\n",
            " [  0. -90. -90.   0.]\n",
            " [  0.   0.   0.   0.]]\n",
            "[[  0. -90. -90.   0.]\n",
            " [  0. -90. -90.   0.]\n",
            " [  0. -90. -90.   0.]\n",
            " [  0. -90.   0.   0.]]\n",
            "[[  0. -90. -90.   0.]\n",
            " [  0. -90. -90.   0.]\n",
            " [  0. -90. -90.   0.]\n",
            " [  0. -90. -90.   0.]]\n",
            "[[  0. -90. -90.   0.]\n",
            " [  0. -90. -90.   0.]\n",
            " [  0. -90. -90.   0.]\n",
            " [  0. -90. -90.   1.]]\n"
          ]
        }
      ]
    },
    {
      "cell_type": "code",
      "source": [
        "def myconv2d(X,convKernel):\n",
        "  myconv2dtransformimg = np.zeros((4,4))\n",
        "  xlen = myimg.shape[1]\n",
        "  ylen = myimg.shape[0]\n",
        "  convklen = convKernel.shape[0]\n",
        "  for j in range(0,ylen-convklen+1):\n",
        "    for i in range(0,xlen-convklen+1):\n",
        "      my3x3 = myimg[j:j+convklen,i:i+convklen]\n",
        "      convtransform = my3x3[:,0] @ myvertedge[:,0] + my3x3[:,1] @ myvertedge[:,1] + my3x3[:,2] @ myvertedge[:,2]\n",
        "      myconv2dtransformimg[j,i] = convtransform\n",
        "  #print(myconv2dtransformimg)\n",
        "  return myconv2dtransformimg"
      ],
      "metadata": {
        "id": "p_VDPr3cTN14"
      },
      "execution_count": 48,
      "outputs": []
    },
    {
      "cell_type": "code",
      "source": [
        "myconv2d(myimg, myvertedge)"
      ],
      "metadata": {
        "colab": {
          "base_uri": "https://localhost:8080/"
        },
        "id": "yAxdBqWfTD8m",
        "outputId": "6e89bdfa-6bff-4eee-e8d3-03246cc5a9d0"
      },
      "execution_count": 49,
      "outputs": [
        {
          "output_type": "execute_result",
          "data": {
            "text/plain": [
              "array([[  0., -90., -90.,   0.],\n",
              "       [  0., -90., -90.,   0.],\n",
              "       [  0., -90., -90.,   0.],\n",
              "       [  0., -90., -90.,   1.]])"
            ]
          },
          "metadata": {},
          "execution_count": 49
        }
      ]
    },
    {
      "cell_type": "code",
      "source": [],
      "metadata": {
        "id": "PzDGrvQdTSgG"
      },
      "execution_count": null,
      "outputs": []
    }
  ]
}