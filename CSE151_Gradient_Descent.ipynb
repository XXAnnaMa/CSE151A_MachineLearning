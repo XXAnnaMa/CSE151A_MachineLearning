{
  "nbformat": 4,
  "nbformat_minor": 0,
  "metadata": {
    "colab": {
      "provenance": []
    },
    "kernelspec": {
      "name": "python3",
      "display_name": "Python 3"
    },
    "language_info": {
      "name": "python"
    }
  },
  "cells": [
    {
      "cell_type": "code",
      "execution_count": 1,
      "metadata": {
        "id": "8AIZuzGIjfD-"
      },
      "outputs": [],
      "source": [
        "import numpy as np\n",
        "import seaborn as sns\n",
        "import matplotlib.pyplot as plt"
      ]
    },
    {
      "cell_type": "markdown",
      "source": [
        "## Participation block"
      ],
      "metadata": {
        "id": "CG52ja-PAlyS"
      }
    },
    {
      "cell_type": "markdown",
      "source": [
        "We went over OLS and now GD math and concepts. How can we improve GD?\n",
        "**Ans:** To improve Gradient Descent, I would consider using a dynamic learning rate that adapts as the algorithm converges, adding momentum to reduce oscillations and speed up convergence, and exploring mini-batch or stochastic updates for more efficient and frequent adjustments. I’d also look into adaptive optimizers like Adam or RMSprop to automatically adjust the learning rate based on recent gradients, making GD more robust, accurate, and faster in reaching optimal solutions."
      ],
      "metadata": {
        "id": "SyhTCVXNAl_j"
      }
    },
    {
      "cell_type": "code",
      "source": [
        "# our variable init\n",
        "x = np.array([[1],[0],[1],[0]])\n",
        "bias = 0.5\n",
        "w = np.array([[1.2]]) # needs to be n,1\n",
        "y = np.array([[0],[1],[0],[1]])"
      ],
      "metadata": {
        "id": "1eCDqmdHka__"
      },
      "execution_count": 2,
      "outputs": []
    },
    {
      "cell_type": "code",
      "source": [
        "display(x.shape)\n",
        "display(w.shape)\n",
        "display(y.shape)"
      ],
      "metadata": {
        "id": "H_w0YYUlkzcs",
        "colab": {
          "base_uri": "https://localhost:8080/",
          "height": 71
        },
        "outputId": "e86b6b9e-075c-41cc-945e-74aaa0c82df9"
      },
      "execution_count": 3,
      "outputs": [
        {
          "output_type": "display_data",
          "data": {
            "text/plain": [
              "(4, 1)"
            ]
          },
          "metadata": {}
        },
        {
          "output_type": "display_data",
          "data": {
            "text/plain": [
              "(1, 1)"
            ]
          },
          "metadata": {}
        },
        {
          "output_type": "display_data",
          "data": {
            "text/plain": [
              "(4, 1)"
            ]
          },
          "metadata": {}
        }
      ]
    },
    {
      "cell_type": "code",
      "source": [
        "display(x)\n",
        "display(w)\n",
        "display(y)"
      ],
      "metadata": {
        "id": "CYaiyN3Jnklp",
        "colab": {
          "base_uri": "https://localhost:8080/",
          "height": 178
        },
        "outputId": "8e0f03f3-0492-4021-e11c-614c2338426b"
      },
      "execution_count": 4,
      "outputs": [
        {
          "output_type": "display_data",
          "data": {
            "text/plain": [
              "array([[1],\n",
              "       [0],\n",
              "       [1],\n",
              "       [0]])"
            ]
          },
          "metadata": {}
        },
        {
          "output_type": "display_data",
          "data": {
            "text/plain": [
              "array([[1.2]])"
            ]
          },
          "metadata": {}
        },
        {
          "output_type": "display_data",
          "data": {
            "text/plain": [
              "array([[0],\n",
              "       [1],\n",
              "       [0],\n",
              "       [1]])"
            ]
          },
          "metadata": {}
        }
      ]
    },
    {
      "cell_type": "code",
      "source": [
        "yhat = x@w+bias\n",
        "yhat"
      ],
      "metadata": {
        "id": "CYibLbqtTFg8",
        "colab": {
          "base_uri": "https://localhost:8080/"
        },
        "outputId": "7950b0ad-203e-444b-b3d0-72ed1b72ec46"
      },
      "execution_count": 5,
      "outputs": [
        {
          "output_type": "execute_result",
          "data": {
            "text/plain": [
              "array([[1.7],\n",
              "       [0.5],\n",
              "       [1.7],\n",
              "       [0.5]])"
            ]
          },
          "metadata": {},
          "execution_count": 5
        }
      ]
    },
    {
      "cell_type": "code",
      "source": [
        "plt.figure(figsize = (8,6))\n",
        "sns.scatterplot(x=x.squeeze(), y=y.squeeze())\n",
        "plt.plot([min(x), max(x)], [min(yhat), max(yhat)], color='red',markerfacecolor='red',\n",
        "             markersize=10,linestyle='dashed')"
      ],
      "metadata": {
        "id": "lUcjnt4gS82m",
        "colab": {
          "base_uri": "https://localhost:8080/",
          "height": 540
        },
        "outputId": "8eac7a31-d865-4682-c7c5-bbcdd541bb97"
      },
      "execution_count": 6,
      "outputs": [
        {
          "output_type": "execute_result",
          "data": {
            "text/plain": [
              "[<matplotlib.lines.Line2D at 0x7a601c46d330>]"
            ]
          },
          "metadata": {},
          "execution_count": 6
        },
        {
          "output_type": "display_data",
          "data": {
            "text/plain": [
              "<Figure size 800x600 with 1 Axes>"
            ],
            "image/png": "[encoded data removed]"
          },
          "metadata": {}
        }
      ]
    },
    {
      "cell_type": "code",
      "source": [],
      "metadata": {
        "id": "UApSRUFvTUNP"
      },
      "execution_count": 6,
      "outputs": []
    },
    {
      "cell_type": "code",
      "source": [
        "def mse_loss_fxn(x, w, bias, y):\n",
        "  mse = np.sum((x @ w + bias - y)**2)/y.shape[0]\n",
        "  return mse"
      ],
      "metadata": {
        "id": "5kCYp-r3n8dN"
      },
      "execution_count": 7,
      "outputs": []
    },
    {
      "cell_type": "code",
      "source": [
        "def bias_derivative(x, w, bias, y):\n",
        "  myderivative = np.sum(x @ w + bias - y)/y.shape[0] # x is a vector, w is a scalar and y is a vector\n",
        "  return myderivative"
      ],
      "metadata": {
        "id": "bgv2Gyr0jg80"
      },
      "execution_count": 8,
      "outputs": []
    },
    {
      "cell_type": "code",
      "source": [
        "def dependent_var_derivative(x, w, bias, y):\n",
        "  if x.shape[1] == 1:\n",
        "    myderivative = np.sum(x.T @ (x @ w + bias - y))/y.shape[0] # x is a vector, w is a scalar and y is a vector\n",
        "    return myderivative\n",
        "  else:\n",
        "    print('x should be a vector of shape m,1 but found',x.shape)"
      ],
      "metadata": {
        "id": "rNbtKr4NkIT2"
      },
      "execution_count": 9,
      "outputs": []
    },
    {
      "cell_type": "code",
      "source": [
        "def gradient_descent_update_dep_var(x, w, bias, y, alpha):\n",
        "  w = w - alpha * (dependent_var_derivative(x, w, bias, y))\n",
        "  return w\n",
        "def gradient_descent_update_bias(x, w, bias, y, alpha):\n",
        "  bias = bias - alpha * (bias_derivative(x, w, bias, y))\n",
        "  return bias"
      ],
      "metadata": {
        "id": "avjUZy4mlnNe"
      },
      "execution_count": 10,
      "outputs": []
    },
    {
      "cell_type": "code",
      "source": [
        "display(x)\n",
        "display(w)\n",
        "display(y)"
      ],
      "metadata": {
        "id": "aSGcaUrI3BYA",
        "colab": {
          "base_uri": "https://localhost:8080/",
          "height": 178
        },
        "outputId": "b271621a-d9e8-4c1d-c0bb-17a022aebaaa"
      },
      "execution_count": 11,
      "outputs": [
        {
          "output_type": "display_data",
          "data": {
            "text/plain": [
              "array([[1],\n",
              "       [0],\n",
              "       [1],\n",
              "       [0]])"
            ]
          },
          "metadata": {}
        },
        {
          "output_type": "display_data",
          "data": {
            "text/plain": [
              "array([[1.2]])"
            ]
          },
          "metadata": {}
        },
        {
          "output_type": "display_data",
          "data": {
            "text/plain": [
              "array([[0],\n",
              "       [1],\n",
              "       [0],\n",
              "       [1]])"
            ]
          },
          "metadata": {}
        }
      ]
    },
    {
      "cell_type": "code",
      "source": [
        "print('MSE = ',mse_loss_fxn(x, w, bias, y))"
      ],
      "metadata": {
        "id": "eoM9rynloNJ5",
        "colab": {
          "base_uri": "https://localhost:8080/"
        },
        "outputId": "f2a95dd4-211a-4ce5-cd04-89456b5dbee3"
      },
      "execution_count": 12,
      "outputs": [
        {
          "output_type": "stream",
          "name": "stdout",
          "text": [
            "MSE =  1.5699999999999998\n"
          ]
        }
      ]
    },
    {
      "cell_type": "code",
      "source": [
        "w = gradient_descent_update_dep_var(x, w, bias, y, 0.01)\n",
        "print('Our new w = ', w)"
      ],
      "metadata": {
        "id": "DqFSWlfHnIqB",
        "colab": {
          "base_uri": "https://localhost:8080/"
        },
        "outputId": "f77a1d9d-c694-4a73-c1f3-ec8cc25d6693"
      },
      "execution_count": 13,
      "outputs": [
        {
          "output_type": "stream",
          "name": "stdout",
          "text": [
            "Our new w =  [[1.1915]]\n"
          ]
        }
      ]
    },
    {
      "cell_type": "code",
      "source": [
        "bias = gradient_descent_update_bias(x, w, bias, y, 0.01)\n",
        "print('Our new bias = ', bias)"
      ],
      "metadata": {
        "id": "Y50i8FpWnRJA",
        "colab": {
          "base_uri": "https://localhost:8080/"
        },
        "outputId": "9fb79ca3-637f-4698-870d-172cfc4a2377"
      },
      "execution_count": 14,
      "outputs": [
        {
          "output_type": "stream",
          "name": "stdout",
          "text": [
            "Our new bias =  0.4940425\n"
          ]
        }
      ]
    },
    {
      "cell_type": "code",
      "source": [
        "print('MSE = ',mse_loss_fxn(x, w, bias, y))"
      ],
      "metadata": {
        "id": "tPcHpT2aoWe8",
        "colab": {
          "base_uri": "https://localhost:8080/"
        },
        "outputId": "2a1607bf-9829-46b6-f98e-35dcb46bf028"
      },
      "execution_count": 15,
      "outputs": [
        {
          "output_type": "stream",
          "name": "stdout",
          "text": [
            "MSE =  1.5485232555562498\n"
          ]
        }
      ]
    },
    {
      "cell_type": "code",
      "source": [
        "w = gradient_descent_update_dep_var(x, w, bias, y, 0.01)\n",
        "print('Our new w = ', w)"
      ],
      "metadata": {
        "id": "OWI2wbinnU8z",
        "colab": {
          "base_uri": "https://localhost:8080/"
        },
        "outputId": "e32fa632-4a0f-4d41-9253-6820bcee4421"
      },
      "execution_count": 16,
      "outputs": [
        {
          "output_type": "stream",
          "name": "stdout",
          "text": [
            "Our new w =  [[1.18307229]]\n"
          ]
        }
      ]
    },
    {
      "cell_type": "code",
      "source": [
        "bias = gradient_descent_update_bias(x, w, bias, y, 0.01)\n",
        "print('Our new bias = ', bias)"
      ],
      "metadata": {
        "id": "AKiwRFsPnt9R",
        "colab": {
          "base_uri": "https://localhost:8080/"
        },
        "outputId": "3cf826dd-8b2e-49a3-987c-d4b465ab3235"
      },
      "execution_count": 17,
      "outputs": [
        {
          "output_type": "stream",
          "name": "stdout",
          "text": [
            "Our new bias =  0.4881867135625\n"
          ]
        }
      ]
    },
    {
      "cell_type": "code",
      "source": [
        "print('MSE = ',mse_loss_fxn(x, w, bias, y))"
      ],
      "metadata": {
        "id": "2fIfgCNPoalG",
        "colab": {
          "base_uri": "https://localhost:8080/"
        },
        "outputId": "a44b174b-cf8e-4192-f6c1-3201f7096fe4"
      },
      "execution_count": 18,
      "outputs": [
        {
          "output_type": "stream",
          "name": "stdout",
          "text": [
            "MSE =  1.5275297444031897\n"
          ]
        }
      ]
    },
    {
      "cell_type": "code",
      "source": [
        "w = gradient_descent_update_dep_var(x, w, bias, y, 0.01)\n",
        "print('Our new w = ', w)\n",
        "bias = gradient_descent_update_bias(x, w, bias, y, 0.01)\n",
        "print('Our new bias = ', bias)"
      ],
      "metadata": {
        "id": "KEMaNt6onuXP",
        "colab": {
          "base_uri": "https://localhost:8080/"
        },
        "outputId": "f8b84b94-9682-4ef4-9ccf-9a5fed653522"
      },
      "execution_count": 19,
      "outputs": [
        {
          "output_type": "stream",
          "name": "stdout",
          "text": [
            "Our new w =  [[1.17471599]]\n",
            "Our new bias =  0.48243126646440154\n"
          ]
        }
      ]
    },
    {
      "cell_type": "code",
      "source": [
        "print('MSE = ',mse_loss_fxn(x, w, bias, y))"
      ],
      "metadata": {
        "id": "Bqjf9n7ioeCA",
        "colab": {
          "base_uri": "https://localhost:8080/"
        },
        "outputId": "b2dab3fc-8760-4873-8c6b-7f53df3fc577"
      },
      "execution_count": 20,
      "outputs": [
        {
          "output_type": "stream",
          "name": "stdout",
          "text": [
            "MSE =  1.5070072159046326\n"
          ]
        }
      ]
    },
    {
      "cell_type": "code",
      "source": [
        "w = gradient_descent_update_dep_var(x, w, bias, y, 0.01)\n",
        "print('Our new w = ', w)\n",
        "bias = gradient_descent_update_bias(x, w, bias, y, 0.01)\n",
        "print('Our new bias = ', bias)"
      ],
      "metadata": {
        "id": "K49aoXUYoe84",
        "colab": {
          "base_uri": "https://localhost:8080/"
        },
        "outputId": "f5d3468b-6df3-454b-9e6c-01453d80b35c"
      },
      "execution_count": 21,
      "outputs": [
        {
          "output_type": "stream",
          "name": "stdout",
          "text": [
            "Our new w =  [[1.16643026]]\n",
            "Our new bias =  0.4767748025187581\n"
          ]
        }
      ]
    },
    {
      "cell_type": "code",
      "source": [
        "print('MSE = ',mse_loss_fxn(x, w, bias, y))"
      ],
      "metadata": {
        "id": "_I3S_IswogYx",
        "colab": {
          "base_uri": "https://localhost:8080/"
        },
        "outputId": "f35509a5-463c-4d19-ae6d-bd702441bdfe"
      },
      "execution_count": 22,
      "outputs": [
        {
          "output_type": "stream",
          "name": "stdout",
          "text": [
            "MSE =  1.4869437361389235\n"
          ]
        }
      ]
    },
    {
      "cell_type": "code",
      "source": [
        "for i in range(0, 20):\n",
        "  w = gradient_descent_update_dep_var(x, w, bias, y, 0.01)\n",
        "  print('new w =', w)\n",
        "  bias = gradient_descent_update_bias(x, w, bias, y, 0.01)\n",
        "  print('new bias =', bias)\n",
        "  print('new MSE =', mse_loss_fxn(x, w, bias, y))\n",
        "  print()"
      ],
      "metadata": {
        "id": "Wx9qccxBohr_",
        "colab": {
          "base_uri": "https://localhost:8080/"
        },
        "outputId": "852a77da-f1b8-44a4-a65a-00bfc3b4d5f9"
      },
      "execution_count": 23,
      "outputs": [
        {
          "output_type": "stream",
          "name": "stdout",
          "text": [
            "new w = [[1.15821423]]\n",
            "new bias = 0.471215983339039\n",
            "new MSE = 1.4673276796858534\n",
            "\n",
            "new w = [[1.15006708]]\n",
            "new bias = 0.46575348810647327\n",
            "new MSE = 1.4481477216266692\n",
            "\n",
            "new w = [[1.14198798]]\n",
            "new bias = 0.4603860133404317\n",
            "new MSE = 1.4293928297516472\n",
            "\n",
            "new w = [[1.13397611]]\n",
            "new bias = 0.455112272671809\n",
            "new MSE = 1.4110522569698483\n",
            "\n",
            "new w = [[1.12603067]]\n",
            "new bias = 0.44993099661936536\n",
            "new MSE = 1.3931155339158026\n",
            "\n",
            "new w = [[1.11815086]]\n",
            "new bias = 0.4448409323689903\n",
            "new MSE = 1.375572461748021\n",
            "\n",
            "new w = [[1.1103359]]\n",
            "new bias = 0.4398408435558491\n",
            "new MSE = 1.358413105134349\n",
            "\n",
            "new w = [[1.10258501]]\n",
            "new bias = 0.43492951004937547\n",
            "new MSE = 1.3416277854193175\n",
            "\n",
            "new w = [[1.09489744]]\n",
            "new bias = 0.43010572774107236\n",
            "new MSE = 1.325207073968771\n",
            "\n",
            "new w = [[1.08727243]]\n",
            "new bias = 0.4253683083350849\n",
            "new MSE = 1.309141785687163\n",
            "\n",
            "new w = [[1.07970922]]\n",
            "new bias = 0.42071607914150855\n",
            "new MSE = 1.2934229727030555\n",
            "\n",
            "new w = [[1.0722071]]\n",
            "new bias = 0.4161478828723976\n",
            "new MSE = 1.278041918218436\n",
            "\n",
            "new w = [[1.06476532]]\n",
            "new bias = 0.4116625774404381\n",
            "new MSE = 1.26299013051762\n",
            "\n",
            "new w = [[1.05738318]]\n",
            "new bias = 0.40725903576025035\n",
            "new MSE = 1.2482593371315915\n",
            "\n",
            "new w = [[1.05005997]]\n",
            "new bias = 0.4029361455522874\n",
            "new MSE = 1.233841479153739\n",
            "\n",
            "new w = [[1.04279499]]\n",
            "new bias = 0.3986928091492947\n",
            "new MSE = 1.2197287057030781\n",
            "\n",
            "new w = [[1.03558755]]\n",
            "new bias = 0.39452794330529806\n",
            "new MSE = 1.2059133685311123\n",
            "\n",
            "new w = [[1.02843697]]\n",
            "new bias = 0.3904404790070865\n",
            "new MSE = 1.1923880167686205\n",
            "\n",
            "new w = [[1.02134259]]\n",
            "new bias = 0.386429361288158\n",
            "new MSE = 1.1791453918087331\n",
            "\n",
            "new w = [[1.01430373]]\n",
            "new bias = 0.3824935490450953\n",
            "new MSE = 1.166178422322763\n",
            "\n"
          ]
        }
      ]
    },
    {
      "cell_type": "code",
      "source": [
        "# our variable init\n",
        "x = np.array([[1],[0],[1],[0]])\n",
        "bias = 0.5\n",
        "w = np.array([[1.2]]) # needs to be n,1\n",
        "y = np.array([[0],[1],[0],[1]])\n",
        "mylr = 0.001"
      ],
      "metadata": {
        "id": "qBLBokc7oyhc"
      },
      "execution_count": 24,
      "outputs": []
    },
    {
      "cell_type": "code",
      "source": [
        "for i in range(0, 20):\n",
        "  w = gradient_descent_update_dep_var(x, w, bias, y, mylr)\n",
        "  print('new w =', w)\n",
        "  bias = gradient_descent_update_bias(x, w, bias, y, mylr)\n",
        "  print('new bias =', bias)\n",
        "  print('new MSE =', mse_loss_fxn(x, w, bias, y))\n",
        "  print()"
      ],
      "metadata": {
        "id": "ltCevGvDpMfW",
        "colab": {
          "base_uri": "https://localhost:8080/"
        },
        "outputId": "e8bc5f6d-145e-49e8-db6a-c472dfbcc2cc"
      },
      "execution_count": 25,
      "outputs": [
        {
          "output_type": "stream",
          "name": "stdout",
          "text": [
            "new w = [[1.19915]]\n",
            "new bias = 0.499400425\n",
            "new MSE = 1.5678367403789304\n",
            "\n",
            "new w = [[1.19830072]]\n",
            "new bias = 0.49880187421260624\n",
            "new MSE = 1.5656783964128553\n",
            "\n",
            "new w = [[1.19745217]]\n",
            "new bias = 0.49820434625164967\n",
            "new MSE = 1.5635249555281574\n",
            "\n",
            "new w = [[1.19660435]]\n",
            "new bias = 0.49760783973278394\n",
            "new MSE = 1.5613764051839971\n",
            "\n",
            "new w = [[1.19575724]]\n",
            "new bias = 0.4970123532734833\n",
            "new MSE = 1.5592327328722309\n",
            "\n",
            "new w = [[1.19491085]]\n",
            "new bias = 0.4964178854930401\n",
            "new MSE = 1.5570939261173218\n",
            "\n",
            "new w = [[1.19406519]]\n",
            "new bias = 0.4958244350125623\n",
            "new MSE = 1.5549599724762575\n",
            "\n",
            "new w = [[1.19322025]]\n",
            "new bias = 0.49523200045497123\n",
            "new MSE = 1.5528308595384632\n",
            "\n",
            "new w = [[1.19237602]]\n",
            "new bias = 0.49464058044499915\n",
            "new MSE = 1.5507065749257178\n",
            "\n",
            "new w = [[1.19153251]]\n",
            "new bias = 0.4940501736091869\n",
            "new MSE = 1.5485871062920686\n",
            "\n",
            "new w = [[1.19068972]]\n",
            "new bias = 0.49346077857588155\n",
            "new MSE = 1.5464724413237474\n",
            "\n",
            "new w = [[1.18984764]]\n",
            "new bias = 0.492872393975234\n",
            "new MSE = 1.5443625677390864\n",
            "\n",
            "new w = [[1.18900628]]\n",
            "new bias = 0.49228501843919664\n",
            "new MSE = 1.5422574732884347\n",
            "\n",
            "new w = [[1.18816564]]\n",
            "new bias = 0.49169865060152096\n",
            "new MSE = 1.540157145754072\n",
            "\n",
            "new w = [[1.18732571]]\n",
            "new bias = 0.4911132890977552\n",
            "new MSE = 1.5380615729501306\n",
            "\n",
            "new w = [[1.18648649]]\n",
            "new bias = 0.49052893256524205\n",
            "new MSE = 1.5359707427225047\n",
            "\n",
            "new w = [[1.18564798]]\n",
            "new bias = 0.4899455796431163\n",
            "new MSE = 1.5338846429487751\n",
            "\n",
            "new w = [[1.18481018]]\n",
            "new bias = 0.48936322897230233\n",
            "new MSE = 1.53180326153812\n",
            "\n",
            "new w = [[1.1839731]]\n",
            "new bias = 0.488781879195512\n",
            "new MSE = 1.5297265864312357\n",
            "\n",
            "new w = [[1.18313672]]\n",
            "new bias = 0.4882015289572422\n",
            "new MSE = 1.5276546056002538\n",
            "\n"
          ]
        }
      ]
    },
    {
      "cell_type": "code",
      "source": [
        "# our variable init\n",
        "x = np.array([[1],[0],[1],[0]])\n",
        "bias = 0.5\n",
        "w = np.array([[1.2]]) # needs to be n,1\n",
        "#w = np.array([[-0.62]]) # needs to be n,1\n",
        "y = np.array([[0],[1],[0],[1]])\n",
        "mylr = 0.01\n",
        "iterations = 100"
      ],
      "metadata": {
        "id": "4Gfy32e1pTSt"
      },
      "execution_count": 26,
      "outputs": []
    },
    {
      "cell_type": "code",
      "source": [],
      "metadata": {
        "id": "5gu3n6pgSRD_"
      },
      "execution_count": 26,
      "outputs": []
    },
    {
      "cell_type": "code",
      "source": [
        "weights = list()\n",
        "cost = list()\n",
        "biases  = list()\n",
        "my_mse = mse_loss_fxn(x, w, bias, y)\n",
        "print('Starting MSE =', my_mse)\n",
        "cost.append(my_mse)\n",
        "weights.append(w[0][0])\n",
        "biases.append(bias)\n",
        "for i in range(0, iterations):\n",
        "  w = gradient_descent_update_dep_var(x, w, bias, y, mylr)\n",
        "  weights.append(w[0][0])\n",
        "  print('new w =', w)\n",
        "  bias = gradient_descent_update_bias(x, w, bias, y, mylr)\n",
        "  biases.append(bias)\n",
        "  print('new bias =', bias)\n",
        "  my_mse = mse_loss_fxn(x, w, bias, y)\n",
        "  cost.append(my_mse)\n",
        "  print('new MSE =', my_mse)\n",
        "  print()"
      ],
      "metadata": {
        "id": "poHVvrCIpTec",
        "colab": {
          "base_uri": "https://localhost:8080/"
        },
        "outputId": "060f39a3-297e-471b-f0a3-98328918d702"
      },
      "execution_count": 27,
      "outputs": [
        {
          "output_type": "stream",
          "name": "stdout",
          "text": [
            "Starting MSE = 1.5699999999999998\n",
            "new w = [[1.1915]]\n",
            "new bias = 0.4940425\n",
            "new MSE = 1.5485232555562498\n",
            "\n",
            "new w = [[1.18307229]]\n",
            "new bias = 0.4881867135625\n",
            "new MSE = 1.5275297444031897\n",
            "\n",
            "new w = [[1.17471599]]\n",
            "new bias = 0.48243126646440154\n",
            "new MSE = 1.5070072159046326\n",
            "\n",
            "new w = [[1.16643026]]\n",
            "new bias = 0.4767748025187581\n",
            "new MSE = 1.4869437361389235\n",
            "\n",
            "new w = [[1.15821423]]\n",
            "new bias = 0.471215983339039\n",
            "new MSE = 1.4673276796858534\n",
            "\n",
            "new w = [[1.15006708]]\n",
            "new bias = 0.46575348810647327\n",
            "new MSE = 1.4481477216266692\n",
            "\n",
            "new w = [[1.14198798]]\n",
            "new bias = 0.4603860133404317\n",
            "new MSE = 1.4293928297516472\n",
            "\n",
            "new w = [[1.13397611]]\n",
            "new bias = 0.455112272671809\n",
            "new MSE = 1.4110522569698483\n",
            "\n",
            "new w = [[1.12603067]]\n",
            "new bias = 0.44993099661936536\n",
            "new MSE = 1.3931155339158026\n",
            "\n",
            "new w = [[1.11815086]]\n",
            "new bias = 0.4448409323689903\n",
            "new MSE = 1.375572461748021\n",
            "\n",
            "new w = [[1.1103359]]\n",
            "new bias = 0.4398408435558491\n",
            "new MSE = 1.358413105134349\n",
            "\n",
            "new w = [[1.10258501]]\n",
            "new bias = 0.43492951004937547\n",
            "new MSE = 1.3416277854193175\n",
            "\n",
            "new w = [[1.09489744]]\n",
            "new bias = 0.43010572774107236\n",
            "new MSE = 1.325207073968771\n",
            "\n",
            "new w = [[1.08727243]]\n",
            "new bias = 0.4253683083350849\n",
            "new MSE = 1.309141785687163\n",
            "\n",
            "new w = [[1.07970922]]\n",
            "new bias = 0.42071607914150855\n",
            "new MSE = 1.2934229727030555\n",
            "\n",
            "new w = [[1.0722071]]\n",
            "new bias = 0.4161478828723976\n",
            "new MSE = 1.278041918218436\n",
            "\n",
            "new w = [[1.06476532]]\n",
            "new bias = 0.4116625774404381\n",
            "new MSE = 1.26299013051762\n",
            "\n",
            "new w = [[1.05738318]]\n",
            "new bias = 0.40725903576025035\n",
            "new MSE = 1.2482593371315915\n",
            "\n",
            "new w = [[1.05005997]]\n",
            "new bias = 0.4029361455522874\n",
            "new MSE = 1.233841479153739\n",
            "\n",
            "new w = [[1.04279499]]\n",
            "new bias = 0.3986928091492947\n",
            "new MSE = 1.2197287057030781\n",
            "\n",
            "new w = [[1.03558755]]\n",
            "new bias = 0.39452794330529806\n",
            "new MSE = 1.2059133685311123\n",
            "\n",
            "new w = [[1.02843697]]\n",
            "new bias = 0.3904404790070865\n",
            "new MSE = 1.1923880167686205\n",
            "\n",
            "new w = [[1.02134259]]\n",
            "new bias = 0.386429361288158\n",
            "new MSE = 1.1791453918087331\n",
            "\n",
            "new w = [[1.01430373]]\n",
            "new bias = 0.3824935490450953\n",
            "new MSE = 1.166178422322763\n",
            "\n",
            "new w = [[1.00731974]]\n",
            "new bias = 0.37863201485634024\n",
            "new MSE = 1.153480219405342\n",
            "\n",
            "new w = [[1.00038998]]\n",
            "new bias = 0.37484374480333565\n",
            "new MSE = 1.1410440718455153\n",
            "\n",
            "new w = [[0.99351381]]\n",
            "new bias = 0.3711277382940034\n",
            "new MSE = 1.1288634415205185\n",
            "\n",
            "new w = [[0.9866906]]\n",
            "new bias = 0.36748300788852833\n",
            "new MSE = 1.1169319589090578\n",
            "\n",
            "new w = [[0.97991974]]\n",
            "new bias = 0.3639085791274179\n",
            "new MSE = 1.1052434187209899\n",
            "\n",
            "new w = [[0.97320059]]\n",
            "new bias = 0.3604034903618079\n",
            "new MSE = 1.093791775640384\n",
            "\n",
            "new w = [[0.96653257]]\n",
            "new bias = 0.35696679258598474\n",
            "new MSE = 1.0825711401790215\n",
            "\n",
            "new w = [[0.95991508]]\n",
            "new bias = 0.35359754927209547\n",
            "new MSE = 1.0715757746374692\n",
            "\n",
            "new w = [[0.95334751]]\n",
            "new bias = 0.350294836207017\n",
            "new MSE = 1.060800089170934\n",
            "\n",
            "new w = [[0.9468293]]\n",
            "new bias = 0.3470577413313563\n",
            "new MSE = 1.0502386379571804\n",
            "\n",
            "new w = [[0.94035987]]\n",
            "new bias = 0.34388536458055347\n",
            "new MSE = 1.0398861154638617\n",
            "\n",
            "new w = [[0.93393864]]\n",
            "new bias = 0.3407768177280606\n",
            "new MSE = 1.0297373528126879\n",
            "\n",
            "new w = [[0.92756506]]\n",
            "new bias = 0.33773122423056934\n",
            "new MSE = 1.019787314237914\n",
            "\n",
            "new w = [[0.92123858]]\n",
            "new bias = 0.3347477190752598\n",
            "new MSE = 1.010031093636705\n",
            "\n",
            "new w = [[0.91495865]]\n",
            "new bias = 0.3318254486290452\n",
            "new MSE = 1.0004639112089877\n",
            "\n",
            "new w = [[0.90872473]]\n",
            "new bias = 0.32896357048978586\n",
            "new MSE = 0.991081110184478\n",
            "\n",
            "new w = [[0.90253629]]\n",
            "new bias = 0.3261612533394462\n",
            "new MSE = 0.9818781536346086\n",
            "\n",
            "new w = [[0.8963928]]\n",
            "new bias = 0.32341767679917055\n",
            "new MSE = 0.9728506213671648\n",
            "\n",
            "new w = [[0.89029375]]\n",
            "new bias = 0.3207320312862521\n",
            "new MSE = 0.9639942069014749\n",
            "\n",
            "new w = [[0.88423862]]\n",
            "new bias = 0.3181035178729696\n",
            "new MSE = 0.9553047145220711\n",
            "\n",
            "new w = [[0.87822691]]\n",
            "new bias = 0.31553134814726885\n",
            "new MSE = 0.9467780564087811\n",
            "\n",
            "new w = [[0.87225812]]\n",
            "new bias = 0.31301474407526364\n",
            "new MSE = 0.9384102498412654\n",
            "\n",
            "new w = [[0.86633175]]\n",
            "new bias = 0.31055293786553306\n",
            "new MSE = 0.930197414476076\n",
            "\n",
            "new w = [[0.86044733]]\n",
            "new bias = 0.3081451718351913\n",
            "new MSE = 0.9221357696943462\n",
            "\n",
            "new w = [[0.85460437]]\n",
            "new bias = 0.3057906982777073\n",
            "new MSE = 0.9142216320182837\n",
            "\n",
            "new w = [[0.84880239]]\n",
            "new bias = 0.30348877933245066\n",
            "new MSE = 0.906451412594682\n",
            "\n",
            "new w = [[0.84304094]]\n",
            "new bias = 0.30123868685594235\n",
            "new MSE = 0.8988216147437073\n",
            "\n",
            "new w = [[0.83731954]]\n",
            "new bias = 0.29903970229478644\n",
            "new MSE = 0.8913288315712734\n",
            "\n",
            "new w = [[0.83163774]]\n",
            "new bias = 0.2968911165602624\n",
            "new MSE = 0.8839697436433467\n",
            "\n",
            "new w = [[0.8259951]]\n",
            "new bias = 0.2947922299045555\n",
            "new MSE = 0.8767411167205816\n",
            "\n",
            "new w = [[0.82039116]]\n",
            "new bias = 0.2927423517986038\n",
            "new MSE = 0.8696397995517184\n",
            "\n",
            "new w = [[0.81482549]]\n",
            "new bias = 0.29074080081154113\n",
            "new MSE = 0.8626627217242167\n",
            "\n",
            "new w = [[0.80929766]]\n",
            "new bias = 0.2887869044917148\n",
            "new MSE = 0.8558068915706418\n",
            "\n",
            "new w = [[0.80380724]]\n",
            "new bias = 0.28687999924925756\n",
            "new MSE = 0.8490693941293584\n",
            "\n",
            "new w = [[0.7983538]]\n",
            "new bias = 0.2850194302401938\n",
            "new MSE = 0.8424473891581182\n",
            "\n",
            "new w = [[0.79293694]]\n",
            "new bias = 0.28320455125205957\n",
            "new MSE = 0.8359381091991743\n",
            "\n",
            "new w = [[0.78755623]]\n",
            "new bias = 0.2814347245910166\n",
            "new MSE = 0.8295388576945819\n",
            "\n",
            "new w = [[0.78221127]]\n",
            "new bias = 0.2797093209704415\n",
            "new MSE = 0.8232470071503837\n",
            "\n",
            "new w = [[0.77690167]]\n",
            "new bias = 0.2780277194009697\n",
            "new MSE = 0.8170599973484127\n",
            "\n",
            "new w = [[0.77162702]]\n",
            "new bias = 0.2763893070819765\n",
            "new MSE = 0.810975333604476\n",
            "\n",
            "new w = [[0.76638694]]\n",
            "new bias = 0.2747934792944752\n",
            "new MSE = 0.8049905850717166\n",
            "\n",
            "new w = [[0.76118104]]\n",
            "new bias = 0.2732396392954146\n",
            "new MSE = 0.799103383087981\n",
            "\n",
            "new w = [[0.75600894]]\n",
            "new bias = 0.27172719821335767\n",
            "new MSE = 0.7933114195660501\n",
            "\n",
            "new w = [[0.75087026]]\n",
            "new bias = 0.2702555749455221\n",
            "new MSE = 0.7876124454256221\n",
            "\n",
            "new w = [[0.74576463]]\n",
            "new bias = 0.2688241960561671\n",
            "new MSE = 0.782004269065965\n",
            "\n",
            "new w = [[0.74069168]]\n",
            "new bias = 0.2674324956763065\n",
            "new MSE = 0.7764847548781794\n",
            "\n",
            "new w = [[0.73565106]]\n",
            "new bias = 0.2660799154047329\n",
            "new MSE = 0.771051821796051\n",
            "\n",
            "new w = [[0.73064241]]\n",
            "new bias = 0.26476590421033425\n",
            "new MSE = 0.7657034418844828\n",
            "\n",
            "new w = [[0.72566537]]\n",
            "new bias = 0.2634899183356866\n",
            "new MSE = 0.7604376389645406\n",
            "\n",
            "new w = [[0.72071959]]\n",
            "new bias = 0.2622514212019065\n",
            "new MSE = 0.7552524872741542\n",
            "\n",
            "new w = [[0.71580474]]\n",
            "new bias = 0.2610498833147464\n",
            "new MSE = 0.7501461101635567\n",
            "\n",
            "new w = [[0.71092046]]\n",
            "new bias = 0.25988478217191646\n",
            "new MSE = 0.7451166788245523\n",
            "\n",
            "new w = [[0.70606644]]\n",
            "new bias = 0.2587556021716175\n",
            "new MSE = 0.7401624110527432\n",
            "\n",
            "new w = [[0.70124233]]\n",
            "new bias = 0.25766183452226876\n",
            "new MSE = 0.735281570041854\n",
            "\n",
            "new w = [[0.6964478]]\n",
            "new bias = 0.25660297715341474\n",
            "new MSE = 0.7304724632093239\n",
            "\n",
            "new w = [[0.69168255]]\n",
            "new bias = 0.25557853462779623\n",
            "new MSE = 0.7257334410523562\n",
            "\n",
            "new w = [[0.68694625]]\n",
            "new bias = 0.25458801805457004\n",
            "new MSE = 0.7210628960336318\n",
            "\n",
            "new w = [[0.68223857]]\n",
            "new bias = 0.2536309450036622\n",
            "new MSE = 0.71645926149592\n",
            "\n",
            "new w = [[0.67755923]]\n",
            "new bias = 0.25270683942124034\n",
            "new MSE = 0.7119210106048355\n",
            "\n",
            "new w = [[0.6729079]]\n",
            "new bias = 0.25181523154629015\n",
            "new MSE = 0.7074466553190111\n",
            "\n",
            "new w = [[0.66828428]]\n",
            "new bias = 0.25095565782828183\n",
            "new MSE = 0.7030347453869762\n",
            "\n",
            "new w = [[0.66368808]]\n",
            "new bias = 0.250127660845912\n",
            "new MSE = 0.6986838673700468\n",
            "\n",
            "new w = [[0.659119]]\n",
            "new bias = 0.24933078922690743\n",
            "new MSE = 0.6943926436905521\n",
            "\n",
            "new w = [[0.65457675]]\n",
            "new bias = 0.24856459756887633\n",
            "new MSE = 0.6901597317047418\n",
            "\n",
            "new w = [[0.65006105]]\n",
            "new bias = 0.2478286463611936\n",
            "new MSE = 0.685983822799733\n",
            "\n",
            "new w = [[0.6455716]]\n",
            "new bias = 0.24712250190790666\n",
            "new MSE = 0.6818636415138717\n",
            "\n",
            "new w = [[0.64110813]]\n",
            "new bias = 0.24644573625164867\n",
            "new MSE = 0.6777979446799042\n",
            "\n",
            "new w = [[0.63667036]]\n",
            "new bias = 0.24579792709854545\n",
            "new MSE = 0.6737855205903636\n",
            "\n",
            "new w = [[0.63225802]]\n",
            "new bias = 0.24517865774410366\n",
            "new MSE = 0.6698251881845974\n",
            "\n",
            "new w = [[0.62787083]]\n",
            "new bias = 0.24458751700006717\n",
            "new MSE = 0.6659157962568742\n",
            "\n",
            "new w = [[0.62350854]]\n",
            "new bias = 0.24402409912222903\n",
            "new MSE = 0.6620562226850207\n",
            "\n",
            "new w = [[0.61917088]]\n",
            "new bias = 0.2434880037391865\n",
            "new MSE = 0.6582453736790594\n",
            "\n",
            "new w = [[0.61485758]]\n",
            "new bias = 0.24297883578202698\n",
            "new MSE = 0.6544821830493263\n",
            "\n",
            "new w = [[0.6105684]]\n",
            "new bias = 0.24249620541493244\n",
            "new MSE = 0.6507656114935634\n",
            "\n",
            "new w = [[0.60630308]]\n",
            "new bias = 0.2420397279666906\n",
            "new MSE = 0.6470946459024939\n",
            "\n",
            "new w = [[0.60206136]]\n",
            "new bias = 0.24160902386310082\n",
            "new MSE = 0.6434682986834008\n",
            "\n"
          ]
        }
      ]
    },
    {
      "cell_type": "code",
      "source": [],
      "metadata": {
        "id": "ZA6pMo1z3xIc"
      },
      "execution_count": 27,
      "outputs": []
    },
    {
      "cell_type": "code",
      "source": [
        "g = sns.scatterplot(y = cost, x = weights)\n",
        "g.invert_xaxis()"
      ],
      "metadata": {
        "id": "NKUlHfvXQAsB",
        "colab": {
          "base_uri": "https://localhost:8080/",
          "height": 430
        },
        "outputId": "ef84328a-9c50-4a7d-c89f-7489d1f3aaeb"
      },
      "execution_count": 28,
      "outputs": [
        {
          "output_type": "display_data",
          "data": {
            "text/plain": [
              "<Figure size 640x480 with 1 Axes>"
            ],
            "image/png": "[encoded data removed]"
          },
          "metadata": {}
        }
      ]
    },
    {
      "cell_type": "code",
      "source": [
        "yhat = x@w+bias\n",
        "yhat\n",
        "plt.figure(figsize = (8,6))\n",
        "sns.scatterplot(x=x.squeeze(), y=y.squeeze())\n",
        "plt.plot([min(x), max(x)], [min(yhat), max(yhat)], color='red',markerfacecolor='red',\n",
        "             markersize=10,linestyle='dashed')"
      ],
      "metadata": {
        "id": "qdlYqN0kT8JQ",
        "colab": {
          "base_uri": "https://localhost:8080/",
          "height": 540
        },
        "outputId": "8e8f5b9c-b2b8-46b7-e819-3698ed81f063"
      },
      "execution_count": 29,
      "outputs": [
        {
          "output_type": "execute_result",
          "data": {
            "text/plain": [
              "[<matplotlib.lines.Line2D at 0x7a601c291e40>]"
            ]
          },
          "metadata": {},
          "execution_count": 29
        },
        {
          "output_type": "display_data",
          "data": {
            "text/plain": [
              "<Figure size 800x600 with 1 Axes>"
            ],
            "image/png": "[encoded data removed]"
          },
          "metadata": {}
        }
      ]
    },
    {
      "cell_type": "code",
      "source": [
        "cost"
      ],
      "metadata": {
        "id": "vdR4kNsBQGZY",
        "colab": {
          "base_uri": "https://localhost:8080/"
        },
        "outputId": "07941fe4-9ef1-4db9-d2bf-4d0b04ecd854"
      },
      "execution_count": 30,
      "outputs": [
        {
          "output_type": "execute_result",
          "data": {
            "text/plain": [
              "[1.5699999999999998,\n",
              " 1.5485232555562498,\n",
              " 1.5275297444031897,\n",
              " 1.5070072159046326,\n",
              " 1.4869437361389235,\n",
              " 1.4673276796858534,\n",
              " 1.4481477216266692,\n",
              " 1.4293928297516472,\n",
              " 1.4110522569698483,\n",
              " 1.3931155339158026,\n",
              " 1.375572461748021,\n",
              " 1.358413105134349,\n",
              " 1.3416277854193175,\n",
              " 1.325207073968771,\n",
              " 1.309141785687163,\n",
              " 1.2934229727030555,\n",
              " 1.278041918218436,\n",
              " 1.26299013051762,\n",
              " 1.2482593371315915,\n",
              " 1.233841479153739,\n",
              " 1.2197287057030781,\n",
              " 1.2059133685311123,\n",
              " 1.1923880167686205,\n",
              " 1.1791453918087331,\n",
              " 1.166178422322763,\n",
              " 1.153480219405342,\n",
              " 1.1410440718455153,\n",
              " 1.1288634415205185,\n",
              " 1.1169319589090578,\n",
              " 1.1052434187209899,\n",
              " 1.093791775640384,\n",
              " 1.0825711401790215,\n",
              " 1.0715757746374692,\n",
              " 1.060800089170934,\n",
              " 1.0502386379571804,\n",
              " 1.0398861154638617,\n",
              " 1.0297373528126879,\n",
              " 1.019787314237914,\n",
              " 1.010031093636705,\n",
              " 1.0004639112089877,\n",
              " 0.991081110184478,\n",
              " 0.9818781536346086,\n",
              " 0.9728506213671648,\n",
              " 0.9639942069014749,\n",
              " 0.9553047145220711,\n",
              " 0.9467780564087811,\n",
              " 0.9384102498412654,\n",
              " 0.930197414476076,\n",
              " 0.9221357696943462,\n",
              " 0.9142216320182837,\n",
              " 0.906451412594682,\n",
              " 0.8988216147437073,\n",
              " 0.8913288315712734,\n",
              " 0.8839697436433467,\n",
              " 0.8767411167205816,\n",
              " 0.8696397995517184,\n",
              " 0.8626627217242167,\n",
              " 0.8558068915706418,\n",
              " 0.8490693941293584,\n",
              " 0.8424473891581182,\n",
              " 0.8359381091991743,\n",
              " 0.8295388576945819,\n",
              " 0.8232470071503837,\n",
              " 0.8170599973484127,\n",
              " 0.810975333604476,\n",
              " 0.8049905850717166,\n",
              " 0.799103383087981,\n",
              " 0.7933114195660501,\n",
              " 0.7876124454256221,\n",
              " 0.782004269065965,\n",
              " 0.7764847548781794,\n",
              " 0.771051821796051,\n",
              " 0.7657034418844828,\n",
              " 0.7604376389645406,\n",
              " 0.7552524872741542,\n",
              " 0.7501461101635567,\n",
              " 0.7451166788245523,\n",
              " 0.7401624110527432,\n",
              " 0.735281570041854,\n",
              " 0.7304724632093239,\n",
              " 0.7257334410523562,\n",
              " 0.7210628960336318,\n",
              " 0.71645926149592,\n",
              " 0.7119210106048355,\n",
              " 0.7074466553190111,\n",
              " 0.7030347453869762,\n",
              " 0.6986838673700468,\n",
              " 0.6943926436905521,\n",
              " 0.6901597317047418,\n",
              " 0.685983822799733,\n",
              " 0.6818636415138717,\n",
              " 0.6777979446799042,\n",
              " 0.6737855205903636,\n",
              " 0.6698251881845974,\n",
              " 0.6659157962568742,\n",
              " 0.6620562226850207,\n",
              " 0.6582453736790594,\n",
              " 0.6544821830493263,\n",
              " 0.6507656114935634,\n",
              " 0.6470946459024939,\n",
              " 0.6434682986834008]"
            ]
          },
          "metadata": {},
          "execution_count": 30
        }
      ]
    },
    {
      "cell_type": "code",
      "source": [
        "weights"
      ],
      "metadata": {
        "id": "nUkJ_6tNQa7N",
        "colab": {
          "base_uri": "https://localhost:8080/"
        },
        "outputId": "c6269687-cae9-4a81-bf56-42877d76243d"
      },
      "execution_count": 31,
      "outputs": [
        {
          "output_type": "execute_result",
          "data": {
            "text/plain": [
              "[1.2,\n",
              " 1.1915,\n",
              " 1.1830722875,\n",
              " 1.1747159924946875,\n",
              " 1.166430256199892,\n",
              " 1.1582142309062988,\n",
              " 1.150067079835072,\n",
              " 1.1419879769953643,\n",
              " 1.1339761070436853,\n",
              " 1.126030665145108,\n",
              " 1.1181508568362857,\n",
              " 1.1103358978902593,\n",
              " 1.1025850141830287,\n",
              " 1.0948974415618666,\n",
              " 1.0872724257153519,\n",
              " 1.0797092220450997,\n",
              " 1.0722070955391667,\n",
              " 1.0647653206471088,\n",
              " 1.0573831811566712,\n",
              " 1.0500599700720865,\n",
              " 1.0427949894939645,\n",
              " 1.0355875505007484,\n",
              " 1.0284369730317182,\n",
              " 1.0213425857715241,\n",
              " 1.0143037260362258,\n",
              " 1.0073197396608191,\n",
              " 1.0003899808882333,\n",
              " 0.9935138122597754,\n",
              " 0.9866906045070065,\n",
              " 0.9799197364450288,\n",
              " 0.9732005948671666,\n",
              " 0.9665325744410217,\n",
              " 0.9599150776058867,\n",
              " 0.9533475144714968,\n",
              " 0.9468293027181042,\n",
              " 0.9403598674978568,\n",
              " 0.9339386413374647,\n",
              " 0.9275650640421371,\n",
              " 0.9212385826007736,\n",
              " 0.9149586510923935,\n",
              " 0.9087247305937863,\n",
              " 0.9025362890883685,\n",
              " 0.8963928013762295,\n",
              " 0.8902937489853524,\n",
              " 0.8842386200839943,\n",
              " 0.8782269093942096,\n",
              " 0.8722581181065021,\n",
              " 0.8663317537955932,\n",
              " 0.8604473303372876,\n",
              " 0.8546043678264252,\n",
              " 0.8488023924959046,\n",
              " 0.8430409366367628,\n",
              " 0.8373195385192993,\n",
              " 0.8316377423152289,\n",
              " 0.8259950980208515,\n",
              " 0.8203911613812245,\n",
              " 0.8148254938153253,\n",
              " 0.809297662342191,\n",
              " 0.8038072395080215,\n",
              " 0.7983538033142351,\n",
              " 0.792936937146463,\n",
              " 0.7875562297044704,\n",
              " 0.7822112749329929,\n",
              " 0.7769016719534757,\n",
              " 0.7716270249967034,\n",
              " 0.7663869433363101,\n",
              " 0.7611810412231561,\n",
              " 0.7560089378205632,\n",
              " 0.7508702571403936,\n",
              " 0.745764627979964,\n",
              " 0.7406916838597833,\n",
              " 0.7356510629621029,\n",
              " 0.7306424080702687,\n",
              " 0.7256653665088657,\n",
              " 0.7207195900846429,\n",
              " 0.7158047350282102,\n",
              " 0.7109204619364954,\n",
              " 0.7060664357159533,\n",
              " 0.7012423255265154,\n",
              " 0.6964478047262715,\n",
              " 0.6916825508168731,\n",
              " 0.6869462453896498,\n",
              " 0.6822385740724287,\n",
              " 0.6775592264770482,\n",
              " 0.6729078961475567,\n",
              " 0.6682842805090875,\n",
              " 0.6636880808174006,\n",
              " 0.659119002109084,\n",
              " 0.654576753152404,\n",
              " 0.6500610463987977,\n",
              " 0.6455715979349977,\n",
              " 0.6411081274357833,\n",
              " 0.6366703581173461,\n",
              " 0.6322580166912666,\n",
              " 0.6278708333190898,\n",
              " 0.623508541567494,\n",
              " 0.6191708783640454,\n",
              " 0.6148575839535292,\n",
              " 0.6105684018548514,\n",
              " 0.6063030788185024,\n",
              " 0.6020613647845765]"
            ]
          },
          "metadata": {},
          "execution_count": 31
        }
      ]
    },
    {
      "cell_type": "code",
      "source": [
        "biases"
      ],
      "metadata": {
        "id": "y7NpFo3XQgGd",
        "colab": {
          "base_uri": "https://localhost:8080/"
        },
        "outputId": "5a482e3e-1462-4ba0-bc6b-f7f4da4e7b50"
      },
      "execution_count": 32,
      "outputs": [
        {
          "output_type": "execute_result",
          "data": {
            "text/plain": [
              "[0.5,\n",
              " 0.4940425,\n",
              " 0.4881867135625,\n",
              " 0.48243126646440154,\n",
              " 0.4767748025187581,\n",
              " 0.471215983339039,\n",
              " 0.46575348810647327,\n",
              " 0.4603860133404317,\n",
              " 0.455112272671809,\n",
              " 0.44993099661936536,\n",
              " 0.4448409323689903,\n",
              " 0.4398408435558491,\n",
              " 0.43492951004937547,\n",
              " 0.43010572774107236,\n",
              " 0.4253683083350849,\n",
              " 0.42071607914150855,\n",
              " 0.4161478828723976,\n",
              " 0.4116625774404381,\n",
              " 0.40725903576025035,\n",
              " 0.4029361455522874,\n",
              " 0.3986928091492947,\n",
              " 0.39452794330529806,\n",
              " 0.3904404790070865,\n",
              " 0.386429361288158,\n",
              " 0.3824935490450953,\n",
              " 0.37863201485634024,\n",
              " 0.37484374480333565,\n",
              " 0.3711277382940034,\n",
              " 0.36748300788852833,\n",
              " 0.3639085791274179,\n",
              " 0.3604034903618079,\n",
              " 0.35696679258598474,\n",
              " 0.35359754927209547,\n",
              " 0.350294836207017,\n",
              " 0.3470577413313563,\n",
              " 0.34388536458055347,\n",
              " 0.3407768177280606,\n",
              " 0.33773122423056934,\n",
              " 0.3347477190752598,\n",
              " 0.3318254486290452,\n",
              " 0.32896357048978586,\n",
              " 0.3261612533394462,\n",
              " 0.32341767679917055,\n",
              " 0.3207320312862521,\n",
              " 0.3181035178729696,\n",
              " 0.31553134814726885,\n",
              " 0.31301474407526364,\n",
              " 0.31055293786553306,\n",
              " 0.3081451718351913,\n",
              " 0.3057906982777073,\n",
              " 0.30348877933245066,\n",
              " 0.30123868685594235,\n",
              " 0.29903970229478644,\n",
              " 0.2968911165602624,\n",
              " 0.2947922299045555,\n",
              " 0.2927423517986038,\n",
              " 0.29074080081154113,\n",
              " 0.2887869044917148,\n",
              " 0.28687999924925756,\n",
              " 0.2850194302401938,\n",
              " 0.28320455125205957,\n",
              " 0.2814347245910166,\n",
              " 0.2797093209704415,\n",
              " 0.2780277194009697,\n",
              " 0.2763893070819765,\n",
              " 0.2747934792944752,\n",
              " 0.2732396392954146,\n",
              " 0.27172719821335767,\n",
              " 0.2702555749455221,\n",
              " 0.2688241960561671,\n",
              " 0.2674324956763065,\n",
              " 0.2660799154047329,\n",
              " 0.26476590421033425,\n",
              " 0.2634899183356866,\n",
              " 0.2622514212019065,\n",
              " 0.2610498833147464,\n",
              " 0.25988478217191646,\n",
              " 0.2587556021716175,\n",
              " 0.25766183452226876,\n",
              " 0.25660297715341474,\n",
              " 0.25557853462779623,\n",
              " 0.25458801805457004,\n",
              " 0.2536309450036622,\n",
              " 0.25270683942124034,\n",
              " 0.25181523154629015,\n",
              " 0.25095565782828183,\n",
              " 0.250127660845912,\n",
              " 0.24933078922690743,\n",
              " 0.24856459756887633,\n",
              " 0.2478286463611936,\n",
              " 0.24712250190790666,\n",
              " 0.24644573625164867,\n",
              " 0.24579792709854545,\n",
              " 0.24517865774410366,\n",
              " 0.24458751700006717,\n",
              " 0.24402409912222903,\n",
              " 0.2434880037391865,\n",
              " 0.24297883578202698,\n",
              " 0.24249620541493244,\n",
              " 0.2420397279666906,\n",
              " 0.24160902386310082]"
            ]
          },
          "metadata": {},
          "execution_count": 32
        }
      ]
    },
    {
      "cell_type": "code",
      "source": [
        "x = np.array([32.50234527, 53.42680403, 61.53035803, 47.47563963, 59.81320787,\n",
        "           55.14218841, 52.21179669, 39.29956669, 48.10504169, 52.55001444,\n",
        "           45.41973014, 54.35163488, 44.1640495 , 58.16847072, 56.72720806,\n",
        "           48.95588857, 44.68719623, 60.29732685, 45.61864377, 38.81681754]).reshape(-1,1) # needs to be m,1\n",
        "y = np.array([31.70700585, 68.77759598, 62.5623823 , 71.54663223, 87.23092513,\n",
        "           78.21151827, 79.64197305, 59.17148932, 75.3312423 , 71.30087989,\n",
        "           55.16567715, 82.47884676, 62.00892325, 75.39287043, 81.43619216,\n",
        "           60.72360244, 82.89250373, 97.37989686, 48.84715332, 56.87721319]).reshape(-1,1) # needs to be m,1"
      ],
      "metadata": {
        "id": "zC-r1eCIQmIo"
      },
      "execution_count": 33,
      "outputs": []
    },
    {
      "cell_type": "code",
      "source": [
        "bias = 0.5\n",
        "w = np.array([[1.2]]) # needs to be n,1\n",
        "mylr = 0.01\n",
        "iterations = 100"
      ],
      "metadata": {
        "id": "yD6vtROSUW28"
      },
      "execution_count": 34,
      "outputs": []
    },
    {
      "cell_type": "code",
      "source": [],
      "metadata": {
        "id": "G1oaB6FqVF7T"
      },
      "execution_count": 34,
      "outputs": []
    },
    {
      "cell_type": "code",
      "source": [
        "x.shape"
      ],
      "metadata": {
        "id": "855WPVDbVI8f",
        "colab": {
          "base_uri": "https://localhost:8080/"
        },
        "outputId": "e258073a-a34e-4a81-a99a-c6e323b7ec4e"
      },
      "execution_count": 35,
      "outputs": [
        {
          "output_type": "execute_result",
          "data": {
            "text/plain": [
              "(20, 1)"
            ]
          },
          "metadata": {},
          "execution_count": 35
        }
      ]
    },
    {
      "cell_type": "code",
      "source": [
        "weights = list()\n",
        "cost = list()\n",
        "biases  = list()\n",
        "my_mse = mse_loss_fxn(x, w, bias, y)\n",
        "print('Starting MSE =', my_mse)\n",
        "cost.append(my_mse)\n",
        "weights.append(w[0][0])\n",
        "biases.append(bias)\n",
        "for i in range(0, iterations):\n",
        "  w = gradient_descent_update_dep_var(x, w, bias, y, mylr)\n",
        "  weights.append(w[0][0])\n",
        "  print('new w =', w)\n",
        "  bias = gradient_descent_update_bias(x, w, bias, y, mylr)\n",
        "  biases.append(bias)\n",
        "  print('new bias =', bias)\n",
        "  my_mse = mse_loss_fxn(x, w, bias, y)\n",
        "  cost.append(my_mse)\n",
        "  print('new MSE =', my_mse)\n",
        "  print()"
      ],
      "metadata": {
        "id": "oAWpfdlzUhJ5",
        "colab": {
          "base_uri": "https://localhost:8080/"
        },
        "outputId": "9b6785a7-4191-40ee-c5f2-b21bf2d7c248"
      },
      "execution_count": 36,
      "outputs": [
        {
          "output_type": "stream",
          "name": "stdout",
          "text": [
            "Starting MSE = 182.06537576986184\n",
            "new w = [[5.81585765]]\n",
            "new bias = -1.7164461214977718\n",
            "new MSE = 49381.92308681697\n",
            "\n",
            "new w = [[-106.39930669]]\n",
            "new bias = 52.15555522541703\n",
            "new MSE = 29127469.201920033\n",
            "\n",
            "new w = [[2621.64621151]]\n",
            "new bias = -1257.5299049579135\n",
            "new MSE = 17214771366.12291\n",
            "\n",
            "new w = [[-63699.44100389]]\n",
            "new bias = 30582.016582996133\n",
            "new MSE = 10174224401894.205\n",
            "\n",
            "new w = [[1548622.12615613]]\n",
            "new bias = -743464.2244078689\n",
            "new MSE = 6013140679634804.0\n",
            "\n",
            "new w = [[-37648275.04025468]]\n",
            "new bias = 18074252.73076547\n",
            "new MSE = 3.553869014122503e+18\n",
            "\n",
            "new w = [[9.15261355e+08]]\n",
            "new bias = -439400317.75511193\n",
            "new MSE = 2.1003973867025064e+21\n",
            "\n",
            "new w = [[-2.22507754e+10]]\n",
            "new bias = 10682192335.287148\n",
            "new MSE = 1.2413707890014416e+24\n",
            "\n",
            "new w = [[5.40935118e+11]]\n",
            "new bias = -259693105266.43356\n",
            "new MSE = 7.336713735895971e+26\n",
            "\n",
            "new w = [[-1.3150589e+13]]\n",
            "new bias = 6313358420156.849\n",
            "new MSE = 4.336123333930181e+29\n",
            "\n",
            "new w = [[3.19701909e+14]]\n",
            "new bias = -153483068025254.0\n",
            "new MSE = 2.5627230724653133e+32\n",
            "\n",
            "new w = [[-7.77222305e+15]]\n",
            "new bias = 3731302834832740.5\n",
            "new MSE = 1.5146131787246353e+35\n",
            "\n",
            "new w = [[1.88949298e+17]]\n",
            "new bias = -9.071111898115029e+16\n",
            "new MSE = 8.95162300528823e+37\n",
            "\n",
            "new w = [[-4.59351679e+18]]\n",
            "new bias = 2.2052638102694377e+18\n",
            "new MSE = 5.290562339902488e+40\n",
            "\n",
            "new w = [[1.11672267e+20]]\n",
            "new bias = -5.361182319771236e+19\n",
            "new MSE = 3.1268128534746357e+43\n",
            "\n",
            "new w = [[-2.71484701e+21]]\n",
            "new bias = 1.3033486393773447e+21\n",
            "new MSE = 1.847999889711987e+46\n",
            "\n",
            "new w = [[6.60002205e+22]]\n",
            "new bias = -3.1685504697390328e+22\n",
            "new MSE = 1.0921995502802549e+49\n",
            "\n",
            "new w = [[-1.60452103e+24]]\n",
            "new bias = 7.703013434747412e+23\n",
            "new MSE = 6.45508619493644e+51\n",
            "\n",
            "new w = [[3.90072595e+25]]\n",
            "new bias = -1.8726675349686378e+25\n",
            "new MSE = 3.8150663743971576e+54\n",
            "\n",
            "new w = [[-9.48299377e+26]]\n",
            "new bias = 4.5526127225825175e+26\n",
            "new MSE = 2.2547694951731298e+57\n",
            "\n",
            "new w = [[2.30539577e+28]]\n",
            "new bias = -1.1067785506393867e+28\n",
            "new MSE = 1.3326073460954253e+60\n",
            "\n",
            "new w = [[-5.60461155e+29]]\n",
            "new bias = 2.6906720048450555e+29\n",
            "new MSE = 7.875937397011558e+62\n",
            "\n",
            "new w = [[1.36252834e+31]]\n",
            "new bias = -6.541250581224692e+30\n",
            "new MSE = 4.654813742652392e+65\n",
            "\n",
            "new w = [[-3.31242131e+32]]\n",
            "new bias = 1.590233186702975e+32\n",
            "new MSE = 2.751074556154674e+68\n",
            "\n",
            "new w = [[8.05277559e+33]]\n",
            "new bias = -3.8659910007881646e+33\n",
            "new MSE = 1.6259321278898324e+71\n",
            "\n",
            "new w = [[-1.95769766e+35]]\n",
            "new bias = 9.39855018946141e+34\n",
            "new MSE = 9.60953703922709e+73\n",
            "\n",
            "new w = [[4.75932814e+36]]\n",
            "new bias = -2.2848668205853716e+36\n",
            "new MSE = 5.679400789510338e+76\n",
            "\n",
            "new w = [[-1.15703281e+38]]\n",
            "new bias = 5.554703951749681e+37\n",
            "new MSE = 3.356623029415474e+79\n",
            "\n",
            "new w = [[2.81284435e+39]]\n",
            "new bias = -1.3503953803171214e+39\n",
            "new MSE = 1.9838216352703873e+82\n",
            "\n",
            "new w = [[-6.83826186e+40]]\n",
            "new bias = 3.2829250649936355e+40\n",
            "new MSE = 1.1724725255347511e+85\n",
            "\n",
            "new w = [[1.66243913e+42]]\n",
            "new bias = -7.981067722426966e+41\n",
            "new MSE = 6.9295132117382755e+87\n",
            "\n",
            "new w = [[-4.04152975e+43]]\n",
            "new bias = 1.940264877477155e+43\n",
            "new MSE = 4.095460857793219e+90\n",
            "\n",
            "new w = [[9.82529969e+44]]\n",
            "new bias = -4.716947563535587e+44\n",
            "new MSE = 2.4204874318305685e+93\n",
            "\n",
            "new w = [[-2.38861322e+46]]\n",
            "new bias = 1.1467297365128064e+46\n",
            "new MSE = 1.4305494817515228e+96\n",
            "\n",
            "new w = [[5.80692021e+47]]\n",
            "new bias = -2.7877967072779597e+47\n",
            "new MSE = 8.454792174615193e+98\n",
            "\n",
            "new w = [[-1.41171128e+49]]\n",
            "new bias = 6.777368924559182e+48\n",
            "new MSE = 4.9969268192255734e+101\n",
            "\n",
            "new w = [[3.43198919e+50]]\n",
            "new bias = -1.647635547443838e+50\n",
            "new MSE = 2.9532692372574197e+104\n",
            "\n",
            "new w = [[-8.34345518e+51]]\n",
            "new bias = 4.005540981195926e+51\n",
            "new MSE = 1.7454326435548492e+107\n",
            "\n",
            "new w = [[2.02836432e+53]]\n",
            "new bias = -9.737807961797996e+52\n",
            "new MSE = 1.0315805530876903e+110\n",
            "\n",
            "new w = [[-4.93112475e+54]]\n",
            "new bias = 2.367343246418237e+54\n",
            "new MSE = 6.096817550870245e+112\n",
            "\n",
            "new w = [[1.19879802e+56]]\n",
            "new bias = -5.755211099200247e+55\n",
            "new MSE = 3.6033234765176595e+115\n",
            "\n",
            "new w = [[-2.91437909e+57]]\n",
            "new bias = 1.3991403589856101e+57\n",
            "new MSE = 2.1296258200427875e+118\n",
            "\n",
            "new w = [[7.08510137e+58]]\n",
            "new bias = -3.4014282194e+58\n",
            "new MSE = 1.2586452931436368e+121\n",
            "\n",
            "new w = [[-1.7224479e+60]]\n",
            "new bias = 8.269158885616598e+59\n",
            "new MSE = 7.438809010687153e+123\n",
            "\n",
            "new w = [[4.18741612e+61]]\n",
            "new bias = -2.0103022690754822e+61\n",
            "new MSE = 4.3964633879710115e+126\n",
            "\n",
            "new w = [[-1.01799618e+63]]\n",
            "new bias = 4.887214369625316e+62\n",
            "new MSE = 2.5983850766971158e+129\n",
            "\n",
            "new w = [[2.47483456e+64]]\n",
            "new bias = -1.1881230331425032e+64\n",
            "new MSE = 1.5356900333288515e+132\n",
            "\n",
            "new w = [[-6.01653156e+65]]\n",
            "new bias = 2.888427302590302e+65\n",
            "new MSE = 9.07619082181356e+134\n",
            "\n",
            "new w = [[1.46266957e+67]]\n",
            "new bias = -7.022010389178632e+66\n",
            "new MSE = 5.364184050566962e+137\n",
            "\n",
            "new w = [[-3.55587308e+68]]\n",
            "new bias = 1.7071099508550333e+68\n",
            "new MSE = 3.1703245439927205e+140\n",
            "\n",
            "new w = [[8.64462737e+69]]\n",
            "new bias = -4.150128272096095e+69\n",
            "new MSE = 1.8737160432033131e+143\n",
            "\n",
            "new w = [[-2.10158183e+71]]\n",
            "new bias = 1.0089311860799947e+71\n",
            "new MSE = 1.1073982369438896e+146\n",
            "\n",
            "new w = [[5.10912267e+72]]\n",
            "new bias = -2.452796808930092e+72\n",
            "new MSE = 6.544913033299828e+148\n",
            "\n",
            "new w = [[-1.24207081e+74]]\n",
            "new bias = 5.962955917015966e+73\n",
            "new MSE = 3.86815557262156e+151\n",
            "\n",
            "new w = [[3.0195789e+75]]\n",
            "new bias = -1.4496448763640383e+75\n",
            "new MSE = 2.2861461195702596e+154\n",
            "\n",
            "new w = [[-7.34085099e+76]]\n",
            "new bias = 3.524208960813758e+76\n",
            "new MSE = 1.351151467903353e+157\n",
            "\n",
            "new w = [[1.78462279e+78]]\n",
            "new bias = -8.5676492236027e+77\n",
            "new MSE = 7.985536329412562e+159\n",
            "\n",
            "new w = [[-4.33856852e+79]]\n",
            "new bias = 2.0828677877758544e+79\n",
            "new MSE = 4.719588586712706e+162\n",
            "\n",
            "new w = [[1.0547426e+81]]\n",
            "new bias = -5.063627265928155e+80\n",
            "new MSE = 2.7893575971580898e+165\n",
            "\n",
            "new w = [[-2.56416822e+82]]\n",
            "new bias = 1.2310104961405403e+82\n",
            "new MSE = 1.648558060066595e+168\n",
            "\n",
            "new w = [[6.23370922e+83]]\n",
            "new bias = -2.9926903423654953e+83\n",
            "new MSE = 9.743260169221347e+170\n",
            "\n",
            "new w = [[-1.51546729e+85]]\n",
            "new bias = 7.27548263265597e+84\n",
            "new MSE = 5.758433447063447e+173\n",
            "\n",
            "new w = [[3.68422879e+86]]\n",
            "new bias = -1.7687311910873934e+86\n",
            "new MSE = 3.403332682114867e+176\n",
            "\n",
            "new w = [[-8.95667093e+87]]\n",
            "new bias = 4.299934704377656e+87\n",
            "new MSE = 2.0114278391213903e+179\n",
            "\n",
            "new w = [[2.17744225e+89]]\n",
            "new bias = -1.045350393269442e+89\n",
            "new MSE = 1.1887882642958139e+182\n",
            "\n",
            "new w = [[-5.29354575e+90]]\n",
            "new bias = 2.5413349732870786e+90\n",
            "new MSE = 7.025942019102009e+184\n",
            "\n",
            "new w = [[1.28690562e+92]]\n",
            "new bias = -6.1781996620795925e+91\n",
            "new MSE = 4.152451932642873e+187\n",
            "\n",
            "new w = [[-3.1285761e+93]]\n",
            "new bias = 1.5019724462041052e+93\n",
            "new MSE = 2.454170132066271e+190\n",
            "\n",
            "new w = [[7.60583237e+94]]\n",
            "new bias = -3.651421696522183e+94\n",
            "new MSE = 1.4504565338322417e+193\n",
            "\n",
            "new w = [[-1.849042e+96]]\n",
            "new bias = 8.876914113523697e+95\n",
            "new MSE = 8.572446258097603e+195\n",
            "\n",
            "new w = [[4.49517705e+97]]\n",
            "new bias = -2.1580526909266423e+97\n",
            "new MSE = 5.066462395381996e+198\n",
            "\n",
            "new w = [[-1.09281545e+99]]\n",
            "new bias = 5.246408106754845e+98\n",
            "new MSE = 2.994365952375924e+201\n",
            "\n",
            "new w = [[2.65672654e+100]]\n",
            "new bias = -1.27544606016103e+100\n",
            "new MSE = 1.7697215052697828e+204\n",
            "\n",
            "new w = [[-6.45872629e+101]]\n",
            "new bias = 3.100716946296664e+101\n",
            "new MSE = 1.0459356858934639e+207\n",
            "\n",
            "new w = [[1.57017084e+103]]\n",
            "new bias = -7.538104418024112e+102\n",
            "new MSE = 6.181658841619038e+209\n",
            "\n",
            "new w = [[-3.81721773e+104]]\n",
            "new bias = 1.8325767621227445e+104\n",
            "new MSE = 3.653466130809411e+212\n",
            "\n",
            "new w = [[9.27997827e+105]]\n",
            "new bias = -4.4551486724464466e+105\n",
            "new MSE = 2.1592609865664424e+215\n",
            "\n",
            "new w = [[-2.25604099e+107]]\n",
            "new bias = 1.0830842180171605e+107\n",
            "new MSE = 1.2761601835555937e+218\n",
            "\n",
            "new w = [[5.48462592e+108]]\n",
            "new bias = -2.6330690838060814e+108\n",
            "new MSE = 7.542325009457743e+220\n",
            "\n",
            "new w = [[-1.33335882e+110]]\n",
            "new bias = 6.401213021816506e+109\n",
            "new MSE = 4.457643114189321e+223\n",
            "\n",
            "new w = [[3.24150775e+111]]\n",
            "new bias = -1.55618887490196e+111\n",
            "new MSE = 2.634543341550866e+226\n",
            "\n",
            "new w = [[-7.88037873e+112]]\n",
            "new bias = 3.783226407424579e+112\n",
            "new MSE = 1.5570601864506322e+229\n",
            "\n",
            "new w = [[1.91578653e+114]]\n",
            "new bias = -9.197342482438955e+113\n",
            "new MSE = 9.202492082755015e+231\n",
            "\n",
            "new w = [[-4.65743865e+115]]\n",
            "new bias = 2.2359515299762763e+115\n",
            "new MSE = 5.4388302565370186e+234\n",
            "\n",
            "new w = [[1.13226262e+117]]\n",
            "new bias = -5.4357867546512066e+116\n",
            "new MSE = 3.214441728763401e+237\n",
            "\n",
            "new w = [[-2.75262592e+118]]\n",
            "new bias = 1.3214856067275754e+118\n",
            "new MSE = 1.899790054156679e+240\n",
            "\n",
            "new w = [[6.69186577e+119]]\n",
            "new bias = -3.212642967080858e+119\n",
            "new MSE = 1.1228084234897923e+243\n",
            "\n",
            "new w = [[-1.62684901e+121]]\n",
            "new bias = 7.810206014647712e+120\n",
            "new MSE = 6.635989872150683e+245\n",
            "\n",
            "new w = [[3.95500716e+122]]\n",
            "new bias = -1.898726955229198e+122\n",
            "new MSE = 3.92198354251898e+248\n",
            "\n",
            "new w = [[-9.61495597e+123]]\n",
            "new bias = 4.6159653711471986e+123\n",
            "new MSE = 2.317959370665002e+251\n",
            "\n",
            "new w = [[2.33747689e+125]]\n",
            "new bias = -1.1221801138362242e+125\n",
            "new MSE = 1.3699536435593523e+254\n",
            "\n",
            "new w = [[-5.68260347e+126]]\n",
            "new bias = 2.7281145039797233e+126\n",
            "new MSE = 8.096660404203352e+256\n",
            "\n",
            "new w = [[1.38148883e+128]]\n",
            "new bias = -6.632276454607294e+127\n",
            "new MSE = 4.785264816017419e+259\n",
            "\n",
            "new w = [[-3.35851587e+129]]\n",
            "new bias = 1.6123623442553735e+129\n",
            "new MSE = 2.828173372261781e+262\n",
            "\n",
            "new w = [[8.16483534e+130]]\n",
            "new bias = -3.919788849221934e+130\n",
            "new MSE = 1.671498847210604e+265\n",
            "\n",
            "new w = [[-1.98494034e+132]]\n",
            "new bias = 9.529337296437795e+131\n",
            "new MSE = 9.878844145937202e+267\n",
            "\n",
            "new w = [[4.82555737e+133]]\n",
            "new bias = -2.3166622693797785e+133\n",
            "new MSE = 5.838565896864269e+270\n",
            "\n",
            "new w = [[-1.1731337e+135]]\n",
            "new bias = 5.632001369469943e+134\n",
            "new MSE = 3.450692330847827e+273\n",
            "\n",
            "new w = [[2.85198696e+136]]\n",
            "new bias = -1.369187034509061e+136\n",
            "new MSE = 2.0394182017483216e+276\n",
            "\n",
            "new w = [[-6.93342085e+137]]\n",
            "new bias = 3.328609161265443e+137\n",
            "new MSE = 1.2053310474656107e+279\n",
            "\n"
          ]
        }
      ]
    },
    {
      "cell_type": "code",
      "source": [
        "np.mean((x@w+bias - y)**2)"
      ],
      "metadata": {
        "id": "OeKcRtWIUlMJ",
        "colab": {
          "base_uri": "https://localhost:8080/"
        },
        "outputId": "2979e1ad-2e2c-4010-9168-92b408cf1f15"
      },
      "execution_count": 37,
      "outputs": [
        {
          "output_type": "execute_result",
          "data": {
            "text/plain": [
              "1.2053310474656107e+279"
            ]
          },
          "metadata": {},
          "execution_count": 37
        }
      ]
    },
    {
      "cell_type": "code",
      "source": [
        "(x@w+bias).shape"
      ],
      "metadata": {
        "id": "f25lPDqJUqXU",
        "colab": {
          "base_uri": "https://localhost:8080/"
        },
        "outputId": "e0aa0e32-e16f-4236-d727-69247148944a"
      },
      "execution_count": 38,
      "outputs": [
        {
          "output_type": "execute_result",
          "data": {
            "text/plain": [
              "(20, 1)"
            ]
          },
          "metadata": {},
          "execution_count": 38
        }
      ]
    },
    {
      "cell_type": "code",
      "source": [
        "y.shape"
      ],
      "metadata": {
        "id": "WbDqWUEEUrYr",
        "colab": {
          "base_uri": "https://localhost:8080/"
        },
        "outputId": "c832dffd-5b0c-4944-a8fc-d371e00c732f"
      },
      "execution_count": 39,
      "outputs": [
        {
          "output_type": "execute_result",
          "data": {
            "text/plain": [
              "(20, 1)"
            ]
          },
          "metadata": {},
          "execution_count": 39
        }
      ]
    },
    {
      "cell_type": "code",
      "source": [
        "g = sns.scatterplot(y = cost, x = weights)\n",
        "g.invert_xaxis()"
      ],
      "metadata": {
        "id": "NVHkpoCmVv0w",
        "colab": {
          "base_uri": "https://localhost:8080/",
          "height": 463
        },
        "outputId": "d0bda8d8-8457-46fb-b223-f3da5fdbe4ff"
      },
      "execution_count": 40,
      "outputs": [
        {
          "output_type": "display_data",
          "data": {
            "text/plain": [
              "<Figure size 640x480 with 1 Axes>"
            ],
            "image/png": "[encoded data removed]"
          },
          "metadata": {}
        }
      ]
    },
    {
      "cell_type": "code",
      "source": [
        "yhat = x@w+bias\n",
        "yhat\n",
        "plt.figure(figsize = (8,6))\n",
        "sns.scatterplot(x=x.squeeze(), y=y.squeeze())\n",
        "plt.plot([min(x), max(x)], [min(yhat), max(yhat)], color='red',markerfacecolor='red',\n",
        "             markersize=10,linestyle='dashed')"
      ],
      "metadata": {
        "id": "EzwNDNWRV7-l",
        "colab": {
          "base_uri": "https://localhost:8080/",
          "height": 555
        },
        "outputId": "d2b54b78-5c5c-492a-aec7-acdb7d9659ab"
      },
      "execution_count": 41,
      "outputs": [
        {
          "output_type": "execute_result",
          "data": {
            "text/plain": [
              "[<matplotlib.lines.Line2D at 0x7a601d6f7670>]"
            ]
          },
          "metadata": {},
          "execution_count": 41
        },
        {
          "output_type": "display_data",
          "data": {
            "text/plain": [
              "<Figure size 800x600 with 1 Axes>"
            ],
            "image/png": "[encoded data removed]"
          },
          "metadata": {}
        }
      ]
    },
    {
      "cell_type": "code",
      "source": [],
      "metadata": {
        "id": "OmCjFK2VWHaR"
      },
      "execution_count": 41,
      "outputs": []
    }
  ]
}