{
  "nbformat": 4,
  "nbformat_minor": 0,
  "metadata": {
    "colab": {
      "provenance": [],
      "collapsed_sections": [
        "s_pXms431fZZ",
        "9u843ml51kEd",
        "KqM2BPfD1rDS",
        "aK_ot3xQ1uXy",
        "kSWz3HLS1yLs",
        "ArMJ4efp11KF",
        "ukOrOycn2p0H",
        "8SZmvwfJ2ryt",
        "3HAvOYne4ulA",
        "3ZzZz9b96xCR",
        "xmbx_mQw7E-L",
        "cYRqE8nM4W65"
      ]
    },
    "kernelspec": {
      "name": "python3",
      "display_name": "Python 3"
    },
    "language_info": {
      "name": "python"
    }
  },
  "cells": [
    {
      "cell_type": "code",
      "execution_count": 1,
      "metadata": {
        "id": "8AIZuzGIjfD-"
      },
      "outputs": [],
      "source": [
        "import time\n",
        "import numpy as np\n",
        "import seaborn as sns\n",
        "import matplotlib.pyplot as plt\n",
        "from IPython.display import clear_output"
      ]
    },
    {
      "cell_type": "markdown",
      "source": [
        "# Data Exploration"
      ],
      "metadata": {
        "id": "s_pXms431fZZ"
      }
    },
    {
      "cell_type": "code",
      "source": [
        "# our variable init\n",
        "x = np.array([[1],[0],[1],[0]])\n",
        "bias = 0.5\n",
        "w = np.array([[1.2]]) # needs to be n,1\n",
        "y = np.array([[0],[1],[0],[1]])"
      ],
      "metadata": {
        "id": "1eCDqmdHka__"
      },
      "execution_count": 2,
      "outputs": []
    },
    {
      "cell_type": "code",
      "source": [
        "display(x.shape)\n",
        "display(w.shape)\n",
        "display(y.shape)"
      ],
      "metadata": {
        "id": "H_w0YYUlkzcs",
        "colab": {
          "base_uri": "https://localhost:8080/",
          "height": 71
        },
        "outputId": "9edc1b29-ca1a-4218-c671-bfcbe2ae6111"
      },
      "execution_count": 3,
      "outputs": [
        {
          "output_type": "display_data",
          "data": {
            "text/plain": [
              "(4, 1)"
            ]
          },
          "metadata": {}
        },
        {
          "output_type": "display_data",
          "data": {
            "text/plain": [
              "(1, 1)"
            ]
          },
          "metadata": {}
        },
        {
          "output_type": "display_data",
          "data": {
            "text/plain": [
              "(4, 1)"
            ]
          },
          "metadata": {}
        }
      ]
    },
    {
      "cell_type": "code",
      "source": [
        "display(x)\n",
        "display(w)\n",
        "display(bias)\n",
        "display(y)"
      ],
      "metadata": {
        "id": "CYaiyN3Jnklp",
        "colab": {
          "base_uri": "https://localhost:8080/",
          "height": 196
        },
        "outputId": "1425c78d-d92e-4c1d-d75f-0e92f35d9d35"
      },
      "execution_count": 4,
      "outputs": [
        {
          "output_type": "display_data",
          "data": {
            "text/plain": [
              "array([[1],\n",
              "       [0],\n",
              "       [1],\n",
              "       [0]])"
            ]
          },
          "metadata": {}
        },
        {
          "output_type": "display_data",
          "data": {
            "text/plain": [
              "array([[1.2]])"
            ]
          },
          "metadata": {}
        },
        {
          "output_type": "display_data",
          "data": {
            "text/plain": [
              "0.5"
            ]
          },
          "metadata": {}
        },
        {
          "output_type": "display_data",
          "data": {
            "text/plain": [
              "array([[0],\n",
              "       [1],\n",
              "       [0],\n",
              "       [1]])"
            ]
          },
          "metadata": {}
        }
      ]
    },
    {
      "cell_type": "code",
      "source": [
        "yhat = x@w+bias\n",
        "yhat"
      ],
      "metadata": {
        "id": "CYibLbqtTFg8",
        "colab": {
          "base_uri": "https://localhost:8080/"
        },
        "outputId": "b77a79a3-b231-4bba-c3e1-fd9c36c20a56"
      },
      "execution_count": 5,
      "outputs": [
        {
          "output_type": "execute_result",
          "data": {
            "text/plain": [
              "array([[1.7],\n",
              "       [0.5],\n",
              "       [1.7],\n",
              "       [0.5]])"
            ]
          },
          "metadata": {},
          "execution_count": 5
        }
      ]
    },
    {
      "cell_type": "code",
      "source": [
        "plt.figure(figsize = (8,6))\n",
        "sns.scatterplot(x=x.squeeze(), y=y.squeeze())\n",
        "plt.plot([x[0], x[-1]], [yhat[0], yhat[-1]], color='red',markerfacecolor='red',\n",
        "             markersize=10,linestyle='dashed')"
      ],
      "metadata": {
        "id": "lUcjnt4gS82m",
        "colab": {
          "base_uri": "https://localhost:8080/",
          "height": 540
        },
        "outputId": "0fa2f3cd-5c8f-4ebd-944e-05d90514f7c0"
      },
      "execution_count": 6,
      "outputs": [
        {
          "output_type": "execute_result",
          "data": {
            "text/plain": [
              "[<matplotlib.lines.Line2D at 0x7bd6974df2b0>]"
            ]
          },
          "metadata": {},
          "execution_count": 6
        },
        {
          "output_type": "display_data",
          "data": {
            "text/plain": [
              "<Figure size 800x600 with 1 Axes>"
            ],
            "image/png": "[encoded data removed]"
          },
          "metadata": {}
        }
      ]
    },
    {
      "cell_type": "code",
      "source": [],
      "metadata": {
        "id": "UApSRUFvTUNP"
      },
      "execution_count": 6,
      "outputs": []
    },
    {
      "cell_type": "markdown",
      "source": [
        "# Gradient Descent Code"
      ],
      "metadata": {
        "id": "9u843ml51kEd"
      }
    },
    {
      "cell_type": "code",
      "source": [
        "def mse_loss_fxn(x, w, bias, y):\n",
        "  yhat = x@w+bias\n",
        "  if yhat.shape != y.shape:\n",
        "    print('shape mismatch!')\n",
        "  else:\n",
        "    mse = np.sum((x @ w + bias - y)**2)/y.shape[0]\n",
        "  return mse"
      ],
      "metadata": {
        "id": "5kCYp-r3n8dN"
      },
      "execution_count": 7,
      "outputs": []
    },
    {
      "cell_type": "code",
      "source": [
        "def bias_derivative(x, w, bias, y):\n",
        "  myderivative = np.sum(x @ w + bias - y)/y.shape[0] # x is a vector, w is a scalar and y is a vector\n",
        "  return myderivative"
      ],
      "metadata": {
        "id": "bgv2Gyr0jg80"
      },
      "execution_count": 8,
      "outputs": []
    },
    {
      "cell_type": "code",
      "source": [
        "def dependent_var_derivative(x, w, bias, y):\n",
        "  if x.shape[1] == 1:\n",
        "    if len(w.shape) != 2:\n",
        "      w = w.reshape(-1,1)\n",
        "    myderivative = np.sum(x.T @ (x @ w + bias - y))/y.shape[0] # x is a vector, w is a scalar and y is a vector\n",
        "    return myderivative\n",
        "  else:\n",
        "    print('x should be a vector of shape m,1 but found',x.shape)"
      ],
      "metadata": {
        "id": "rNbtKr4NkIT2"
      },
      "execution_count": 9,
      "outputs": []
    },
    {
      "cell_type": "code",
      "source": [
        "def gradient_descent_update_dep_var(x, w, bias, y, alpha):\n",
        "  if len(w.shape) != 2:\n",
        "      w = w.reshape(-1,1)\n",
        "  w = w - alpha * (dependent_var_derivative(x, w, bias, y))\n",
        "  return w\n",
        "def gradient_descent_update_bias(x, w, bias, y, alpha):\n",
        "  bias = bias - alpha * (bias_derivative(x, w, bias, y))\n",
        "  return bias"
      ],
      "metadata": {
        "id": "avjUZy4mlnNe"
      },
      "execution_count": 10,
      "outputs": []
    },
    {
      "cell_type": "markdown",
      "source": [
        "# Testing our code"
      ],
      "metadata": {
        "id": "KqM2BPfD1rDS"
      }
    },
    {
      "cell_type": "code",
      "source": [
        "display(x)\n",
        "display(w)\n",
        "display(bias)\n",
        "display(y)"
      ],
      "metadata": {
        "id": "aSGcaUrI3BYA",
        "colab": {
          "base_uri": "https://localhost:8080/",
          "height": 196
        },
        "outputId": "60350f52-4fb8-4c46-b581-380515b73acc"
      },
      "execution_count": 11,
      "outputs": [
        {
          "output_type": "display_data",
          "data": {
            "text/plain": [
              "array([[1],\n",
              "       [0],\n",
              "       [1],\n",
              "       [0]])"
            ]
          },
          "metadata": {}
        },
        {
          "output_type": "display_data",
          "data": {
            "text/plain": [
              "array([[1.2]])"
            ]
          },
          "metadata": {}
        },
        {
          "output_type": "display_data",
          "data": {
            "text/plain": [
              "0.5"
            ]
          },
          "metadata": {}
        },
        {
          "output_type": "display_data",
          "data": {
            "text/plain": [
              "array([[0],\n",
              "       [1],\n",
              "       [0],\n",
              "       [1]])"
            ]
          },
          "metadata": {}
        }
      ]
    },
    {
      "cell_type": "markdown",
      "source": [
        "## 1st iteration"
      ],
      "metadata": {
        "id": "aK_ot3xQ1uXy"
      }
    },
    {
      "cell_type": "code",
      "source": [
        "print('MSE = ',mse_loss_fxn(x, w, bias, y))"
      ],
      "metadata": {
        "id": "eoM9rynloNJ5",
        "colab": {
          "base_uri": "https://localhost:8080/"
        },
        "outputId": "254af37b-1cbc-49ba-d62b-99d07cdf30ab"
      },
      "execution_count": 12,
      "outputs": [
        {
          "output_type": "stream",
          "name": "stdout",
          "text": [
            "MSE =  1.5699999999999998\n"
          ]
        }
      ]
    },
    {
      "cell_type": "code",
      "source": [
        "w = gradient_descent_update_dep_var(x, w, bias, y, 0.01)\n",
        "print('Our new w = ', w)"
      ],
      "metadata": {
        "id": "DqFSWlfHnIqB",
        "colab": {
          "base_uri": "https://localhost:8080/"
        },
        "outputId": "35c741d9-4bfb-48c0-c753-fbad72d5e22e"
      },
      "execution_count": 13,
      "outputs": [
        {
          "output_type": "stream",
          "name": "stdout",
          "text": [
            "Our new w =  [[1.1915]]\n"
          ]
        }
      ]
    },
    {
      "cell_type": "code",
      "source": [
        "bias = gradient_descent_update_bias(x, w, bias, y, 0.01)\n",
        "print('Our new bias = ', bias)"
      ],
      "metadata": {
        "id": "Y50i8FpWnRJA",
        "colab": {
          "base_uri": "https://localhost:8080/"
        },
        "outputId": "ffd8d012-e135-42b6-cb4a-cf666330f56e"
      },
      "execution_count": 14,
      "outputs": [
        {
          "output_type": "stream",
          "name": "stdout",
          "text": [
            "Our new bias =  0.4940425\n"
          ]
        }
      ]
    },
    {
      "cell_type": "code",
      "source": [
        "print('MSE = ',mse_loss_fxn(x, w, bias, y))"
      ],
      "metadata": {
        "id": "tPcHpT2aoWe8",
        "colab": {
          "base_uri": "https://localhost:8080/"
        },
        "outputId": "766a6f29-3be0-41ac-a9a1-e107a75ca470"
      },
      "execution_count": 15,
      "outputs": [
        {
          "output_type": "stream",
          "name": "stdout",
          "text": [
            "MSE =  1.5485232555562498\n"
          ]
        }
      ]
    },
    {
      "cell_type": "markdown",
      "source": [
        "## 2nd iter"
      ],
      "metadata": {
        "id": "kSWz3HLS1yLs"
      }
    },
    {
      "cell_type": "code",
      "source": [
        "w = gradient_descent_update_dep_var(x, w, bias, y, 0.01)\n",
        "print('Our new w = ', w)"
      ],
      "metadata": {
        "id": "OWI2wbinnU8z",
        "colab": {
          "base_uri": "https://localhost:8080/"
        },
        "outputId": "9d1f2c4c-0fef-4bbf-fdf3-656fbc2c5a57"
      },
      "execution_count": 16,
      "outputs": [
        {
          "output_type": "stream",
          "name": "stdout",
          "text": [
            "Our new w =  [[1.18307229]]\n"
          ]
        }
      ]
    },
    {
      "cell_type": "code",
      "source": [
        "bias = gradient_descent_update_bias(x, w, bias, y, 0.01)\n",
        "print('Our new bias = ', bias)"
      ],
      "metadata": {
        "id": "AKiwRFsPnt9R",
        "colab": {
          "base_uri": "https://localhost:8080/"
        },
        "outputId": "eace62f6-6091-4035-82a1-d9f806f74e35"
      },
      "execution_count": 17,
      "outputs": [
        {
          "output_type": "stream",
          "name": "stdout",
          "text": [
            "Our new bias =  0.4881867135625\n"
          ]
        }
      ]
    },
    {
      "cell_type": "code",
      "source": [
        "print('MSE = ',mse_loss_fxn(x, w, bias, y))"
      ],
      "metadata": {
        "id": "2fIfgCNPoalG",
        "colab": {
          "base_uri": "https://localhost:8080/"
        },
        "outputId": "12ee2d06-f17f-4832-9bec-995fa61cc3de"
      },
      "execution_count": 18,
      "outputs": [
        {
          "output_type": "stream",
          "name": "stdout",
          "text": [
            "MSE =  1.5275297444031897\n"
          ]
        }
      ]
    },
    {
      "cell_type": "markdown",
      "source": [
        "## 3rd iter"
      ],
      "metadata": {
        "id": "ArMJ4efp11KF"
      }
    },
    {
      "cell_type": "code",
      "source": [
        "w = gradient_descent_update_dep_var(x, w, bias, y, 0.01)\n",
        "print('Our new w = ', w)\n",
        "bias = gradient_descent_update_bias(x, w, bias, y, 0.01)\n",
        "print('Our new bias = ', bias)"
      ],
      "metadata": {
        "id": "KEMaNt6onuXP",
        "colab": {
          "base_uri": "https://localhost:8080/"
        },
        "outputId": "edfd0fc6-6895-446c-b176-15c7c39da5c5"
      },
      "execution_count": 19,
      "outputs": [
        {
          "output_type": "stream",
          "name": "stdout",
          "text": [
            "Our new w =  [[1.17471599]]\n",
            "Our new bias =  0.48243126646440154\n"
          ]
        }
      ]
    },
    {
      "cell_type": "code",
      "source": [
        "print('MSE = ',mse_loss_fxn(x, w, bias, y))"
      ],
      "metadata": {
        "id": "Bqjf9n7ioeCA",
        "colab": {
          "base_uri": "https://localhost:8080/"
        },
        "outputId": "cf940f2c-11f9-4b87-ccb9-1c3f116cbb84"
      },
      "execution_count": 20,
      "outputs": [
        {
          "output_type": "stream",
          "name": "stdout",
          "text": [
            "MSE =  1.5070072159046326\n"
          ]
        }
      ]
    },
    {
      "cell_type": "markdown",
      "source": [
        "## 4th iter"
      ],
      "metadata": {
        "id": "ukOrOycn2p0H"
      }
    },
    {
      "cell_type": "code",
      "source": [
        "w = gradient_descent_update_dep_var(x, w, bias, y, 0.01)\n",
        "print('Our new w = ', w)\n",
        "bias = gradient_descent_update_bias(x, w, bias, y, 0.01)\n",
        "print('Our new bias = ', bias)"
      ],
      "metadata": {
        "id": "K49aoXUYoe84",
        "colab": {
          "base_uri": "https://localhost:8080/"
        },
        "outputId": "95f1c137-5613-4a63-acd5-4110a5221b8a"
      },
      "execution_count": 33,
      "outputs": [
        {
          "output_type": "stream",
          "name": "stdout",
          "text": [
            "Our new w =  [[1.1915]]\n",
            "Our new bias =  0.4940425\n"
          ]
        }
      ]
    },
    {
      "cell_type": "code",
      "source": [
        "print('MSE = ',mse_loss_fxn(x, w, bias, y))"
      ],
      "metadata": {
        "id": "_I3S_IswogYx",
        "colab": {
          "base_uri": "https://localhost:8080/"
        },
        "outputId": "fc0b5712-6350-45e9-dc9a-229dd3b72e81"
      },
      "execution_count": 22,
      "outputs": [
        {
          "output_type": "stream",
          "name": "stdout",
          "text": [
            "MSE =  1.4869437361389235\n"
          ]
        }
      ]
    },
    {
      "cell_type": "markdown",
      "source": [
        "## Let's loop it!"
      ],
      "metadata": {
        "id": "8SZmvwfJ2ryt"
      }
    },
    {
      "cell_type": "code",
      "source": [
        "for i in range(0, 20):\n",
        "  w = gradient_descent_update_dep_var(x, w, bias, y, 0.01)\n",
        "  print('new w =', w)\n",
        "  bias = gradient_descent_update_bias(x, w, bias, y, 0.01)\n",
        "  print('new bias =', bias)\n",
        "  print('new MSE =', mse_loss_fxn(x, w, bias, y))\n",
        "  print()"
      ],
      "metadata": {
        "id": "Wx9qccxBohr_",
        "colab": {
          "base_uri": "https://localhost:8080/"
        },
        "outputId": "c0e7a4df-2a20-411d-c476-7098d2724522"
      },
      "execution_count": 23,
      "outputs": [
        {
          "output_type": "stream",
          "name": "stdout",
          "text": [
            "new w = [[1.15821423]]\n",
            "new bias = 0.471215983339039\n",
            "new MSE = 1.4673276796858534\n",
            "\n",
            "new w = [[1.15006708]]\n",
            "new bias = 0.46575348810647327\n",
            "new MSE = 1.4481477216266692\n",
            "\n",
            "new w = [[1.14198798]]\n",
            "new bias = 0.4603860133404317\n",
            "new MSE = 1.4293928297516472\n",
            "\n",
            "new w = [[1.13397611]]\n",
            "new bias = 0.455112272671809\n",
            "new MSE = 1.4110522569698483\n",
            "\n",
            "new w = [[1.12603067]]\n",
            "new bias = 0.44993099661936536\n",
            "new MSE = 1.3931155339158026\n",
            "\n",
            "new w = [[1.11815086]]\n",
            "new bias = 0.4448409323689903\n",
            "new MSE = 1.375572461748021\n",
            "\n",
            "new w = [[1.1103359]]\n",
            "new bias = 0.4398408435558491\n",
            "new MSE = 1.358413105134349\n",
            "\n",
            "new w = [[1.10258501]]\n",
            "new bias = 0.43492951004937547\n",
            "new MSE = 1.3416277854193175\n",
            "\n",
            "new w = [[1.09489744]]\n",
            "new bias = 0.43010572774107236\n",
            "new MSE = 1.325207073968771\n",
            "\n",
            "new w = [[1.08727243]]\n",
            "new bias = 0.4253683083350849\n",
            "new MSE = 1.309141785687163\n",
            "\n",
            "new w = [[1.07970922]]\n",
            "new bias = 0.42071607914150855\n",
            "new MSE = 1.2934229727030555\n",
            "\n",
            "new w = [[1.0722071]]\n",
            "new bias = 0.4161478828723976\n",
            "new MSE = 1.278041918218436\n",
            "\n",
            "new w = [[1.06476532]]\n",
            "new bias = 0.4116625774404381\n",
            "new MSE = 1.26299013051762\n",
            "\n",
            "new w = [[1.05738318]]\n",
            "new bias = 0.40725903576025035\n",
            "new MSE = 1.2482593371315915\n",
            "\n",
            "new w = [[1.05005997]]\n",
            "new bias = 0.4029361455522874\n",
            "new MSE = 1.233841479153739\n",
            "\n",
            "new w = [[1.04279499]]\n",
            "new bias = 0.3986928091492947\n",
            "new MSE = 1.2197287057030781\n",
            "\n",
            "new w = [[1.03558755]]\n",
            "new bias = 0.39452794330529806\n",
            "new MSE = 1.2059133685311123\n",
            "\n",
            "new w = [[1.02843697]]\n",
            "new bias = 0.3904404790070865\n",
            "new MSE = 1.1923880167686205\n",
            "\n",
            "new w = [[1.02134259]]\n",
            "new bias = 0.386429361288158\n",
            "new MSE = 1.1791453918087331\n",
            "\n",
            "new w = [[1.01430373]]\n",
            "new bias = 0.3824935490450953\n",
            "new MSE = 1.166178422322763\n",
            "\n"
          ]
        }
      ]
    },
    {
      "cell_type": "code",
      "source": [
        "display(y)\n",
        "yhat = x@w+bias\n",
        "yhat"
      ],
      "metadata": {
        "id": "CQVH6kio6w0U",
        "colab": {
          "base_uri": "https://localhost:8080/",
          "height": 0
        },
        "outputId": "da9ae318-bf8a-4f7f-a5aa-09b785ac4cda"
      },
      "execution_count": 24,
      "outputs": [
        {
          "output_type": "display_data",
          "data": {
            "text/plain": [
              "array([[0],\n",
              "       [1],\n",
              "       [0],\n",
              "       [1]])"
            ]
          },
          "metadata": {}
        },
        {
          "output_type": "execute_result",
          "data": {
            "text/plain": [
              "array([[1.39679728],\n",
              "       [0.38249355],\n",
              "       [1.39679728],\n",
              "       [0.38249355]])"
            ]
          },
          "metadata": {},
          "execution_count": 24
        }
      ]
    },
    {
      "cell_type": "code",
      "source": [
        "plt.figure(figsize = (8,6))\n",
        "sns.scatterplot(x=x.squeeze(), y=y.squeeze())\n",
        "plt.plot([x[0], x[-1]], [yhat[0], yhat[-1]], color='red',markerfacecolor='red',\n",
        "             markersize=10,linestyle='dashed')"
      ],
      "metadata": {
        "id": "I60X8M106w3Z",
        "colab": {
          "base_uri": "https://localhost:8080/",
          "height": 0
        },
        "outputId": "a81d978a-ebb3-41d7-b01a-a88f22523978"
      },
      "execution_count": 25,
      "outputs": [
        {
          "output_type": "execute_result",
          "data": {
            "text/plain": [
              "[<matplotlib.lines.Line2D at 0x7bd697297cd0>]"
            ]
          },
          "metadata": {},
          "execution_count": 25
        },
        {
          "output_type": "display_data",
          "data": {
            "text/plain": [
              "<Figure size 800x600 with 1 Axes>"
            ],
            "image/png": "[encoded data removed]"
          },
          "metadata": {}
        }
      ]
    },
    {
      "cell_type": "code",
      "source": [],
      "metadata": {
        "id": "JB4kZ10EJQLO"
      },
      "execution_count": 25,
      "outputs": []
    },
    {
      "cell_type": "markdown",
      "source": [
        "## Participation block"
      ],
      "metadata": {
        "id": "3HAvOYne4ulA"
      }
    },
    {
      "cell_type": "markdown",
      "source": [],
      "metadata": {
        "id": "FijxJkVd405a"
      }
    },
    {
      "cell_type": "markdown",
      "source": [
        "# Reinitialize, loop and plot"
      ],
      "metadata": {
        "id": "3ZzZz9b96xCR"
      }
    },
    {
      "cell_type": "code",
      "source": [
        "# our variable init\n",
        "x = np.array([[1],[0],[1],[0]])\n",
        "bias = 0.5\n",
        "w = np.array([[1.2]]) # needs to be n,1\n",
        "y = np.array([[0],[1],[0],[1]])\n",
        "mylr = 0.001"
      ],
      "metadata": {
        "id": "qBLBokc7oyhc"
      },
      "execution_count": 26,
      "outputs": []
    },
    {
      "cell_type": "code",
      "source": [
        "for i in range(0, 20):\n",
        "  w = gradient_descent_update_dep_var(x, w, bias, y, mylr)\n",
        "  print('new w =', w)\n",
        "  bias = gradient_descent_update_bias(x, w, bias, y, mylr)\n",
        "  print('new bias =', bias)\n",
        "  print('new MSE =', mse_loss_fxn(x, w, bias, y))\n",
        "  print()"
      ],
      "metadata": {
        "id": "ltCevGvDpMfW",
        "colab": {
          "base_uri": "https://localhost:8080/"
        },
        "outputId": "be5da1e5-e2d3-42c5-912d-8b2a6e071912"
      },
      "execution_count": 27,
      "outputs": [
        {
          "output_type": "stream",
          "name": "stdout",
          "text": [
            "new w = [[1.19915]]\n",
            "new bias = 0.499400425\n",
            "new MSE = 1.5678367403789304\n",
            "\n",
            "new w = [[1.19830072]]\n",
            "new bias = 0.49880187421260624\n",
            "new MSE = 1.5656783964128553\n",
            "\n",
            "new w = [[1.19745217]]\n",
            "new bias = 0.49820434625164967\n",
            "new MSE = 1.5635249555281574\n",
            "\n",
            "new w = [[1.19660435]]\n",
            "new bias = 0.49760783973278394\n",
            "new MSE = 1.5613764051839971\n",
            "\n",
            "new w = [[1.19575724]]\n",
            "new bias = 0.4970123532734833\n",
            "new MSE = 1.5592327328722309\n",
            "\n",
            "new w = [[1.19491085]]\n",
            "new bias = 0.4964178854930401\n",
            "new MSE = 1.5570939261173218\n",
            "\n",
            "new w = [[1.19406519]]\n",
            "new bias = 0.4958244350125623\n",
            "new MSE = 1.5549599724762575\n",
            "\n",
            "new w = [[1.19322025]]\n",
            "new bias = 0.49523200045497123\n",
            "new MSE = 1.5528308595384632\n",
            "\n",
            "new w = [[1.19237602]]\n",
            "new bias = 0.49464058044499915\n",
            "new MSE = 1.5507065749257178\n",
            "\n",
            "new w = [[1.19153251]]\n",
            "new bias = 0.4940501736091869\n",
            "new MSE = 1.5485871062920686\n",
            "\n",
            "new w = [[1.19068972]]\n",
            "new bias = 0.49346077857588155\n",
            "new MSE = 1.5464724413237474\n",
            "\n",
            "new w = [[1.18984764]]\n",
            "new bias = 0.492872393975234\n",
            "new MSE = 1.5443625677390864\n",
            "\n",
            "new w = [[1.18900628]]\n",
            "new bias = 0.49228501843919664\n",
            "new MSE = 1.5422574732884347\n",
            "\n",
            "new w = [[1.18816564]]\n",
            "new bias = 0.49169865060152096\n",
            "new MSE = 1.540157145754072\n",
            "\n",
            "new w = [[1.18732571]]\n",
            "new bias = 0.4911132890977552\n",
            "new MSE = 1.5380615729501306\n",
            "\n",
            "new w = [[1.18648649]]\n",
            "new bias = 0.49052893256524205\n",
            "new MSE = 1.5359707427225047\n",
            "\n",
            "new w = [[1.18564798]]\n",
            "new bias = 0.4899455796431163\n",
            "new MSE = 1.5338846429487751\n",
            "\n",
            "new w = [[1.18481018]]\n",
            "new bias = 0.48936322897230233\n",
            "new MSE = 1.53180326153812\n",
            "\n",
            "new w = [[1.1839731]]\n",
            "new bias = 0.488781879195512\n",
            "new MSE = 1.5297265864312357\n",
            "\n",
            "new w = [[1.18313672]]\n",
            "new bias = 0.4882015289572422\n",
            "new MSE = 1.5276546056002538\n",
            "\n"
          ]
        }
      ]
    },
    {
      "cell_type": "code",
      "source": [
        "display(y)\n",
        "yhat = x@w+bias\n",
        "yhat"
      ],
      "metadata": {
        "id": "8ZIOEu7q7N1e",
        "colab": {
          "base_uri": "https://localhost:8080/",
          "height": 160
        },
        "outputId": "6cff7ebb-a40e-45c1-fa75-9a16227c15ec"
      },
      "execution_count": 28,
      "outputs": [
        {
          "output_type": "display_data",
          "data": {
            "text/plain": [
              "array([[0],\n",
              "       [1],\n",
              "       [0],\n",
              "       [1]])"
            ]
          },
          "metadata": {}
        },
        {
          "output_type": "execute_result",
          "data": {
            "text/plain": [
              "array([[1.67133825],\n",
              "       [0.48820153],\n",
              "       [1.67133825],\n",
              "       [0.48820153]])"
            ]
          },
          "metadata": {},
          "execution_count": 28
        }
      ]
    },
    {
      "cell_type": "code",
      "source": [
        "plt.figure(figsize = (8,6))\n",
        "sns.scatterplot(x=x.squeeze(), y=y.squeeze())\n",
        "plt.plot(x.squeeze(), yhat.squeeze(), color='red', linestyle='dashed') # use squeeze instead"
      ],
      "metadata": {
        "id": "dvo_TsDK7Oss",
        "colab": {
          "base_uri": "https://localhost:8080/",
          "height": 544
        },
        "outputId": "57f11bd5-cebf-43e1-abd4-0af65a298a9a"
      },
      "execution_count": 29,
      "outputs": [
        {
          "output_type": "execute_result",
          "data": {
            "text/plain": [
              "[<matplotlib.lines.Line2D at 0x7bd697f6cd60>]"
            ]
          },
          "metadata": {},
          "execution_count": 29
        },
        {
          "output_type": "display_data",
          "data": {
            "text/plain": [
              "<Figure size 800x600 with 1 Axes>"
            ],
            "image/png": "[encoded data removed]"
          },
          "metadata": {}
        }
      ]
    },
    {
      "cell_type": "markdown",
      "source": [
        "## Let's change our alpha"
      ],
      "metadata": {
        "id": "9R0uxZMV7UiY"
      }
    },
    {
      "cell_type": "code",
      "source": [
        "# our variable init\n",
        "x = np.array([[1],[0],[1],[0]])\n",
        "bias = 0.5\n",
        "w = np.array([[1.2]]) # needs to be n,1\n",
        "#w = np.array([[-0.62]]) # needs to be n,1\n",
        "y = np.array([[0],[1],[0],[1]])\n",
        "mylr = 0.01\n",
        "iterations = 100"
      ],
      "metadata": {
        "id": "4Gfy32e1pTSt"
      },
      "execution_count": 30,
      "outputs": []
    },
    {
      "cell_type": "code",
      "source": [
        "display(y)\n",
        "yhat = x@w+bias\n",
        "yhat"
      ],
      "metadata": {
        "id": "5gu3n6pgSRD_",
        "colab": {
          "base_uri": "https://localhost:8080/",
          "height": 160
        },
        "outputId": "9a9f21f3-62b8-4779-88b3-155408d276da"
      },
      "execution_count": 31,
      "outputs": [
        {
          "output_type": "display_data",
          "data": {
            "text/plain": [
              "array([[0],\n",
              "       [1],\n",
              "       [0],\n",
              "       [1]])"
            ]
          },
          "metadata": {}
        },
        {
          "output_type": "execute_result",
          "data": {
            "text/plain": [
              "array([[1.7],\n",
              "       [0.5],\n",
              "       [1.7],\n",
              "       [0.5]])"
            ]
          },
          "metadata": {},
          "execution_count": 31
        }
      ]
    },
    {
      "cell_type": "code",
      "source": [
        "plt.figure(figsize = (8,6))\n",
        "sns.scatterplot(x=x.squeeze(), y=y.squeeze())\n",
        "plt.plot(x.squeeze(), yhat.squeeze(), color='red', linestyle='dashed') # use squeeze instead"
      ],
      "metadata": {
        "id": "hDpgBJsT7S3x",
        "colab": {
          "base_uri": "https://localhost:8080/",
          "height": 540
        },
        "outputId": "295afa82-702e-4d37-86f3-e00fe23926d1"
      },
      "execution_count": 32,
      "outputs": [
        {
          "output_type": "execute_result",
          "data": {
            "text/plain": [
              "[<matplotlib.lines.Line2D at 0x7bd696ec8340>]"
            ]
          },
          "metadata": {},
          "execution_count": 32
        },
        {
          "output_type": "display_data",
          "data": {
            "text/plain": [
              "<Figure size 800x600 with 1 Axes>"
            ],
            "image/png": "[encoded data removed]"
          },
          "metadata": {}
        }
      ]
    },
    {
      "cell_type": "markdown",
      "source": [
        "# Learning time!"
      ],
      "metadata": {
        "id": "xmbx_mQw7E-L"
      }
    },
    {
      "cell_type": "code",
      "source": [
        "# our variable init\n",
        "x = np.array([[1],[0],[1],[0]])\n",
        "bias = 0.5\n",
        "w = np.array([[1.2]]) # needs to be n,1\n",
        "#w = np.array([[-0.62]]) # needs to be n,1\n",
        "y = np.array([[0],[1],[0],[1]])\n",
        "mylr = 0.01\n",
        "iterations = 100\n",
        "\n",
        "weights = list()\n",
        "cost = list()\n",
        "biases  = list()\n",
        "my_mse = mse_loss_fxn(x, w, bias, y)\n",
        "print('Starting MSE =', my_mse)\n",
        "cost.append(my_mse)\n",
        "weights.append(w[0][0])\n",
        "biases.append(bias)\n",
        "for i in range(0, iterations):\n",
        "  w = gradient_descent_update_dep_var(x, w, bias, y, mylr)\n",
        "  weights.append(w[0][0])\n",
        "  print('new w =', w)\n",
        "  bias = gradient_descent_update_bias(x, w, bias, y, mylr)\n",
        "  biases.append(bias)\n",
        "  print('new bias =', bias)\n",
        "  my_mse = mse_loss_fxn(x, w, bias, y)\n",
        "  cost.append(my_mse)\n",
        "  print('new MSE =', my_mse)\n",
        "  print()"
      ],
      "metadata": {
        "id": "poHVvrCIpTec",
        "colab": {
          "base_uri": "https://localhost:8080/"
        },
        "outputId": "6509d6c9-f3d2-4c34-d04a-e418730017a3"
      },
      "execution_count": 34,
      "outputs": [
        {
          "output_type": "stream",
          "name": "stdout",
          "text": [
            "Starting MSE = 1.5699999999999998\n",
            "new w = [[1.1915]]\n",
            "new bias = 0.4940425\n",
            "new MSE = 1.5485232555562498\n",
            "\n",
            "new w = [[1.18307229]]\n",
            "new bias = 0.4881867135625\n",
            "new MSE = 1.5275297444031897\n",
            "\n",
            "new w = [[1.17471599]]\n",
            "new bias = 0.48243126646440154\n",
            "new MSE = 1.5070072159046326\n",
            "\n",
            "new w = [[1.16643026]]\n",
            "new bias = 0.4767748025187581\n",
            "new MSE = 1.4869437361389235\n",
            "\n",
            "new w = [[1.15821423]]\n",
            "new bias = 0.471215983339039\n",
            "new MSE = 1.4673276796858534\n",
            "\n",
            "new w = [[1.15006708]]\n",
            "new bias = 0.46575348810647327\n",
            "new MSE = 1.4481477216266692\n",
            "\n",
            "new w = [[1.14198798]]\n",
            "new bias = 0.4603860133404317\n",
            "new MSE = 1.4293928297516472\n",
            "\n",
            "new w = [[1.13397611]]\n",
            "new bias = 0.455112272671809\n",
            "new MSE = 1.4110522569698483\n",
            "\n",
            "new w = [[1.12603067]]\n",
            "new bias = 0.44993099661936536\n",
            "new MSE = 1.3931155339158026\n",
            "\n",
            "new w = [[1.11815086]]\n",
            "new bias = 0.4448409323689903\n",
            "new MSE = 1.375572461748021\n",
            "\n",
            "new w = [[1.1103359]]\n",
            "new bias = 0.4398408435558491\n",
            "new MSE = 1.358413105134349\n",
            "\n",
            "new w = [[1.10258501]]\n",
            "new bias = 0.43492951004937547\n",
            "new MSE = 1.3416277854193175\n",
            "\n",
            "new w = [[1.09489744]]\n",
            "new bias = 0.43010572774107236\n",
            "new MSE = 1.325207073968771\n",
            "\n",
            "new w = [[1.08727243]]\n",
            "new bias = 0.4253683083350849\n",
            "new MSE = 1.309141785687163\n",
            "\n",
            "new w = [[1.07970922]]\n",
            "new bias = 0.42071607914150855\n",
            "new MSE = 1.2934229727030555\n",
            "\n",
            "new w = [[1.0722071]]\n",
            "new bias = 0.4161478828723976\n",
            "new MSE = 1.278041918218436\n",
            "\n",
            "new w = [[1.06476532]]\n",
            "new bias = 0.4116625774404381\n",
            "new MSE = 1.26299013051762\n",
            "\n",
            "new w = [[1.05738318]]\n",
            "new bias = 0.40725903576025035\n",
            "new MSE = 1.2482593371315915\n",
            "\n",
            "new w = [[1.05005997]]\n",
            "new bias = 0.4029361455522874\n",
            "new MSE = 1.233841479153739\n",
            "\n",
            "new w = [[1.04279499]]\n",
            "new bias = 0.3986928091492947\n",
            "new MSE = 1.2197287057030781\n",
            "\n",
            "new w = [[1.03558755]]\n",
            "new bias = 0.39452794330529806\n",
            "new MSE = 1.2059133685311123\n",
            "\n",
            "new w = [[1.02843697]]\n",
            "new bias = 0.3904404790070865\n",
            "new MSE = 1.1923880167686205\n",
            "\n",
            "new w = [[1.02134259]]\n",
            "new bias = 0.386429361288158\n",
            "new MSE = 1.1791453918087331\n",
            "\n",
            "new w = [[1.01430373]]\n",
            "new bias = 0.3824935490450953\n",
            "new MSE = 1.166178422322763\n",
            "\n",
            "new w = [[1.00731974]]\n",
            "new bias = 0.37863201485634024\n",
            "new MSE = 1.153480219405342\n",
            "\n",
            "new w = [[1.00038998]]\n",
            "new bias = 0.37484374480333565\n",
            "new MSE = 1.1410440718455153\n",
            "\n",
            "new w = [[0.99351381]]\n",
            "new bias = 0.3711277382940034\n",
            "new MSE = 1.1288634415205185\n",
            "\n",
            "new w = [[0.9866906]]\n",
            "new bias = 0.36748300788852833\n",
            "new MSE = 1.1169319589090578\n",
            "\n",
            "new w = [[0.97991974]]\n",
            "new bias = 0.3639085791274179\n",
            "new MSE = 1.1052434187209899\n",
            "\n",
            "new w = [[0.97320059]]\n",
            "new bias = 0.3604034903618079\n",
            "new MSE = 1.093791775640384\n",
            "\n",
            "new w = [[0.96653257]]\n",
            "new bias = 0.35696679258598474\n",
            "new MSE = 1.0825711401790215\n",
            "\n",
            "new w = [[0.95991508]]\n",
            "new bias = 0.35359754927209547\n",
            "new MSE = 1.0715757746374692\n",
            "\n",
            "new w = [[0.95334751]]\n",
            "new bias = 0.350294836207017\n",
            "new MSE = 1.060800089170934\n",
            "\n",
            "new w = [[0.9468293]]\n",
            "new bias = 0.3470577413313563\n",
            "new MSE = 1.0502386379571804\n",
            "\n",
            "new w = [[0.94035987]]\n",
            "new bias = 0.34388536458055347\n",
            "new MSE = 1.0398861154638617\n",
            "\n",
            "new w = [[0.93393864]]\n",
            "new bias = 0.3407768177280606\n",
            "new MSE = 1.0297373528126879\n",
            "\n",
            "new w = [[0.92756506]]\n",
            "new bias = 0.33773122423056934\n",
            "new MSE = 1.019787314237914\n",
            "\n",
            "new w = [[0.92123858]]\n",
            "new bias = 0.3347477190752598\n",
            "new MSE = 1.010031093636705\n",
            "\n",
            "new w = [[0.91495865]]\n",
            "new bias = 0.3318254486290452\n",
            "new MSE = 1.0004639112089877\n",
            "\n",
            "new w = [[0.90872473]]\n",
            "new bias = 0.32896357048978586\n",
            "new MSE = 0.991081110184478\n",
            "\n",
            "new w = [[0.90253629]]\n",
            "new bias = 0.3261612533394462\n",
            "new MSE = 0.9818781536346086\n",
            "\n",
            "new w = [[0.8963928]]\n",
            "new bias = 0.32341767679917055\n",
            "new MSE = 0.9728506213671648\n",
            "\n",
            "new w = [[0.89029375]]\n",
            "new bias = 0.3207320312862521\n",
            "new MSE = 0.9639942069014749\n",
            "\n",
            "new w = [[0.88423862]]\n",
            "new bias = 0.3181035178729696\n",
            "new MSE = 0.9553047145220711\n",
            "\n",
            "new w = [[0.87822691]]\n",
            "new bias = 0.31553134814726885\n",
            "new MSE = 0.9467780564087811\n",
            "\n",
            "new w = [[0.87225812]]\n",
            "new bias = 0.31301474407526364\n",
            "new MSE = 0.9384102498412654\n",
            "\n",
            "new w = [[0.86633175]]\n",
            "new bias = 0.31055293786553306\n",
            "new MSE = 0.930197414476076\n",
            "\n",
            "new w = [[0.86044733]]\n",
            "new bias = 0.3081451718351913\n",
            "new MSE = 0.9221357696943462\n",
            "\n",
            "new w = [[0.85460437]]\n",
            "new bias = 0.3057906982777073\n",
            "new MSE = 0.9142216320182837\n",
            "\n",
            "new w = [[0.84880239]]\n",
            "new bias = 0.30348877933245066\n",
            "new MSE = 0.906451412594682\n",
            "\n",
            "new w = [[0.84304094]]\n",
            "new bias = 0.30123868685594235\n",
            "new MSE = 0.8988216147437073\n",
            "\n",
            "new w = [[0.83731954]]\n",
            "new bias = 0.29903970229478644\n",
            "new MSE = 0.8913288315712734\n",
            "\n",
            "new w = [[0.83163774]]\n",
            "new bias = 0.2968911165602624\n",
            "new MSE = 0.8839697436433467\n",
            "\n",
            "new w = [[0.8259951]]\n",
            "new bias = 0.2947922299045555\n",
            "new MSE = 0.8767411167205816\n",
            "\n",
            "new w = [[0.82039116]]\n",
            "new bias = 0.2927423517986038\n",
            "new MSE = 0.8696397995517184\n",
            "\n",
            "new w = [[0.81482549]]\n",
            "new bias = 0.29074080081154113\n",
            "new MSE = 0.8626627217242167\n",
            "\n",
            "new w = [[0.80929766]]\n",
            "new bias = 0.2887869044917148\n",
            "new MSE = 0.8558068915706418\n",
            "\n",
            "new w = [[0.80380724]]\n",
            "new bias = 0.28687999924925756\n",
            "new MSE = 0.8490693941293584\n",
            "\n",
            "new w = [[0.7983538]]\n",
            "new bias = 0.2850194302401938\n",
            "new MSE = 0.8424473891581182\n",
            "\n",
            "new w = [[0.79293694]]\n",
            "new bias = 0.28320455125205957\n",
            "new MSE = 0.8359381091991743\n",
            "\n",
            "new w = [[0.78755623]]\n",
            "new bias = 0.2814347245910166\n",
            "new MSE = 0.8295388576945819\n",
            "\n",
            "new w = [[0.78221127]]\n",
            "new bias = 0.2797093209704415\n",
            "new MSE = 0.8232470071503837\n",
            "\n",
            "new w = [[0.77690167]]\n",
            "new bias = 0.2780277194009697\n",
            "new MSE = 0.8170599973484127\n",
            "\n",
            "new w = [[0.77162702]]\n",
            "new bias = 0.2763893070819765\n",
            "new MSE = 0.810975333604476\n",
            "\n",
            "new w = [[0.76638694]]\n",
            "new bias = 0.2747934792944752\n",
            "new MSE = 0.8049905850717166\n",
            "\n",
            "new w = [[0.76118104]]\n",
            "new bias = 0.2732396392954146\n",
            "new MSE = 0.799103383087981\n",
            "\n",
            "new w = [[0.75600894]]\n",
            "new bias = 0.27172719821335767\n",
            "new MSE = 0.7933114195660501\n",
            "\n",
            "new w = [[0.75087026]]\n",
            "new bias = 0.2702555749455221\n",
            "new MSE = 0.7876124454256221\n",
            "\n",
            "new w = [[0.74576463]]\n",
            "new bias = 0.2688241960561671\n",
            "new MSE = 0.782004269065965\n",
            "\n",
            "new w = [[0.74069168]]\n",
            "new bias = 0.2674324956763065\n",
            "new MSE = 0.7764847548781794\n",
            "\n",
            "new w = [[0.73565106]]\n",
            "new bias = 0.2660799154047329\n",
            "new MSE = 0.771051821796051\n",
            "\n",
            "new w = [[0.73064241]]\n",
            "new bias = 0.26476590421033425\n",
            "new MSE = 0.7657034418844828\n",
            "\n",
            "new w = [[0.72566537]]\n",
            "new bias = 0.2634899183356866\n",
            "new MSE = 0.7604376389645406\n",
            "\n",
            "new w = [[0.72071959]]\n",
            "new bias = 0.2622514212019065\n",
            "new MSE = 0.7552524872741542\n",
            "\n",
            "new w = [[0.71580474]]\n",
            "new bias = 0.2610498833147464\n",
            "new MSE = 0.7501461101635567\n",
            "\n",
            "new w = [[0.71092046]]\n",
            "new bias = 0.25988478217191646\n",
            "new MSE = 0.7451166788245523\n",
            "\n",
            "new w = [[0.70606644]]\n",
            "new bias = 0.2587556021716175\n",
            "new MSE = 0.7401624110527432\n",
            "\n",
            "new w = [[0.70124233]]\n",
            "new bias = 0.25766183452226876\n",
            "new MSE = 0.735281570041854\n",
            "\n",
            "new w = [[0.6964478]]\n",
            "new bias = 0.25660297715341474\n",
            "new MSE = 0.7304724632093239\n",
            "\n",
            "new w = [[0.69168255]]\n",
            "new bias = 0.25557853462779623\n",
            "new MSE = 0.7257334410523562\n",
            "\n",
            "new w = [[0.68694625]]\n",
            "new bias = 0.25458801805457004\n",
            "new MSE = 0.7210628960336318\n",
            "\n",
            "new w = [[0.68223857]]\n",
            "new bias = 0.2536309450036622\n",
            "new MSE = 0.71645926149592\n",
            "\n",
            "new w = [[0.67755923]]\n",
            "new bias = 0.25270683942124034\n",
            "new MSE = 0.7119210106048355\n",
            "\n",
            "new w = [[0.6729079]]\n",
            "new bias = 0.25181523154629015\n",
            "new MSE = 0.7074466553190111\n",
            "\n",
            "new w = [[0.66828428]]\n",
            "new bias = 0.25095565782828183\n",
            "new MSE = 0.7030347453869762\n",
            "\n",
            "new w = [[0.66368808]]\n",
            "new bias = 0.250127660845912\n",
            "new MSE = 0.6986838673700468\n",
            "\n",
            "new w = [[0.659119]]\n",
            "new bias = 0.24933078922690743\n",
            "new MSE = 0.6943926436905521\n",
            "\n",
            "new w = [[0.65457675]]\n",
            "new bias = 0.24856459756887633\n",
            "new MSE = 0.6901597317047418\n",
            "\n",
            "new w = [[0.65006105]]\n",
            "new bias = 0.2478286463611936\n",
            "new MSE = 0.685983822799733\n",
            "\n",
            "new w = [[0.6455716]]\n",
            "new bias = 0.24712250190790666\n",
            "new MSE = 0.6818636415138717\n",
            "\n",
            "new w = [[0.64110813]]\n",
            "new bias = 0.24644573625164867\n",
            "new MSE = 0.6777979446799042\n",
            "\n",
            "new w = [[0.63667036]]\n",
            "new bias = 0.24579792709854545\n",
            "new MSE = 0.6737855205903636\n",
            "\n",
            "new w = [[0.63225802]]\n",
            "new bias = 0.24517865774410366\n",
            "new MSE = 0.6698251881845974\n",
            "\n",
            "new w = [[0.62787083]]\n",
            "new bias = 0.24458751700006717\n",
            "new MSE = 0.6659157962568742\n",
            "\n",
            "new w = [[0.62350854]]\n",
            "new bias = 0.24402409912222903\n",
            "new MSE = 0.6620562226850207\n",
            "\n",
            "new w = [[0.61917088]]\n",
            "new bias = 0.2434880037391865\n",
            "new MSE = 0.6582453736790594\n",
            "\n",
            "new w = [[0.61485758]]\n",
            "new bias = 0.24297883578202698\n",
            "new MSE = 0.6544821830493263\n",
            "\n",
            "new w = [[0.6105684]]\n",
            "new bias = 0.24249620541493244\n",
            "new MSE = 0.6507656114935634\n",
            "\n",
            "new w = [[0.60630308]]\n",
            "new bias = 0.2420397279666906\n",
            "new MSE = 0.6470946459024939\n",
            "\n",
            "new w = [[0.60206136]]\n",
            "new bias = 0.24160902386310082\n",
            "new MSE = 0.6434682986834008\n",
            "\n"
          ]
        }
      ]
    },
    {
      "cell_type": "code",
      "source": [
        "g = sns.scatterplot(y = cost, x = weights)\n",
        "g.invert_xaxis()"
      ],
      "metadata": {
        "id": "NKUlHfvXQAsB",
        "colab": {
          "base_uri": "https://localhost:8080/",
          "height": 0
        },
        "outputId": "7271a0af-cfd7-410b-bcbb-95ba2c7a9f8f"
      },
      "execution_count": 35,
      "outputs": [
        {
          "output_type": "display_data",
          "data": {
            "text/plain": [
              "<Figure size 640x480 with 1 Axes>"
            ],
            "image/png": "[encoded data removed]"
          },
          "metadata": {}
        }
      ]
    },
    {
      "cell_type": "code",
      "source": [
        "yhat = x@w+bias\n",
        "display(yhat)\n",
        "plt.figure(figsize = (8,6))\n",
        "sns.scatterplot(x=x.squeeze(), y=y.squeeze())\n",
        "plt.plot(x.squeeze(), yhat.squeeze(), color='red', linestyle='dashed') # use squeeze instead"
      ],
      "metadata": {
        "id": "qdlYqN0kT8JQ",
        "colab": {
          "base_uri": "https://localhost:8080/",
          "height": 0
        },
        "outputId": "7d4ad771-fb4c-4406-e8f4-6852ab3aeead"
      },
      "execution_count": 36,
      "outputs": [
        {
          "output_type": "display_data",
          "data": {
            "text/plain": [
              "array([[0.84367039],\n",
              "       [0.24160902],\n",
              "       [0.84367039],\n",
              "       [0.24160902]])"
            ]
          },
          "metadata": {}
        },
        {
          "output_type": "execute_result",
          "data": {
            "text/plain": [
              "[<matplotlib.lines.Line2D at 0x7bd698a29090>]"
            ]
          },
          "metadata": {},
          "execution_count": 36
        },
        {
          "output_type": "display_data",
          "data": {
            "text/plain": [
              "<Figure size 800x600 with 1 Axes>"
            ],
            "image/png": "[encoded data removed]"
          },
          "metadata": {}
        }
      ]
    },
    {
      "cell_type": "code",
      "source": [
        "cost"
      ],
      "metadata": {
        "id": "vdR4kNsBQGZY",
        "colab": {
          "base_uri": "https://localhost:8080/"
        },
        "outputId": "b85b4aa8-7175-4f76-8420-7f7b08a5f907"
      },
      "execution_count": 37,
      "outputs": [
        {
          "output_type": "execute_result",
          "data": {
            "text/plain": [
              "[1.5699999999999998,\n",
              " 1.5485232555562498,\n",
              " 1.5275297444031897,\n",
              " 1.5070072159046326,\n",
              " 1.4869437361389235,\n",
              " 1.4673276796858534,\n",
              " 1.4481477216266692,\n",
              " 1.4293928297516472,\n",
              " 1.4110522569698483,\n",
              " 1.3931155339158026,\n",
              " 1.375572461748021,\n",
              " 1.358413105134349,\n",
              " 1.3416277854193175,\n",
              " 1.325207073968771,\n",
              " 1.309141785687163,\n",
              " 1.2934229727030555,\n",
              " 1.278041918218436,\n",
              " 1.26299013051762,\n",
              " 1.2482593371315915,\n",
              " 1.233841479153739,\n",
              " 1.2197287057030781,\n",
              " 1.2059133685311123,\n",
              " 1.1923880167686205,\n",
              " 1.1791453918087331,\n",
              " 1.166178422322763,\n",
              " 1.153480219405342,\n",
              " 1.1410440718455153,\n",
              " 1.1288634415205185,\n",
              " 1.1169319589090578,\n",
              " 1.1052434187209899,\n",
              " 1.093791775640384,\n",
              " 1.0825711401790215,\n",
              " 1.0715757746374692,\n",
              " 1.060800089170934,\n",
              " 1.0502386379571804,\n",
              " 1.0398861154638617,\n",
              " 1.0297373528126879,\n",
              " 1.019787314237914,\n",
              " 1.010031093636705,\n",
              " 1.0004639112089877,\n",
              " 0.991081110184478,\n",
              " 0.9818781536346086,\n",
              " 0.9728506213671648,\n",
              " 0.9639942069014749,\n",
              " 0.9553047145220711,\n",
              " 0.9467780564087811,\n",
              " 0.9384102498412654,\n",
              " 0.930197414476076,\n",
              " 0.9221357696943462,\n",
              " 0.9142216320182837,\n",
              " 0.906451412594682,\n",
              " 0.8988216147437073,\n",
              " 0.8913288315712734,\n",
              " 0.8839697436433467,\n",
              " 0.8767411167205816,\n",
              " 0.8696397995517184,\n",
              " 0.8626627217242167,\n",
              " 0.8558068915706418,\n",
              " 0.8490693941293584,\n",
              " 0.8424473891581182,\n",
              " 0.8359381091991743,\n",
              " 0.8295388576945819,\n",
              " 0.8232470071503837,\n",
              " 0.8170599973484127,\n",
              " 0.810975333604476,\n",
              " 0.8049905850717166,\n",
              " 0.799103383087981,\n",
              " 0.7933114195660501,\n",
              " 0.7876124454256221,\n",
              " 0.782004269065965,\n",
              " 0.7764847548781794,\n",
              " 0.771051821796051,\n",
              " 0.7657034418844828,\n",
              " 0.7604376389645406,\n",
              " 0.7552524872741542,\n",
              " 0.7501461101635567,\n",
              " 0.7451166788245523,\n",
              " 0.7401624110527432,\n",
              " 0.735281570041854,\n",
              " 0.7304724632093239,\n",
              " 0.7257334410523562,\n",
              " 0.7210628960336318,\n",
              " 0.71645926149592,\n",
              " 0.7119210106048355,\n",
              " 0.7074466553190111,\n",
              " 0.7030347453869762,\n",
              " 0.6986838673700468,\n",
              " 0.6943926436905521,\n",
              " 0.6901597317047418,\n",
              " 0.685983822799733,\n",
              " 0.6818636415138717,\n",
              " 0.6777979446799042,\n",
              " 0.6737855205903636,\n",
              " 0.6698251881845974,\n",
              " 0.6659157962568742,\n",
              " 0.6620562226850207,\n",
              " 0.6582453736790594,\n",
              " 0.6544821830493263,\n",
              " 0.6507656114935634,\n",
              " 0.6470946459024939,\n",
              " 0.6434682986834008]"
            ]
          },
          "metadata": {},
          "execution_count": 37
        }
      ]
    },
    {
      "cell_type": "code",
      "source": [
        "weights"
      ],
      "metadata": {
        "id": "nUkJ_6tNQa7N",
        "colab": {
          "base_uri": "https://localhost:8080/"
        },
        "outputId": "f5908d7e-5028-4276-ae57-1e58155245c3"
      },
      "execution_count": 38,
      "outputs": [
        {
          "output_type": "execute_result",
          "data": {
            "text/plain": [
              "[1.2,\n",
              " 1.1915,\n",
              " 1.1830722875,\n",
              " 1.1747159924946875,\n",
              " 1.166430256199892,\n",
              " 1.1582142309062988,\n",
              " 1.150067079835072,\n",
              " 1.1419879769953643,\n",
              " 1.1339761070436853,\n",
              " 1.126030665145108,\n",
              " 1.1181508568362857,\n",
              " 1.1103358978902593,\n",
              " 1.1025850141830287,\n",
              " 1.0948974415618666,\n",
              " 1.0872724257153519,\n",
              " 1.0797092220450997,\n",
              " 1.0722070955391667,\n",
              " 1.0647653206471088,\n",
              " 1.0573831811566712,\n",
              " 1.0500599700720865,\n",
              " 1.0427949894939645,\n",
              " 1.0355875505007484,\n",
              " 1.0284369730317182,\n",
              " 1.0213425857715241,\n",
              " 1.0143037260362258,\n",
              " 1.0073197396608191,\n",
              " 1.0003899808882333,\n",
              " 0.9935138122597754,\n",
              " 0.9866906045070065,\n",
              " 0.9799197364450288,\n",
              " 0.9732005948671666,\n",
              " 0.9665325744410217,\n",
              " 0.9599150776058867,\n",
              " 0.9533475144714968,\n",
              " 0.9468293027181042,\n",
              " 0.9403598674978568,\n",
              " 0.9339386413374647,\n",
              " 0.9275650640421371,\n",
              " 0.9212385826007736,\n",
              " 0.9149586510923935,\n",
              " 0.9087247305937863,\n",
              " 0.9025362890883685,\n",
              " 0.8963928013762295,\n",
              " 0.8902937489853524,\n",
              " 0.8842386200839943,\n",
              " 0.8782269093942096,\n",
              " 0.8722581181065021,\n",
              " 0.8663317537955932,\n",
              " 0.8604473303372876,\n",
              " 0.8546043678264252,\n",
              " 0.8488023924959046,\n",
              " 0.8430409366367628,\n",
              " 0.8373195385192993,\n",
              " 0.8316377423152289,\n",
              " 0.8259950980208515,\n",
              " 0.8203911613812245,\n",
              " 0.8148254938153253,\n",
              " 0.809297662342191,\n",
              " 0.8038072395080215,\n",
              " 0.7983538033142351,\n",
              " 0.792936937146463,\n",
              " 0.7875562297044704,\n",
              " 0.7822112749329929,\n",
              " 0.7769016719534757,\n",
              " 0.7716270249967034,\n",
              " 0.7663869433363101,\n",
              " 0.7611810412231561,\n",
              " 0.7560089378205632,\n",
              " 0.7508702571403936,\n",
              " 0.745764627979964,\n",
              " 0.7406916838597833,\n",
              " 0.7356510629621029,\n",
              " 0.7306424080702687,\n",
              " 0.7256653665088657,\n",
              " 0.7207195900846429,\n",
              " 0.7158047350282102,\n",
              " 0.7109204619364954,\n",
              " 0.7060664357159533,\n",
              " 0.7012423255265154,\n",
              " 0.6964478047262715,\n",
              " 0.6916825508168731,\n",
              " 0.6869462453896498,\n",
              " 0.6822385740724287,\n",
              " 0.6775592264770482,\n",
              " 0.6729078961475567,\n",
              " 0.6682842805090875,\n",
              " 0.6636880808174006,\n",
              " 0.659119002109084,\n",
              " 0.654576753152404,\n",
              " 0.6500610463987977,\n",
              " 0.6455715979349977,\n",
              " 0.6411081274357833,\n",
              " 0.6366703581173461,\n",
              " 0.6322580166912666,\n",
              " 0.6278708333190898,\n",
              " 0.623508541567494,\n",
              " 0.6191708783640454,\n",
              " 0.6148575839535292,\n",
              " 0.6105684018548514,\n",
              " 0.6063030788185024,\n",
              " 0.6020613647845765]"
            ]
          },
          "metadata": {},
          "execution_count": 38
        }
      ]
    },
    {
      "cell_type": "code",
      "source": [
        "biases"
      ],
      "metadata": {
        "id": "y7NpFo3XQgGd",
        "colab": {
          "base_uri": "https://localhost:8080/"
        },
        "outputId": "823bdb61-1d61-40e1-aa38-4a2b4c9b7c02"
      },
      "execution_count": 39,
      "outputs": [
        {
          "output_type": "execute_result",
          "data": {
            "text/plain": [
              "[0.5,\n",
              " 0.4940425,\n",
              " 0.4881867135625,\n",
              " 0.48243126646440154,\n",
              " 0.4767748025187581,\n",
              " 0.471215983339039,\n",
              " 0.46575348810647327,\n",
              " 0.4603860133404317,\n",
              " 0.455112272671809,\n",
              " 0.44993099661936536,\n",
              " 0.4448409323689903,\n",
              " 0.4398408435558491,\n",
              " 0.43492951004937547,\n",
              " 0.43010572774107236,\n",
              " 0.4253683083350849,\n",
              " 0.42071607914150855,\n",
              " 0.4161478828723976,\n",
              " 0.4116625774404381,\n",
              " 0.40725903576025035,\n",
              " 0.4029361455522874,\n",
              " 0.3986928091492947,\n",
              " 0.39452794330529806,\n",
              " 0.3904404790070865,\n",
              " 0.386429361288158,\n",
              " 0.3824935490450953,\n",
              " 0.37863201485634024,\n",
              " 0.37484374480333565,\n",
              " 0.3711277382940034,\n",
              " 0.36748300788852833,\n",
              " 0.3639085791274179,\n",
              " 0.3604034903618079,\n",
              " 0.35696679258598474,\n",
              " 0.35359754927209547,\n",
              " 0.350294836207017,\n",
              " 0.3470577413313563,\n",
              " 0.34388536458055347,\n",
              " 0.3407768177280606,\n",
              " 0.33773122423056934,\n",
              " 0.3347477190752598,\n",
              " 0.3318254486290452,\n",
              " 0.32896357048978586,\n",
              " 0.3261612533394462,\n",
              " 0.32341767679917055,\n",
              " 0.3207320312862521,\n",
              " 0.3181035178729696,\n",
              " 0.31553134814726885,\n",
              " 0.31301474407526364,\n",
              " 0.31055293786553306,\n",
              " 0.3081451718351913,\n",
              " 0.3057906982777073,\n",
              " 0.30348877933245066,\n",
              " 0.30123868685594235,\n",
              " 0.29903970229478644,\n",
              " 0.2968911165602624,\n",
              " 0.2947922299045555,\n",
              " 0.2927423517986038,\n",
              " 0.29074080081154113,\n",
              " 0.2887869044917148,\n",
              " 0.28687999924925756,\n",
              " 0.2850194302401938,\n",
              " 0.28320455125205957,\n",
              " 0.2814347245910166,\n",
              " 0.2797093209704415,\n",
              " 0.2780277194009697,\n",
              " 0.2763893070819765,\n",
              " 0.2747934792944752,\n",
              " 0.2732396392954146,\n",
              " 0.27172719821335767,\n",
              " 0.2702555749455221,\n",
              " 0.2688241960561671,\n",
              " 0.2674324956763065,\n",
              " 0.2660799154047329,\n",
              " 0.26476590421033425,\n",
              " 0.2634899183356866,\n",
              " 0.2622514212019065,\n",
              " 0.2610498833147464,\n",
              " 0.25988478217191646,\n",
              " 0.2587556021716175,\n",
              " 0.25766183452226876,\n",
              " 0.25660297715341474,\n",
              " 0.25557853462779623,\n",
              " 0.25458801805457004,\n",
              " 0.2536309450036622,\n",
              " 0.25270683942124034,\n",
              " 0.25181523154629015,\n",
              " 0.25095565782828183,\n",
              " 0.250127660845912,\n",
              " 0.24933078922690743,\n",
              " 0.24856459756887633,\n",
              " 0.2478286463611936,\n",
              " 0.24712250190790666,\n",
              " 0.24644573625164867,\n",
              " 0.24579792709854545,\n",
              " 0.24517865774410366,\n",
              " 0.24458751700006717,\n",
              " 0.24402409912222903,\n",
              " 0.2434880037391865,\n",
              " 0.24297883578202698,\n",
              " 0.24249620541493244,\n",
              " 0.2420397279666906,\n",
              " 0.24160902386310082]"
            ]
          },
          "metadata": {},
          "execution_count": 39
        }
      ]
    },
    {
      "cell_type": "markdown",
      "source": [
        "# New dataset!"
      ],
      "metadata": {
        "id": "rR-lwRrYSTsC"
      }
    },
    {
      "cell_type": "code",
      "source": [
        "# Dataset\n",
        "x = np.array([32.50234527, 53.42680403, 61.53035803, 47.47563963, 59.81320787,\n",
        "              55.14218841, 52.21179669, 39.29956669, 48.10504169, 52.55001444,\n",
        "              45.41973014, 54.35163488, 44.1640495 , 58.16847072, 56.72720806,\n",
        "              48.95588857, 44.68719623, 60.29732685, 45.61864377, 38.81681754]).reshape(-1, 1)\n",
        "\n",
        "y = np.array([31.70700585, 68.77759598, 62.5623823 , 71.54663223, 87.23092513,\n",
        "              78.21151827, 79.64197305, 59.17148932, 75.3312423 , 71.30087989,\n",
        "              55.16567715, 82.47884676, 62.00892325, 75.39287043, 81.43619216,\n",
        "              60.72360244, 82.89250373, 97.37989686, 48.84715332, 56.87721319]).reshape(-1, 1)\n",
        "\n",
        "# Initialize parameters\n",
        "w = np.random.randn(1, 1)\n",
        "bias = np.random.randn()\n",
        "\n",
        "# Hyperparameters\n",
        "mylr = 0.01\n",
        "iterations = 1000"
      ],
      "metadata": {
        "id": "nFPt7OF9SS9j"
      },
      "execution_count": 40,
      "outputs": []
    },
    {
      "cell_type": "code",
      "source": [
        "# plot me\n",
        "sns.scatterplot(x=x.squeeze(), y=y.squeeze())"
      ],
      "metadata": {
        "id": "yF9nsIOMSavc",
        "colab": {
          "base_uri": "https://localhost:8080/",
          "height": 450
        },
        "outputId": "6ebe3706-ac3c-4e36-cfec-2d05cc2d6ec4"
      },
      "execution_count": 41,
      "outputs": [
        {
          "output_type": "execute_result",
          "data": {
            "text/plain": [
              "<Axes: >"
            ]
          },
          "metadata": {},
          "execution_count": 41
        },
        {
          "output_type": "display_data",
          "data": {
            "text/plain": [
              "<Figure size 640x480 with 1 Axes>"
            ],
            "image/png": "[encoded data removed]"
          },
          "metadata": {}
        }
      ]
    },
    {
      "cell_type": "code",
      "source": [
        "weights = list()\n",
        "cost = list()\n",
        "biases  = list()\n",
        "my_mse = mse_loss_fxn(x, w, bias, y)\n",
        "print('Starting MSE =', my_mse)\n",
        "cost.append(my_mse)\n",
        "weights.append(w[0][0])\n",
        "biases.append(bias)\n",
        "for i in range(0, iterations):\n",
        "  for j in range(0, 5):\n",
        "    w = gradient_descent_update_dep_var(x, w, bias, y, mylr)\n",
        "    #print('new w =', w)\n",
        "    bias = gradient_descent_update_bias(x, w, bias, y, mylr)\n",
        "    #print('new bias =', bias)\n",
        "    print('new MSE =', mse_loss_fxn(x, w, bias, y))\n",
        "    #print()\n",
        "  yhat = x@w+bias\n",
        "  clear_output(wait=True)\n",
        "  plt.figure()\n",
        "  sns.scatterplot(x=x.squeeze(), y=y.squeeze())\n",
        "  plt.plot(x.squeeze(), yhat.squeeze(), color='red', linestyle='dashed') # use squeeze instead\n",
        "  plt.show()"
      ],
      "metadata": {
        "id": "_RA3QRRF4Gib",
        "colab": {
          "base_uri": "https://localhost:8080/",
          "height": 521
        },
        "outputId": "0e4bfd86-5843-4401-d6db-668e828f2826"
      },
      "execution_count": null,
      "outputs": [
        {
          "output_type": "display_data",
          "data": {
            "text/plain": [
              "<Figure size 640x480 with 1 Axes>"
            ],
            "image/png": "[encoded data removed]"
          },
          "metadata": {}
        },
        {
          "output_type": "stream",
          "name": "stdout",
          "text": [
            "new MSE = nan\n",
            "new MSE = nan\n",
            "new MSE = nan\n",
            "new MSE = nan\n",
            "new MSE = nan\n"
          ]
        }
      ]
    },
    {
      "cell_type": "code",
      "source": [],
      "metadata": {
        "id": "S8aylWSu4STG"
      },
      "execution_count": null,
      "outputs": []
    },
    {
      "cell_type": "markdown",
      "source": [
        "## Let's do it again"
      ],
      "metadata": {
        "id": "cYRqE8nM4W65"
      }
    },
    {
      "cell_type": "code",
      "source": [
        "# Dataset\n",
        "x = np.array([32.50234527, 53.42680403, 61.53035803, 47.47563963, 59.81320787,\n",
        "              55.14218841, 52.21179669, 39.29956669, 48.10504169, 52.55001444,\n",
        "              45.41973014, 54.35163488, 44.1640495 , 58.16847072, 56.72720806,\n",
        "              48.95588857, 44.68719623, 60.29732685, 45.61864377, 38.81681754]).reshape(-1, 1)\n",
        "\n",
        "y = np.array([31.70700585, 68.77759598, 62.5623823 , 71.54663223, 87.23092513,\n",
        "              78.21151827, 79.64197305, 59.17148932, 75.3312423 , 71.30087989,\n",
        "              55.16567715, 82.47884676, 62.00892325, 75.39287043, 81.43619216,\n",
        "              60.72360244, 82.89250373, 97.37989686, 48.84715332, 56.87721319]).reshape(-1, 1)\n",
        "\n",
        "# Initialize parameters\n",
        "w = np.random.randn(1, 1)\n",
        "b = np.random.randn()\n",
        "\n",
        "# Hyperparameters\n",
        "learning_rate = 0.001\n",
        "num_iterations = 1000"
      ],
      "metadata": {
        "id": "eBEUP5Y_4V5D"
      },
      "execution_count": null,
      "outputs": []
    },
    {
      "cell_type": "code",
      "source": [],
      "metadata": {
        "id": "eT8mff5p4bLj"
      },
      "execution_count": null,
      "outputs": []
    },
    {
      "cell_type": "code",
      "source": [],
      "metadata": {
        "id": "fi5_6HW14bOd"
      },
      "execution_count": null,
      "outputs": []
    },
    {
      "cell_type": "markdown",
      "source": [
        "## Participation block"
      ],
      "metadata": {
        "id": "7jQRuKyf4-VH"
      }
    },
    {
      "cell_type": "markdown",
      "source": [
        "What would happen if we use large learning rate or low learning rate?\n",
        "\n",
        "**Ans:** Using a large learning rate can cause the model to overshoot optimal points, leading to oscillations or even divergence, while a small learning rate results in slow convergence, potentially allowing the model to settle near the optimal point with higher precision. Large learning rates speed up initial training but can be unstable, whereas low rates are more precise but risk getting stuck in local minima. To balance these effects, adaptive learning rates or schedules that gradually decrease the learning rate during training are often used."
      ],
      "metadata": {
        "id": "DAcNjdqi4-g1"
      }
    },
    {
      "cell_type": "code",
      "source": [],
      "metadata": {
        "id": "IsnpzE6B4bRt"
      },
      "execution_count": null,
      "outputs": []
    }
  ]
}