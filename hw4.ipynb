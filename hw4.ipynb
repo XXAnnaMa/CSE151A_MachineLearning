{
  "cells": [
    {
      "cell_type": "markdown",
      "id": "0ceeeb46",
      "metadata": {
        "id": "0ceeeb46"
      },
      "source": [
        "# Homework 4\n",
        "\n",
        "For this assignment, you will be developing an artificial neural network to classify data given in the __[Dry Beans Data Set](https://archive.ics.uci.edu/ml/datasets/Dry+Bean+Dataset#)__. This data set was obtained as a part of a research study by Selcuk University, Turkey, in which a computer vision system was developed to distinguish seven different registered varieties of dry beans with similar features. More details on the study can be found in the following __[research paper](https://www.sciencedirect.com/science/article/pii/S0168169919311573)__. <br>\n",
        "### **Make sure to use the lecture notebook on an introduction to keras and cross validation located [here](https://colab.research.google.com/drive/1ksEGL7SJ_wutCIyPYx7Loe5EPdOij6dJ?usp=sharing) and [here](https://colab.research.google.com/drive/1C9Mwf1J2ril1Q4l6n2BjQMb8YaFySG5_?usp=sharing)**.\n",
        "\n",
        "## About the Data Set\n",
        "Seven different types of dry beans were used in a study in Selcuk University, Turkey, taking into account the features such as form, shape, type, and structure by the market situation. A computer vision system was developed to distinguish seven different registered varieties of dry beans with similar features in order to obtain uniform seed classification. For the **classification** model, images of 13611 grains of 7 different registered dry beans were taken with a high-resolution camera. Bean images obtained by computer vision system were subjected to segmentation and feature extraction stages, and a total of 16 features - 12 dimensions and 4 shape forms - were obtained from the grains.\n",
        "\n",
        "Number of Instances (records in the data set): __13611__\n",
        "\n",
        "Number of Attributes (fields within each record, including the class): __17__\n",
        "\n",
        "### Data Set Attribute Information:\n",
        "\n",
        "1. __Area (A)__ : The area of a bean zone and the number of pixels within its boundaries.\n",
        "2. __Perimeter (P)__ : Bean circumference is defined as the length of its border.\n",
        "3. __Major axis length (L)__ : The distance between the ends of the longest line that can be drawn from a bean.\n",
        "4. __Minor axis length (l)__ : The longest line that can be drawn from the bean while standing perpendicular to the main axis.\n",
        "5. __Aspect ratio (K)__ : Defines the relationship between L and l.\n",
        "6. __Eccentricity (Ec)__ : Eccentricity of the ellipse having the same moments as the region.\n",
        "7. __Convex area (C)__ : Number of pixels in the smallest convex polygon that can contain the area of a bean seed.\n",
        "8. __Equivalent diameter (Ed)__ : The diameter of a circle having the same area as a bean seed area.\n",
        "9. __Extent (Ex)__ : The ratio of the pixels in the bounding box to the bean area.\n",
        "10. __Solidity (S)__ : Also known as convexity. The ratio of the pixels in the convex shell to those found in beans.\n",
        "11. __Roundness (R)__ : Calculated with the following formula: (4piA)/(P^2)\n",
        "12. __Compactness (CO)__ : Measures the roundness of an object: Ed/L\n",
        "13. __ShapeFactor1 (SF1)__\n",
        "14. __ShapeFactor2 (SF2)__\n",
        "15. __ShapeFactor3 (SF3)__\n",
        "16. __ShapeFactor4 (SF4)__\n",
        "\n",
        "17. __Classes : *Seker, Barbunya, Bombay, Cali, Dermosan, Horoz, Sira*__"
      ]
    },
    {
      "cell_type": "markdown",
      "id": "61beac74",
      "metadata": {
        "id": "61beac74"
      },
      "source": [
        "### Libraries that can be used :\n",
        "- NumPy, SciPy, Pandas, Sci-Kit Learn, TensorFlow, Keras. You may also use PyTorch (though support may be limited)\n",
        "- Any other library used during the lectures and discussion sessions.\n",
        "\n",
        "### Other Notes\n",
        "- Don't worry about not being able to achieve high accuracy, it is neither the goal nor the grading standard of this assignment.\n",
        "- Discussion and Lecture materials should be helpful for doing the assignments.\n",
        "- The homework submission should be a .ipynb file.\n"
      ]
    },
    {
      "cell_type": "code",
      "execution_count": null,
      "id": "LcVrrFbn1wzE",
      "metadata": {
        "id": "LcVrrFbn1wzE",
        "colab": {
          "base_uri": "https://localhost:8080/"
        },
        "outputId": "56c8b30f-f5f0-4b36-b8bc-2de97faf475b"
      },
      "outputs": [
        {
          "output_type": "stream",
          "name": "stdout",
          "text": [
            "Cloning into 'hw4'...\n",
            "remote: Enumerating objects: 63, done.\u001b[K\n",
            "remote: Counting objects: 100% (63/63), done.\u001b[K\n",
            "remote: Compressing objects: 100% (60/60), done.\u001b[K\n",
            "remote: Total 63 (delta 36), reused 7 (delta 2), pack-reused 0 (from 0)\u001b[K\n",
            "Receiving objects: 100% (63/63), 1.58 MiB | 4.75 MiB/s, done.\n",
            "Resolving deltas: 100% (36/36), done.\n"
          ]
        }
      ],
      "source": [
        "!git clone https://github.com/ucsd-cse151a-f24/hw4.git"
      ]
    },
    {
      "cell_type": "markdown",
      "id": "0264c751",
      "metadata": {
        "id": "0264c751"
      },
      "source": [
        "\n",
        "## Exercise 1 : Building a Feed-Forward Neural Network(50 points)\n",
        "\n",
        "### Exercise 1.1 : Data Preprocessing (10 points)\n",
        "\n",
        "- As the classes are categorical, use one-hot encoding to represent the set of classes. You will find this useful when developing the output layer of the neural network.\n",
        "- Split the data into training and testing set by __90:10__ and use the training set for training the model and the test set to evaluate the model performance. Please set verbose=0 to suppress output during training.\n",
        "- Normalize each field of the input data using the min-max normalization technique.\n",
        "\n",
        "__Notes:__\n",
        "\n",
        "- Splitting of the dataset should be done __before__ the normalization step and __after__ the one-hot encoding."
      ]
    },
    {
      "cell_type": "code",
      "source": [
        "import pandas as pd\n",
        "import numpy as np\n",
        "from sklearn.preprocessing import MinMaxScaler, LabelEncoder\n",
        "from sklearn.model_selection import train_test_split\n",
        "from tensorflow.keras.utils import to_categorical\n",
        "import seaborn as sns\n",
        "import matplotlib.pyplot as plt"
      ],
      "metadata": {
        "id": "0XLNCnGRAai5"
      },
      "id": "0XLNCnGRAai5",
      "execution_count": null,
      "outputs": []
    },
    {
      "cell_type": "code",
      "source": [
        "# Load the data set\n",
        "file_path = \"/content/hw4/Dry_Beans_Dataset.csv\"\n",
        "df = pd.read_csv(file_path)"
      ],
      "metadata": {
        "id": "s4bSJKKjAhDW"
      },
      "id": "s4bSJKKjAhDW",
      "execution_count": null,
      "outputs": []
    },
    {
      "cell_type": "code",
      "source": [
        "# Separate features and labels\n",
        "X = df.drop('Class', axis=1)\n",
        "y = df['Class']"
      ],
      "metadata": {
        "id": "TBBGvtjEAxVW"
      },
      "id": "TBBGvtjEAxVW",
      "execution_count": null,
      "outputs": []
    },
    {
      "cell_type": "code",
      "source": [
        "# Separate features and labels\n",
        "X = df.drop('Class', axis=1)\n",
        "y = df['Class']"
      ],
      "metadata": {
        "id": "OWEDK3TuA2RA"
      },
      "id": "OWEDK3TuA2RA",
      "execution_count": null,
      "outputs": []
    },
    {
      "cell_type": "code",
      "source": [
        "# One-hot encode the labels\n",
        "label_encoder = LabelEncoder()\n",
        "y_encoded = label_encoder.fit_transform(y)\n",
        "y_onehot = to_categorical(y_encoded)"
      ],
      "metadata": {
        "id": "3vrkZgpXA4hI"
      },
      "id": "3vrkZgpXA4hI",
      "execution_count": null,
      "outputs": []
    },
    {
      "cell_type": "code",
      "source": [
        "# Normalize the features\n",
        "scaler = MinMaxScaler()\n",
        "X_scaled = scaler.fit_transform(X)"
      ],
      "metadata": {
        "id": "cHkbayUEA68a"
      },
      "id": "cHkbayUEA68a",
      "execution_count": null,
      "outputs": []
    },
    {
      "cell_type": "code",
      "source": [
        "# Print the shapes of the preprocessed data\n",
        "print(\"X shape:\", X_scaled.shape)\n",
        "print(\"y shape:\", y_onehot.shape)\n",
        "print()"
      ],
      "metadata": {
        "colab": {
          "base_uri": "https://localhost:8080/"
        },
        "id": "iI8AfMWmC_8l",
        "outputId": "3fdd3700-5a22-433f-f08d-feb3fc1fc7f2"
      },
      "id": "iI8AfMWmC_8l",
      "execution_count": null,
      "outputs": [
        {
          "output_type": "stream",
          "name": "stdout",
          "text": [
            "X shape: (13611, 16)\n",
            "y shape: (13611, 7)\n",
            "\n"
          ]
        }
      ]
    },
    {
      "cell_type": "code",
      "source": [
        "# Split the data into training and testing sets (90:10 ratio)\n",
        "X_train, X_test, y_train, y_test = train_test_split(X_scaled, y_onehot, test_size=0.1, random_state=42)"
      ],
      "metadata": {
        "id": "yFFzE2ZJA-9J"
      },
      "id": "yFFzE2ZJA-9J",
      "execution_count": null,
      "outputs": []
    },
    {
      "cell_type": "code",
      "source": [
        "# Print the shapes of the preprocessed data\n",
        "print(\"X_train shape:\", X_train.shape)\n",
        "print(\"y_train shape:\", y_train.shape)\n",
        "print(\"X_test shape:\", X_test.shape)\n",
        "print(\"y_test shape:\", y_test.shape)\n",
        "print()"
      ],
      "metadata": {
        "colab": {
          "base_uri": "https://localhost:8080/"
        },
        "id": "TUA_hM5oBCoQ",
        "outputId": "afaf1a5c-24a1-4c5f-8072-e53356eba27a"
      },
      "id": "TUA_hM5oBCoQ",
      "execution_count": null,
      "outputs": [
        {
          "output_type": "stream",
          "name": "stdout",
          "text": [
            "X_train shape: (12249, 16)\n",
            "y_train shape: (12249, 7)\n",
            "X_test shape: (1362, 16)\n",
            "y_test shape: (1362, 7)\n",
            "\n"
          ]
        }
      ]
    },
    {
      "cell_type": "markdown",
      "id": "o4QPlcYa0sHN",
      "metadata": {
        "id": "o4QPlcYa0sHN"
      },
      "source": [
        "### Exercise 1.2 : Training and Testing the Neural Network (40 points)\n",
        "\n",
        "Design a 3-layer (3 hidden layers and this does not include the input or output layer) artificial deep neural network, specifically a feed-forward multi-layer perceptron (using the sigmoid activation function), to classify the type of 'Dry Bean' given the other attributes in the data set, similar to the one mentioned in the paper above. Please note that this is a **multi-class classification** problem so select the right number of nodes accordingly for the input and output layers.\n",
        "\n",
        "Consider the following hyperparameters while developing your model:\n",
        "\n",
        "- Model type: Keras Sequential\n",
        "- Make sure your input layer matches the size of your X matrix\n",
        "- Number and type of hidden layers: 3 and Dense\n",
        "- Number of nodes in each hidden layer: 12\n",
        "- Learning rate should be 0.3\n",
        "- Number of epochs should be 100\n",
        "- The sigmoid function is to be used as the activation function in each layer\n",
        "- Your output layer has to use a sigmoid function and the number of outputs should match the shape of your y\n",
        "- Your loss function should be MSE\n",
        "- Stochastic Gradient Descent should be used to minimize the error rate\n",
        "\n",
        "**Note:** We are having you use MSE as your loss function for this model, is this a good choice? Why or why not? If not, what should you use instead in future models? Answer below\n",
        "\n",
        "__Requirements once the model has been trained :__\n",
        "\n",
        "- A confusion matrix for all classes, specifying the true positive, true negative, false positive, and false negative cases for each category in the class\n",
        "- Since we do have OHE output (multi-class output) you will need to either reshape or argmax your outputs. Make sure they have already been thresholded as well i.e. look at yhat and do you see 1's and 0's?\n",
        "- The accuracy and mean squared error (MSE) of the model\n",
        "- The precision and recall for each label in the class\n",
        "\n",
        "__Notes :__\n",
        "\n",
        "- The mean squared error (MSE) values obtained __should be positive__.\n"
      ]
    },
    {
      "cell_type": "code",
      "execution_count": null,
      "id": "KhW7lew706U8",
      "metadata": {
        "id": "KhW7lew706U8",
        "colab": {
          "base_uri": "https://localhost:8080/"
        },
        "outputId": "1fae5a3d-7249-478a-e239-a7dfe4dc6548"
      },
      "outputs": [
        {
          "output_type": "stream",
          "name": "stdout",
          "text": [
            "Requirement already satisfied: scikeras in /usr/local/lib/python3.10/dist-packages (0.13.0)\n",
            "Requirement already satisfied: keras>=3.2.0 in /usr/local/lib/python3.10/dist-packages (from scikeras) (3.5.0)\n",
            "Requirement already satisfied: scikit-learn>=1.4.2 in /usr/local/lib/python3.10/dist-packages (from scikeras) (1.5.2)\n",
            "Requirement already satisfied: absl-py in /usr/local/lib/python3.10/dist-packages (from keras>=3.2.0->scikeras) (1.4.0)\n",
            "Requirement already satisfied: numpy in /usr/local/lib/python3.10/dist-packages (from keras>=3.2.0->scikeras) (1.26.4)\n",
            "Requirement already satisfied: rich in /usr/local/lib/python3.10/dist-packages (from keras>=3.2.0->scikeras) (13.9.4)\n",
            "Requirement already satisfied: namex in /usr/local/lib/python3.10/dist-packages (from keras>=3.2.0->scikeras) (0.0.8)\n",
            "Requirement already satisfied: h5py in /usr/local/lib/python3.10/dist-packages (from keras>=3.2.0->scikeras) (3.12.1)\n",
            "Requirement already satisfied: optree in /usr/local/lib/python3.10/dist-packages (from keras>=3.2.0->scikeras) (0.13.1)\n",
            "Requirement already satisfied: ml-dtypes in /usr/local/lib/python3.10/dist-packages (from keras>=3.2.0->scikeras) (0.4.1)\n",
            "Requirement already satisfied: packaging in /usr/local/lib/python3.10/dist-packages (from keras>=3.2.0->scikeras) (24.2)\n",
            "Requirement already satisfied: scipy>=1.6.0 in /usr/local/lib/python3.10/dist-packages (from scikit-learn>=1.4.2->scikeras) (1.13.1)\n",
            "Requirement already satisfied: joblib>=1.2.0 in /usr/local/lib/python3.10/dist-packages (from scikit-learn>=1.4.2->scikeras) (1.4.2)\n",
            "Requirement already satisfied: threadpoolctl>=3.1.0 in /usr/local/lib/python3.10/dist-packages (from scikit-learn>=1.4.2->scikeras) (3.5.0)\n",
            "Requirement already satisfied: typing-extensions>=4.5.0 in /usr/local/lib/python3.10/dist-packages (from optree->keras>=3.2.0->scikeras) (4.12.2)\n",
            "Requirement already satisfied: markdown-it-py>=2.2.0 in /usr/local/lib/python3.10/dist-packages (from rich->keras>=3.2.0->scikeras) (3.0.0)\n",
            "Requirement already satisfied: pygments<3.0.0,>=2.13.0 in /usr/local/lib/python3.10/dist-packages (from rich->keras>=3.2.0->scikeras) (2.18.0)\n",
            "Requirement already satisfied: mdurl~=0.1 in /usr/local/lib/python3.10/dist-packages (from markdown-it-py>=2.2.0->rich->keras>=3.2.0->scikeras) (0.1.2)\n"
          ]
        }
      ],
      "source": [
        "!pip install scikeras"
      ]
    },
    {
      "cell_type": "code",
      "source": [
        "from tensorflow.keras.models import Sequential\n",
        "from tensorflow.keras.layers import Dense, Input\n",
        "from tensorflow.keras.optimizers import SGD, Adam\n",
        "from sklearn.metrics import confusion_matrix, accuracy_score, mean_squared_error, precision_score, recall_score\n",
        "from scikeras.wrappers import KerasClassifier\n",
        "from sklearn.model_selection import RepeatedKFold, cross_val_score"
      ],
      "metadata": {
        "id": "xIU0F7HVFNZW"
      },
      "id": "xIU0F7HVFNZW",
      "execution_count": null,
      "outputs": []
    },
    {
      "cell_type": "code",
      "source": [
        "# Define the neural network model\n",
        "def create_model():\n",
        "    model = Sequential()\n",
        "    model.add(Input(shape=(X_train.shape[1],)))\n",
        "    model.add(Dense(12, activation='sigmoid'))\n",
        "    model.add(Dense(12, activation='sigmoid'))\n",
        "    model.add(Dense(12, activation='sigmoid'))\n",
        "    model.add(Dense(y_train.shape[1], activation='sigmoid'))\n",
        "    optimizer = SGD(learning_rate=0.3)\n",
        "    model.compile(loss='categorical_crossentropy', optimizer=optimizer, metrics=['accuracy'])\n",
        "    return model"
      ],
      "metadata": {
        "id": "AHhBG1jaFNV3"
      },
      "id": "AHhBG1jaFNV3",
      "execution_count": null,
      "outputs": []
    },
    {
      "cell_type": "code",
      "source": [
        "# Create the model\n",
        "model = create_model()"
      ],
      "metadata": {
        "id": "e0BtMfYWFNTX"
      },
      "id": "e0BtMfYWFNTX",
      "execution_count": null,
      "outputs": []
    },
    {
      "cell_type": "code",
      "source": [
        "# Train the model\n",
        "history = model.fit(X_train, y_train, epochs=100, batch_size=None, validation_data=(X_test, y_test), verbose=0)"
      ],
      "metadata": {
        "id": "OCnkDjb6FNRk"
      },
      "id": "OCnkDjb6FNRk",
      "execution_count": null,
      "outputs": []
    },
    {
      "cell_type": "code",
      "source": [
        "# Evaluate the model\n",
        "loss, acc = model.evaluate(X_test, y_test, verbose=0)\n",
        "print(\"Test Loss: %.4f\" % loss)\n",
        "print(\"Test Accuracy: %.2f%%\" % (acc * 100))\n",
        "print()"
      ],
      "metadata": {
        "colab": {
          "base_uri": "https://localhost:8080/"
        },
        "id": "aeC8VjbVFNO4",
        "outputId": "69df4959-7416-43e1-815b-d508b8f1aa33"
      },
      "id": "aeC8VjbVFNO4",
      "execution_count": null,
      "outputs": [
        {
          "output_type": "stream",
          "name": "stdout",
          "text": [
            "Test Loss: 0.2514\n",
            "Test Accuracy: 90.90%\n",
            "\n"
          ]
        }
      ]
    },
    {
      "cell_type": "code",
      "source": [
        "# Make predictions\n",
        "y_pred = model.predict(X_test)"
      ],
      "metadata": {
        "colab": {
          "base_uri": "https://localhost:8080/"
        },
        "id": "tHfAvFAhFNMm",
        "outputId": "9e7df690-56d1-41a0-ecfe-2a53c6f16af2"
      },
      "id": "tHfAvFAhFNMm",
      "execution_count": null,
      "outputs": [
        {
          "output_type": "stream",
          "name": "stdout",
          "text": [
            "\u001b[1m43/43\u001b[0m \u001b[32m━━━━━━━━━━━━━━━━━━━━\u001b[0m\u001b[37m\u001b[0m \u001b[1m0s\u001b[0m 2ms/step\n"
          ]
        }
      ]
    },
    {
      "cell_type": "code",
      "source": [
        "# Apply thresholding to predictions\n",
        "y_pred_thresholded = (y_pred > 0.5).astype(int)"
      ],
      "metadata": {
        "id": "lEEZt5E1JKXU"
      },
      "id": "lEEZt5E1JKXU",
      "execution_count": null,
      "outputs": []
    },
    {
      "cell_type": "code",
      "source": [
        "# Check if predictions are properly thresholded\n",
        "print(\"Thresholded predictions (first 5 samples):\")\n",
        "print(y_pred_thresholded[:5])\n",
        "print()"
      ],
      "metadata": {
        "colab": {
          "base_uri": "https://localhost:8080/"
        },
        "id": "aWJ2MCsCFNHn",
        "outputId": "5efb6847-d344-4d6a-c6e5-77c34daab4c2"
      },
      "id": "aWJ2MCsCFNHn",
      "execution_count": null,
      "outputs": [
        {
          "output_type": "stream",
          "name": "stdout",
          "text": [
            "Thresholded predictions (first 5 samples):\n",
            "[[1 1 1 0 0 1 0]\n",
            " [0 0 0 1 1 1 1]\n",
            " [0 0 0 1 1 1 1]\n",
            " [1 0 1 0 1 0 0]\n",
            " [0 0 0 1 1 1 1]]\n",
            "\n"
          ]
        }
      ]
    },
    {
      "cell_type": "code",
      "source": [
        "# Convert predictions to class labels\n",
        "y_pred_labels = np.argmax(y_pred_thresholded, axis=1)\n",
        "y_test_labels = np.argmax(y_test, axis=1)"
      ],
      "metadata": {
        "id": "ti5sLsnNFNA1"
      },
      "id": "ti5sLsnNFNA1",
      "execution_count": null,
      "outputs": []
    },
    {
      "cell_type": "code",
      "source": [
        "# Print the confusion matrix\n",
        "conf_matrix = confusion_matrix(y_test_labels, y_pred_labels)"
      ],
      "metadata": {
        "id": "D7pzB50SFMy7"
      },
      "id": "D7pzB50SFMy7",
      "execution_count": null,
      "outputs": []
    },
    {
      "cell_type": "code",
      "source": [
        "# Get class labels\n",
        "class_labels = label_encoder.classes_"
      ],
      "metadata": {
        "id": "EV3mD20pGnyl"
      },
      "id": "EV3mD20pGnyl",
      "execution_count": null,
      "outputs": []
    },
    {
      "cell_type": "code",
      "source": [
        "# Create heatmap of the confusion matrix\n",
        "plt.figure(figsize=(10, 8))\n",
        "sns.heatmap(conf_matrix, annot=True, fmt='d', cmap='Blues',\n",
        "            xticklabels=class_labels, yticklabels=class_labels)\n",
        "plt.title('Confusion Matrix')\n",
        "plt.xlabel('Predicted')\n",
        "plt.ylabel('True')\n",
        "plt.tight_layout()\n",
        "plt.show()"
      ],
      "metadata": {
        "colab": {
          "base_uri": "https://localhost:8080/",
          "height": 807
        },
        "id": "W4yXEF8cGr2x",
        "outputId": "54541d57-8515-480d-b1da-58e92d71e9fd"
      },
      "id": "W4yXEF8cGr2x",
      "execution_count": null,
      "outputs": [
        {
          "output_type": "display_data",
          "data": {
            "text/plain": [
              "<Figure size 1000x800 with 2 Axes>"
            ],
            "image/png": "[encoded data removed]"
          },
          "metadata": {}
        }
      ]
    },
    {
      "cell_type": "code",
      "source": [
        "# Calculate TP, FN, FP, TN for each class\n",
        "TP = np.diag(conf_matrix)\n",
        "FN = np.sum(conf_matrix, axis=0) - TP\n",
        "FP = np.sum(conf_matrix, axis=1) - TP\n",
        "TN = np.sum(conf_matrix) - TP - FN - FP"
      ],
      "metadata": {
        "id": "Hj8IWgDTG832"
      },
      "id": "Hj8IWgDTG832",
      "execution_count": null,
      "outputs": []
    },
    {
      "cell_type": "code",
      "source": [
        "# Print the results\n",
        "print(\"True Positives (TP):\", TP)\n",
        "print(\"False Negatives (FN):\", FN)\n",
        "print(\"False Positives (FP):\", FP)\n",
        "print(\"True Negatives (TN):\", TN)\n",
        "print()"
      ],
      "metadata": {
        "colab": {
          "base_uri": "https://localhost:8080/"
        },
        "id": "tSKy39v9HAHS",
        "outputId": "57428b02-16e3-4304-b4b6-2b57b609729d"
      },
      "id": "tSKy39v9HAHS",
      "execution_count": null,
      "outputs": [
        {
          "output_type": "stream",
          "name": "stdout",
          "text": [
            "True Positives (TP): [136   0   3 338   0   0   0]\n",
            "False Negatives (FN): [581   0 173 131   0   0   0]\n",
            "False Positives (FP): [  1  63 192   4 181 200 244]\n",
            "True Negatives (TN): [ 644 1299  994  889 1181 1162 1118]\n",
            "\n"
          ]
        }
      ]
    },
    {
      "cell_type": "code",
      "source": [
        "# Calculate accuracy\n",
        "acc_score = accuracy_score(y_test_labels, y_pred_labels)\n",
        "print(\"Accuracy: %.4f%%\" % (acc_score * 100))\n"
      ],
      "metadata": {
        "colab": {
          "base_uri": "https://localhost:8080/"
        },
        "id": "fwSrGIyBHH6D",
        "outputId": "afad1652-f420-40b0-8d21-b9db4d8abcc8"
      },
      "id": "fwSrGIyBHH6D",
      "execution_count": null,
      "outputs": [
        {
          "output_type": "stream",
          "name": "stdout",
          "text": [
            "Accuracy: 35.0220%\n"
          ]
        }
      ]
    },
    {
      "cell_type": "code",
      "source": [
        "# Calculate MSE\n",
        "mse = mean_squared_error(y_test, y_pred)\n",
        "print(f\"Mean Squared Error: {mse:.4f}\")\n",
        "print()"
      ],
      "metadata": {
        "colab": {
          "base_uri": "https://localhost:8080/"
        },
        "id": "CmQPEGnKHJNL",
        "outputId": "c13b1d9b-c349-40be-d6d3-dcbb024bac3f"
      },
      "id": "CmQPEGnKHJNL",
      "execution_count": null,
      "outputs": [
        {
          "output_type": "stream",
          "name": "stdout",
          "text": [
            "Mean Squared Error: 0.3404\n",
            "\n"
          ]
        }
      ]
    },
    {
      "cell_type": "code",
      "source": [
        "# Calculate precision and recall for each class\n",
        "precision = precision_score(y_test_labels, y_pred_labels, average=None, zero_division=0)\n",
        "recall = recall_score(y_test_labels, y_pred_labels, average=None, zero_division=0)"
      ],
      "metadata": {
        "id": "ivt9rhYYHLYr"
      },
      "id": "ivt9rhYYHLYr",
      "execution_count": null,
      "outputs": []
    },
    {
      "cell_type": "code",
      "source": [
        "# Print the precision and recall for each class\n",
        "for i, (p, r) in enumerate(zip(precision, recall)):\n",
        "    print(f\"Class {class_labels[i]}: Precision = {p:.4f}, Recall = {r:.4f}\")"
      ],
      "metadata": {
        "colab": {
          "base_uri": "https://localhost:8080/"
        },
        "id": "C3ouhTbxHOiq",
        "outputId": "c7444d4b-150a-4cc1-8f2b-61fadc700ae3"
      },
      "id": "C3ouhTbxHOiq",
      "execution_count": null,
      "outputs": [
        {
          "output_type": "stream",
          "name": "stdout",
          "text": [
            "Class BARBUNYA: Precision = 0.1897, Recall = 0.9927\n",
            "Class BOMBAY: Precision = 0.0000, Recall = 0.0000\n",
            "Class CALI: Precision = 0.0170, Recall = 0.0154\n",
            "Class DERMASON: Precision = 0.7207, Recall = 0.9883\n",
            "Class HOROZ: Precision = 0.0000, Recall = 0.0000\n",
            "Class SEKER: Precision = 0.0000, Recall = 0.0000\n",
            "Class SIRA: Precision = 0.0000, Recall = 0.0000\n"
          ]
        }
      ]
    },
    {
      "cell_type": "markdown",
      "id": "083f5188",
      "metadata": {
        "id": "083f5188"
      },
      "source": [
        "## Exercise 2 : k-fold Cross Validation (20 points)\n",
        "\n",
        "In order to avoid **using biased models**, use 10-fold cross validation to generalize the model from Ex1.2 on the given data set. You can choose a n_repeats value of 1-5\n",
        "\n",
        "__Requirements :__\n",
        "- Print the accuracy values during each iteration of the **cross validation** not the iterations per epoch or the epochs\n",
        "- Print the overall average accuracy per each n_fold value, look at the documentation for the scoring parameter\n",
        "\n"
      ]
    },
    {
      "cell_type": "code",
      "source": [
        "# Wrap the model using KerasClassifier\n",
        "model = KerasClassifier(model=create_model, epochs=100, batch_size=None, verbose=0)"
      ],
      "metadata": {
        "id": "4bNPWwA2N3Hd"
      },
      "id": "4bNPWwA2N3Hd",
      "execution_count": null,
      "outputs": []
    },
    {
      "cell_type": "code",
      "source": [
        "# Define the cross-validation method\n",
        "cv = RepeatedKFold(n_splits=10, n_repeats=1, random_state=42)"
      ],
      "metadata": {
        "id": "ntijbz-_N3c0"
      },
      "id": "ntijbz-_N3c0",
      "execution_count": null,
      "outputs": []
    },
    {
      "cell_type": "code",
      "source": [
        "# Evaluate the model using cross-validation\n",
        "scores = cross_val_score(model, X_scaled, y_onehot, scoring='accuracy', cv=cv)"
      ],
      "metadata": {
        "id": "9dKdYO5sN30g"
      },
      "id": "9dKdYO5sN30g",
      "execution_count": null,
      "outputs": []
    },
    {
      "cell_type": "code",
      "source": [
        "# Print accuracy value for each fold\n",
        "print(\"10-fold Cross-Validation Results:\")\n",
        "print(\"Accuracy per fold:\")\n",
        "for i, score in enumerate(scores):\n",
        "    print(f\"Fold {i+1}: {score*100:.4f}%\")"
      ],
      "metadata": {
        "colab": {
          "base_uri": "https://localhost:8080/"
        },
        "id": "8tCuCpf3N4Oj",
        "outputId": "a40f2fe3-6fde-4650-a41b-9243022ebee0"
      },
      "id": "8tCuCpf3N4Oj",
      "execution_count": null,
      "outputs": [
        {
          "output_type": "stream",
          "name": "stdout",
          "text": [
            "10-fold Cross-Validation Results:\n",
            "Accuracy per fold:\n",
            "Fold 1: 90.6021%\n",
            "Fold 2: 92.9464%\n",
            "Fold 3: 89.8604%\n",
            "Fold 4: 90.3012%\n",
            "Fold 5: 91.9912%\n",
            "Fold 6: 91.9177%\n",
            "Fold 7: 93.5342%\n",
            "Fold 8: 92.5055%\n",
            "Fold 9: 91.1830%\n",
            "Fold 10: 90.2278%\n"
          ]
        }
      ]
    },
    {
      "cell_type": "code",
      "source": [
        "# Print the overall average accuracy\n",
        "print(f\"\\nOverall Average Accuracy: {scores.mean()*100:.4f}%\")"
      ],
      "metadata": {
        "colab": {
          "base_uri": "https://localhost:8080/"
        },
        "id": "3hMvT5kNOCbD",
        "outputId": "483347d7-9bb5-4a73-bcf4-024c882db7b6"
      },
      "id": "3hMvT5kNOCbD",
      "execution_count": null,
      "outputs": [
        {
          "output_type": "stream",
          "name": "stdout",
          "text": [
            "\n",
            "Overall Average Accuracy: 91.5069%\n"
          ]
        }
      ]
    },
    {
      "cell_type": "markdown",
      "id": "cef874c5",
      "metadata": {
        "id": "cef874c5"
      },
      "source": [
        "## Exercise 3 : Hyperparameter Tuning (25 points)\n",
        "\n",
        "Use either grid search or random search methodology to find the optimal number of nodes required in each hidden layer, as well as the optimal learning rate and the different activation functions or optimization approaches, [keras_tuner examples](https://keras.io/guides/keras_tuner/getting_started/) such that the accuracy of the model is maximum for the given data set.\n",
        "\n",
        "__Requirements :__\n",
        "- The set of optimal hyperparameters\n",
        "- Try your best to maximize accuracy using this set of optimal hyperparameters\n",
        "\n",
        "__Note :__ Hyperparameter tuning takes a lot of time to execute. Make sure that you choose the appropriate number of each hyperparameter (preferably 3 of each), and that you allocate enough time to execute your code. Make sure to tune at least three parameters with three options each at a minimum, but feel free to experiment with more, just recognize that it will grow exponentially in running time"
      ]
    },
    {
      "cell_type": "code",
      "execution_count": null,
      "id": "5572c87d",
      "metadata": {
        "id": "5572c87d",
        "colab": {
          "base_uri": "https://localhost:8080/"
        },
        "outputId": "e3b7d175-d8cb-44ee-e827-111442204973"
      },
      "outputs": [
        {
          "output_type": "stream",
          "name": "stdout",
          "text": [
            "Collecting keras-tuner\n",
            "  Downloading keras_tuner-1.4.7-py3-none-any.whl.metadata (5.4 kB)\n",
            "Requirement already satisfied: keras in /usr/local/lib/python3.10/dist-packages (from keras-tuner) (3.5.0)\n",
            "Requirement already satisfied: packaging in /usr/local/lib/python3.10/dist-packages (from keras-tuner) (24.2)\n",
            "Requirement already satisfied: requests in /usr/local/lib/python3.10/dist-packages (from keras-tuner) (2.32.3)\n",
            "Collecting kt-legacy (from keras-tuner)\n",
            "  Downloading kt_legacy-1.0.5-py3-none-any.whl.metadata (221 bytes)\n",
            "Requirement already satisfied: absl-py in /usr/local/lib/python3.10/dist-packages (from keras->keras-tuner) (1.4.0)\n",
            "Requirement already satisfied: numpy in /usr/local/lib/python3.10/dist-packages (from keras->keras-tuner) (1.26.4)\n",
            "Requirement already satisfied: rich in /usr/local/lib/python3.10/dist-packages (from keras->keras-tuner) (13.9.4)\n",
            "Requirement already satisfied: namex in /usr/local/lib/python3.10/dist-packages (from keras->keras-tuner) (0.0.8)\n",
            "Requirement already satisfied: h5py in /usr/local/lib/python3.10/dist-packages (from keras->keras-tuner) (3.12.1)\n",
            "Requirement already satisfied: optree in /usr/local/lib/python3.10/dist-packages (from keras->keras-tuner) (0.13.1)\n",
            "Requirement already satisfied: ml-dtypes in /usr/local/lib/python3.10/dist-packages (from keras->keras-tuner) (0.4.1)\n",
            "Requirement already satisfied: charset-normalizer<4,>=2 in /usr/local/lib/python3.10/dist-packages (from requests->keras-tuner) (3.4.0)\n",
            "Requirement already satisfied: idna<4,>=2.5 in /usr/local/lib/python3.10/dist-packages (from requests->keras-tuner) (3.10)\n",
            "Requirement already satisfied: urllib3<3,>=1.21.1 in /usr/local/lib/python3.10/dist-packages (from requests->keras-tuner) (2.2.3)\n",
            "Requirement already satisfied: certifi>=2017.4.17 in /usr/local/lib/python3.10/dist-packages (from requests->keras-tuner) (2024.8.30)\n",
            "Requirement already satisfied: typing-extensions>=4.5.0 in /usr/local/lib/python3.10/dist-packages (from optree->keras->keras-tuner) (4.12.2)\n",
            "Requirement already satisfied: markdown-it-py>=2.2.0 in /usr/local/lib/python3.10/dist-packages (from rich->keras->keras-tuner) (3.0.0)\n",
            "Requirement already satisfied: pygments<3.0.0,>=2.13.0 in /usr/local/lib/python3.10/dist-packages (from rich->keras->keras-tuner) (2.18.0)\n",
            "Requirement already satisfied: mdurl~=0.1 in /usr/local/lib/python3.10/dist-packages (from markdown-it-py>=2.2.0->rich->keras->keras-tuner) (0.1.2)\n",
            "Downloading keras_tuner-1.4.7-py3-none-any.whl (129 kB)\n",
            "\u001b[2K   \u001b[90m━━━━━━━━━━━━━━━━━━━━━━━━━━━━━━━━━━━━━━━━\u001b[0m \u001b[32m129.1/129.1 kB\u001b[0m \u001b[31m2.0 MB/s\u001b[0m eta \u001b[36m0:00:00\u001b[0m\n",
            "\u001b[?25hDownloading kt_legacy-1.0.5-py3-none-any.whl (9.6 kB)\n",
            "Installing collected packages: kt-legacy, keras-tuner\n",
            "Successfully installed keras-tuner-1.4.7 kt-legacy-1.0.5\n"
          ]
        }
      ],
      "source": [
        "!pip install keras-tuner"
      ]
    },
    {
      "cell_type": "code",
      "source": [
        "import keras_tuner as kt\n",
        "from tensorflow.keras.models import Sequential\n",
        "\n",
        "def build_model(hp):\n",
        "    model = Sequential()\n",
        "    model.add(Input(shape=(X_train.shape[1],)))\n",
        "    # Tune the number of units in the first Dense layer\n",
        "    for i in range(4):\n",
        "        model.add(Dense(units=hp.Int('units_' + str(i), min_value=8, max_value=32, step=8), activation=hp.Choice('activation_' + str(i), values=['relu', 'sigmoid', 'tanh'])))\n",
        "    model.add(Dense(y_train.shape[1], activation='sigmoid'))\n",
        "    # Tune the learning rate for the optimizer\n",
        "    optimizer = hp.Choice('optimizer', values=['sgd', 'adam'])\n",
        "    if optimizer == 'sgd':\n",
        "        learning_rate = hp.Float('learning_rate', min_value=1e-4, max_value=1e-2, sampling='log')\n",
        "        optimizer = SGD(learning_rate=learning_rate)\n",
        "    else:\n",
        "        learning_rate = hp.Float('learning_rate', min_value=1e-4, max_value=1e-2, sampling='log')\n",
        "        optimizer = Adam(learning_rate=learning_rate)\n",
        "    # Compile the model\n",
        "    model.compile(loss='categorical_crossentropy', optimizer=optimizer, metrics=['accuracy'])\n",
        "    return model"
      ],
      "metadata": {
        "id": "UdrIp2t7V2Tb"
      },
      "id": "UdrIp2t7V2Tb",
      "execution_count": null,
      "outputs": []
    },
    {
      "cell_type": "code",
      "source": [
        "# Set up the tuner\n",
        "tuner = kt.RandomSearch(\n",
        "    build_model,\n",
        "    objective='val_accuracy',\n",
        "    max_trials=10,\n",
        "    executions_per_trial=3,\n",
        "    directory='my_dir',\n",
        "    project_name='hyperparameter_tuning'\n",
        ")"
      ],
      "metadata": {
        "id": "m2z3SJPwV7no"
      },
      "id": "m2z3SJPwV7no",
      "execution_count": null,
      "outputs": []
    },
    {
      "cell_type": "code",
      "source": [
        "# Run the tuning process\n",
        "tuner.search(X_train, y_train, epochs=100, validation_data=(X_test, y_test))"
      ],
      "metadata": {
        "colab": {
          "base_uri": "https://localhost:8080/"
        },
        "id": "0d0BwbhjWbai",
        "outputId": "190dc4ab-a943-4b55-ae7d-a3e553c8ff20"
      },
      "id": "0d0BwbhjWbai",
      "execution_count": null,
      "outputs": [
        {
          "output_type": "stream",
          "name": "stdout",
          "text": [
            "Trial 10 Complete [00h 05m 53s]\n",
            "val_accuracy: 0.2511013150215149\n",
            "\n",
            "Best val_accuracy So Far: 0.9268232981363932\n",
            "Total elapsed time: 01h 01m 47s\n"
          ]
        }
      ]
    },
    {
      "cell_type": "code",
      "source": [
        "# Evaluate the best model\n",
        "best_model = tuner.get_best_models(num_models=1)[0]\n",
        "best_hyperparameters = tuner.get_best_hyperparameters(num_trials=1)[0]\n",
        "print(f\"\"\"\n",
        "The hyperparameter search is complete. The optimal number of units in each dense layer and the optimal activation functions are:\n",
        "\"\"\")\n",
        "for i in range(3):\n",
        "    print(f\"Layer {i+1}: {best_hyperparameters.get('units_' + str(i))} units, activation function: {best_hyperparameters.get('activation_' + str(i))}\")\n",
        "print(f\"The optimal learning rate for the optimizer is {best_hyperparameters.get('learning_rate')}\")\n",
        "print(f\"The optimal optimizer is {best_hyperparameters.get('optimizer')}\")"
      ],
      "metadata": {
        "colab": {
          "base_uri": "https://localhost:8080/"
        },
        "id": "a28v38gmWkXu",
        "outputId": "5033f4fa-6a0b-4e39-a3a7-eb7b31b3391d"
      },
      "id": "a28v38gmWkXu",
      "execution_count": null,
      "outputs": [
        {
          "output_type": "stream",
          "name": "stdout",
          "text": [
            "\n",
            "The hyperparameter search is complete. The optimal number of units in each dense layer and the optimal activation functions are:\n",
            "\n",
            "Layer 1: 24 units, activation function: sigmoid\n",
            "Layer 2: 32 units, activation function: relu\n",
            "Layer 3: 32 units, activation function: sigmoid\n",
            "The optimal learning rate for the optimizer is 0.005188966883351778\n",
            "The optimal optimizer is adam\n"
          ]
        }
      ]
    },
    {
      "cell_type": "code",
      "source": [
        "# Build the model with the optimal hyperparameters and train it\n",
        "model = tuner.hypermodel.build(best_hyperparameters)\n",
        "model.fit(X_train, y_train, epochs=100, validation_data=(X_test, y_test))"
      ],
      "metadata": {
        "colab": {
          "base_uri": "https://localhost:8080/"
        },
        "id": "BSpNUucFYZO1",
        "outputId": "b049a0a4-1155-4f2c-85cc-abc86c3884b3"
      },
      "id": "BSpNUucFYZO1",
      "execution_count": null,
      "outputs": [
        {
          "output_type": "stream",
          "name": "stdout",
          "text": [
            "Epoch 1/100\n",
            "\u001b[1m383/383\u001b[0m \u001b[32m━━━━━━━━━━━━━━━━━━━━\u001b[0m\u001b[37m\u001b[0m \u001b[1m3s\u001b[0m 3ms/step - accuracy: 0.4121 - loss: 1.4178 - val_accuracy: 0.8047 - val_loss: 0.5328\n",
            "Epoch 2/100\n",
            "\u001b[1m383/383\u001b[0m \u001b[32m━━━━━━━━━━━━━━━━━━━━\u001b[0m\u001b[37m\u001b[0m \u001b[1m1s\u001b[0m 2ms/step - accuracy: 0.8257 - loss: 0.4451 - val_accuracy: 0.8590 - val_loss: 0.3442\n",
            "Epoch 3/100\n",
            "\u001b[1m383/383\u001b[0m \u001b[32m━━━━━━━━━━━━━━━━━━━━\u001b[0m\u001b[37m\u001b[0m \u001b[1m1s\u001b[0m 2ms/step - accuracy: 0.8739 - loss: 0.3394 - val_accuracy: 0.8686 - val_loss: 0.3515\n",
            "Epoch 4/100\n",
            "\u001b[1m383/383\u001b[0m \u001b[32m━━━━━━━━━━━━━━━━━━━━\u001b[0m\u001b[37m\u001b[0m \u001b[1m1s\u001b[0m 2ms/step - accuracy: 0.8779 - loss: 0.3245 - val_accuracy: 0.8642 - val_loss: 0.3488\n",
            "Epoch 5/100\n",
            "\u001b[1m383/383\u001b[0m \u001b[32m━━━━━━━━━━━━━━━━━━━━\u001b[0m\u001b[37m\u001b[0m \u001b[1m2s\u001b[0m 3ms/step - accuracy: 0.8869 - loss: 0.2988 - val_accuracy: 0.8678 - val_loss: 0.3273\n",
            "Epoch 6/100\n",
            "\u001b[1m383/383\u001b[0m \u001b[32m━━━━━━━━━━━━━━━━━━━━\u001b[0m\u001b[37m\u001b[0m \u001b[1m1s\u001b[0m 3ms/step - accuracy: 0.8891 - loss: 0.2981 - val_accuracy: 0.8598 - val_loss: 0.3399\n",
            "Epoch 7/100\n",
            "\u001b[1m383/383\u001b[0m \u001b[32m━━━━━━━━━━━━━━━━━━━━\u001b[0m\u001b[37m\u001b[0m \u001b[1m2s\u001b[0m 2ms/step - accuracy: 0.8894 - loss: 0.2968 - val_accuracy: 0.8840 - val_loss: 0.3059\n",
            "Epoch 8/100\n",
            "\u001b[1m383/383\u001b[0m \u001b[32m━━━━━━━━━━━━━━━━━━━━\u001b[0m\u001b[37m\u001b[0m \u001b[1m1s\u001b[0m 2ms/step - accuracy: 0.8955 - loss: 0.2887 - val_accuracy: 0.8781 - val_loss: 0.3175\n",
            "Epoch 9/100\n",
            "\u001b[1m383/383\u001b[0m \u001b[32m━━━━━━━━━━━━━━━━━━━━\u001b[0m\u001b[37m\u001b[0m \u001b[1m1s\u001b[0m 2ms/step - accuracy: 0.8975 - loss: 0.2793 - val_accuracy: 0.8825 - val_loss: 0.2814\n",
            "Epoch 10/100\n",
            "\u001b[1m383/383\u001b[0m \u001b[32m━━━━━━━━━━━━━━━━━━━━\u001b[0m\u001b[37m\u001b[0m \u001b[1m1s\u001b[0m 2ms/step - accuracy: 0.8969 - loss: 0.2744 - val_accuracy: 0.8840 - val_loss: 0.3117\n",
            "Epoch 11/100\n",
            "\u001b[1m383/383\u001b[0m \u001b[32m━━━━━━━━━━━━━━━━━━━━\u001b[0m\u001b[37m\u001b[0m \u001b[1m1s\u001b[0m 2ms/step - accuracy: 0.8962 - loss: 0.2909 - val_accuracy: 0.8906 - val_loss: 0.2750\n",
            "Epoch 12/100\n",
            "\u001b[1m383/383\u001b[0m \u001b[32m━━━━━━━━━━━━━━━━━━━━\u001b[0m\u001b[37m\u001b[0m \u001b[1m1s\u001b[0m 2ms/step - accuracy: 0.9039 - loss: 0.2662 - val_accuracy: 0.8803 - val_loss: 0.2977\n",
            "Epoch 13/100\n",
            "\u001b[1m383/383\u001b[0m \u001b[32m━━━━━━━━━━━━━━━━━━━━\u001b[0m\u001b[37m\u001b[0m \u001b[1m1s\u001b[0m 2ms/step - accuracy: 0.8965 - loss: 0.2783 - val_accuracy: 0.8994 - val_loss: 0.2677\n",
            "Epoch 14/100\n",
            "\u001b[1m383/383\u001b[0m \u001b[32m━━━━━━━━━━━━━━━━━━━━\u001b[0m\u001b[37m\u001b[0m \u001b[1m1s\u001b[0m 2ms/step - accuracy: 0.9042 - loss: 0.2626 - val_accuracy: 0.8972 - val_loss: 0.2682\n",
            "Epoch 15/100\n",
            "\u001b[1m383/383\u001b[0m \u001b[32m━━━━━━━━━━━━━━━━━━━━\u001b[0m\u001b[37m\u001b[0m \u001b[1m1s\u001b[0m 2ms/step - accuracy: 0.9001 - loss: 0.2723 - val_accuracy: 0.8979 - val_loss: 0.2744\n",
            "Epoch 16/100\n",
            "\u001b[1m383/383\u001b[0m \u001b[32m━━━━━━━━━━━━━━━━━━━━\u001b[0m\u001b[37m\u001b[0m \u001b[1m2s\u001b[0m 3ms/step - accuracy: 0.9045 - loss: 0.2661 - val_accuracy: 0.9053 - val_loss: 0.2621\n",
            "Epoch 17/100\n",
            "\u001b[1m383/383\u001b[0m \u001b[32m━━━━━━━━━━━━━━━━━━━━\u001b[0m\u001b[37m\u001b[0m \u001b[1m2s\u001b[0m 2ms/step - accuracy: 0.9040 - loss: 0.2593 - val_accuracy: 0.8994 - val_loss: 0.2564\n",
            "Epoch 18/100\n",
            "\u001b[1m383/383\u001b[0m \u001b[32m━━━━━━━━━━━━━━━━━━━━\u001b[0m\u001b[37m\u001b[0m \u001b[1m1s\u001b[0m 2ms/step - accuracy: 0.9101 - loss: 0.2496 - val_accuracy: 0.8972 - val_loss: 0.2679\n",
            "Epoch 19/100\n",
            "\u001b[1m383/383\u001b[0m \u001b[32m━━━━━━━━━━━━━━━━━━━━\u001b[0m\u001b[37m\u001b[0m \u001b[1m1s\u001b[0m 2ms/step - accuracy: 0.9063 - loss: 0.2571 - val_accuracy: 0.9068 - val_loss: 0.2591\n",
            "Epoch 20/100\n",
            "\u001b[1m383/383\u001b[0m \u001b[32m━━━━━━━━━━━━━━━━━━━━\u001b[0m\u001b[37m\u001b[0m \u001b[1m1s\u001b[0m 2ms/step - accuracy: 0.9044 - loss: 0.2654 - val_accuracy: 0.9038 - val_loss: 0.2366\n",
            "Epoch 21/100\n",
            "\u001b[1m383/383\u001b[0m \u001b[32m━━━━━━━━━━━━━━━━━━━━\u001b[0m\u001b[37m\u001b[0m \u001b[1m1s\u001b[0m 2ms/step - accuracy: 0.9089 - loss: 0.2546 - val_accuracy: 0.8899 - val_loss: 0.2910\n",
            "Epoch 22/100\n",
            "\u001b[1m383/383\u001b[0m \u001b[32m━━━━━━━━━━━━━━━━━━━━\u001b[0m\u001b[37m\u001b[0m \u001b[1m1s\u001b[0m 2ms/step - accuracy: 0.9071 - loss: 0.2524 - val_accuracy: 0.9009 - val_loss: 0.2640\n",
            "Epoch 23/100\n",
            "\u001b[1m383/383\u001b[0m \u001b[32m━━━━━━━━━━━━━━━━━━━━\u001b[0m\u001b[37m\u001b[0m \u001b[1m1s\u001b[0m 2ms/step - accuracy: 0.9022 - loss: 0.2683 - val_accuracy: 0.9053 - val_loss: 0.2584\n",
            "Epoch 24/100\n",
            "\u001b[1m383/383\u001b[0m \u001b[32m━━━━━━━━━━━━━━━━━━━━\u001b[0m\u001b[37m\u001b[0m \u001b[1m1s\u001b[0m 2ms/step - accuracy: 0.9077 - loss: 0.2603 - val_accuracy: 0.9090 - val_loss: 0.2429\n",
            "Epoch 25/100\n",
            "\u001b[1m383/383\u001b[0m \u001b[32m━━━━━━━━━━━━━━━━━━━━\u001b[0m\u001b[37m\u001b[0m \u001b[1m1s\u001b[0m 2ms/step - accuracy: 0.9080 - loss: 0.2547 - val_accuracy: 0.9038 - val_loss: 0.2367\n",
            "Epoch 26/100\n",
            "\u001b[1m383/383\u001b[0m \u001b[32m━━━━━━━━━━━━━━━━━━━━\u001b[0m\u001b[37m\u001b[0m \u001b[1m1s\u001b[0m 2ms/step - accuracy: 0.9094 - loss: 0.2416 - val_accuracy: 0.8994 - val_loss: 0.2564\n",
            "Epoch 27/100\n",
            "\u001b[1m383/383\u001b[0m \u001b[32m━━━━━━━━━━━━━━━━━━━━\u001b[0m\u001b[37m\u001b[0m \u001b[1m1s\u001b[0m 4ms/step - accuracy: 0.9154 - loss: 0.2322 - val_accuracy: 0.8979 - val_loss: 0.2638\n",
            "Epoch 28/100\n",
            "\u001b[1m383/383\u001b[0m \u001b[32m━━━━━━━━━━━━━━━━━━━━\u001b[0m\u001b[37m\u001b[0m \u001b[1m1s\u001b[0m 4ms/step - accuracy: 0.9109 - loss: 0.2531 - val_accuracy: 0.9046 - val_loss: 0.2278\n",
            "Epoch 29/100\n",
            "\u001b[1m383/383\u001b[0m \u001b[32m━━━━━━━━━━━━━━━━━━━━\u001b[0m\u001b[37m\u001b[0m \u001b[1m2s\u001b[0m 2ms/step - accuracy: 0.9153 - loss: 0.2318 - val_accuracy: 0.9038 - val_loss: 0.2350\n",
            "Epoch 30/100\n",
            "\u001b[1m383/383\u001b[0m \u001b[32m━━━━━━━━━━━━━━━━━━━━\u001b[0m\u001b[37m\u001b[0m \u001b[1m1s\u001b[0m 2ms/step - accuracy: 0.9139 - loss: 0.2401 - val_accuracy: 0.8891 - val_loss: 0.2690\n",
            "Epoch 31/100\n",
            "\u001b[1m383/383\u001b[0m \u001b[32m━━━━━━━━━━━━━━━━━━━━\u001b[0m\u001b[37m\u001b[0m \u001b[1m1s\u001b[0m 2ms/step - accuracy: 0.9098 - loss: 0.2445 - val_accuracy: 0.9082 - val_loss: 0.2402\n",
            "Epoch 32/100\n",
            "\u001b[1m383/383\u001b[0m \u001b[32m━━━━━━━━━━━━━━━━━━━━\u001b[0m\u001b[37m\u001b[0m \u001b[1m1s\u001b[0m 2ms/step - accuracy: 0.9184 - loss: 0.2280 - val_accuracy: 0.9119 - val_loss: 0.2325\n",
            "Epoch 33/100\n",
            "\u001b[1m383/383\u001b[0m \u001b[32m━━━━━━━━━━━━━━━━━━━━\u001b[0m\u001b[37m\u001b[0m \u001b[1m1s\u001b[0m 2ms/step - accuracy: 0.9134 - loss: 0.2361 - val_accuracy: 0.9046 - val_loss: 0.2277\n",
            "Epoch 34/100\n",
            "\u001b[1m383/383\u001b[0m \u001b[32m━━━━━━━━━━━━━━━━━━━━\u001b[0m\u001b[37m\u001b[0m \u001b[1m1s\u001b[0m 2ms/step - accuracy: 0.9185 - loss: 0.2284 - val_accuracy: 0.9148 - val_loss: 0.2287\n",
            "Epoch 35/100\n",
            "\u001b[1m383/383\u001b[0m \u001b[32m━━━━━━━━━━━━━━━━━━━━\u001b[0m\u001b[37m\u001b[0m \u001b[1m1s\u001b[0m 2ms/step - accuracy: 0.9150 - loss: 0.2342 - val_accuracy: 0.9148 - val_loss: 0.2239\n",
            "Epoch 36/100\n",
            "\u001b[1m383/383\u001b[0m \u001b[32m━━━━━━━━━━━━━━━━━━━━\u001b[0m\u001b[37m\u001b[0m \u001b[1m1s\u001b[0m 2ms/step - accuracy: 0.9152 - loss: 0.2273 - val_accuracy: 0.9141 - val_loss: 0.2506\n",
            "Epoch 37/100\n",
            "\u001b[1m383/383\u001b[0m \u001b[32m━━━━━━━━━━━━━━━━━━━━\u001b[0m\u001b[37m\u001b[0m \u001b[1m2s\u001b[0m 3ms/step - accuracy: 0.9177 - loss: 0.2245 - val_accuracy: 0.9016 - val_loss: 0.2406\n",
            "Epoch 38/100\n",
            "\u001b[1m383/383\u001b[0m \u001b[32m━━━━━━━━━━━━━━━━━━━━\u001b[0m\u001b[37m\u001b[0m \u001b[1m2s\u001b[0m 4ms/step - accuracy: 0.9192 - loss: 0.2208 - val_accuracy: 0.9023 - val_loss: 0.2329\n",
            "Epoch 39/100\n",
            "\u001b[1m383/383\u001b[0m \u001b[32m━━━━━━━━━━━━━━━━━━━━\u001b[0m\u001b[37m\u001b[0m \u001b[1m2s\u001b[0m 2ms/step - accuracy: 0.9146 - loss: 0.2334 - val_accuracy: 0.9097 - val_loss: 0.2221\n",
            "Epoch 40/100\n",
            "\u001b[1m383/383\u001b[0m \u001b[32m━━━━━━━━━━━━━━━━━━━━\u001b[0m\u001b[37m\u001b[0m \u001b[1m1s\u001b[0m 2ms/step - accuracy: 0.9191 - loss: 0.2267 - val_accuracy: 0.9038 - val_loss: 0.2404\n",
            "Epoch 41/100\n",
            "\u001b[1m383/383\u001b[0m \u001b[32m━━━━━━━━━━━━━━━━━━━━\u001b[0m\u001b[37m\u001b[0m \u001b[1m1s\u001b[0m 2ms/step - accuracy: 0.9152 - loss: 0.2349 - val_accuracy: 0.9097 - val_loss: 0.2207\n",
            "Epoch 42/100\n",
            "\u001b[1m383/383\u001b[0m \u001b[32m━━━━━━━━━━━━━━━━━━━━\u001b[0m\u001b[37m\u001b[0m \u001b[1m1s\u001b[0m 2ms/step - accuracy: 0.9213 - loss: 0.2196 - val_accuracy: 0.9141 - val_loss: 0.2321\n",
            "Epoch 43/100\n",
            "\u001b[1m383/383\u001b[0m \u001b[32m━━━━━━━━━━━━━━━━━━━━\u001b[0m\u001b[37m\u001b[0m \u001b[1m1s\u001b[0m 2ms/step - accuracy: 0.9212 - loss: 0.2170 - val_accuracy: 0.9156 - val_loss: 0.2229\n",
            "Epoch 44/100\n",
            "\u001b[1m383/383\u001b[0m \u001b[32m━━━━━━━━━━━━━━━━━━━━\u001b[0m\u001b[37m\u001b[0m \u001b[1m1s\u001b[0m 2ms/step - accuracy: 0.9167 - loss: 0.2292 - val_accuracy: 0.9185 - val_loss: 0.2166\n",
            "Epoch 45/100\n",
            "\u001b[1m383/383\u001b[0m \u001b[32m━━━━━━━━━━━━━━━━━━━━\u001b[0m\u001b[37m\u001b[0m \u001b[1m1s\u001b[0m 2ms/step - accuracy: 0.9217 - loss: 0.2147 - val_accuracy: 0.9112 - val_loss: 0.2560\n",
            "Epoch 46/100\n",
            "\u001b[1m383/383\u001b[0m \u001b[32m━━━━━━━━━━━━━━━━━━━━\u001b[0m\u001b[37m\u001b[0m \u001b[1m1s\u001b[0m 2ms/step - accuracy: 0.9172 - loss: 0.2249 - val_accuracy: 0.9023 - val_loss: 0.2374\n",
            "Epoch 47/100\n",
            "\u001b[1m383/383\u001b[0m \u001b[32m━━━━━━━━━━━━━━━━━━━━\u001b[0m\u001b[37m\u001b[0m \u001b[1m1s\u001b[0m 2ms/step - accuracy: 0.9207 - loss: 0.2143 - val_accuracy: 0.9200 - val_loss: 0.2265\n",
            "Epoch 48/100\n",
            "\u001b[1m383/383\u001b[0m \u001b[32m━━━━━━━━━━━━━━━━━━━━\u001b[0m\u001b[37m\u001b[0m \u001b[1m1s\u001b[0m 3ms/step - accuracy: 0.9216 - loss: 0.2273 - val_accuracy: 0.9141 - val_loss: 0.2251\n",
            "Epoch 49/100\n",
            "\u001b[1m383/383\u001b[0m \u001b[32m━━━━━━━━━━━━━━━━━━━━\u001b[0m\u001b[37m\u001b[0m \u001b[1m1s\u001b[0m 3ms/step - accuracy: 0.9190 - loss: 0.2258 - val_accuracy: 0.9141 - val_loss: 0.2220\n",
            "Epoch 50/100\n",
            "\u001b[1m383/383\u001b[0m \u001b[32m━━━━━━━━━━━━━━━━━━━━\u001b[0m\u001b[37m\u001b[0m \u001b[1m1s\u001b[0m 4ms/step - accuracy: 0.9272 - loss: 0.2005 - val_accuracy: 0.9097 - val_loss: 0.2240\n",
            "Epoch 51/100\n",
            "\u001b[1m383/383\u001b[0m \u001b[32m━━━━━━━━━━━━━━━━━━━━\u001b[0m\u001b[37m\u001b[0m \u001b[1m1s\u001b[0m 2ms/step - accuracy: 0.9176 - loss: 0.2255 - val_accuracy: 0.9112 - val_loss: 0.2253\n",
            "Epoch 52/100\n",
            "\u001b[1m383/383\u001b[0m \u001b[32m━━━━━━━━━━━━━━━━━━━━\u001b[0m\u001b[37m\u001b[0m \u001b[1m1s\u001b[0m 2ms/step - accuracy: 0.9229 - loss: 0.2203 - val_accuracy: 0.9075 - val_loss: 0.2266\n",
            "Epoch 53/100\n",
            "\u001b[1m383/383\u001b[0m \u001b[32m━━━━━━━━━━━━━━━━━━━━\u001b[0m\u001b[37m\u001b[0m \u001b[1m1s\u001b[0m 2ms/step - accuracy: 0.9226 - loss: 0.2136 - val_accuracy: 0.9163 - val_loss: 0.2198\n",
            "Epoch 54/100\n",
            "\u001b[1m383/383\u001b[0m \u001b[32m━━━━━━━━━━━━━━━━━━━━\u001b[0m\u001b[37m\u001b[0m \u001b[1m1s\u001b[0m 2ms/step - accuracy: 0.9190 - loss: 0.2220 - val_accuracy: 0.9156 - val_loss: 0.2265\n",
            "Epoch 55/100\n",
            "\u001b[1m383/383\u001b[0m \u001b[32m━━━━━━━━━━━━━━━━━━━━\u001b[0m\u001b[37m\u001b[0m \u001b[1m1s\u001b[0m 2ms/step - accuracy: 0.9158 - loss: 0.2253 - val_accuracy: 0.9163 - val_loss: 0.2306\n",
            "Epoch 56/100\n",
            "\u001b[1m383/383\u001b[0m \u001b[32m━━━━━━━━━━━━━━━━━━━━\u001b[0m\u001b[37m\u001b[0m \u001b[1m1s\u001b[0m 2ms/step - accuracy: 0.9266 - loss: 0.2128 - val_accuracy: 0.9141 - val_loss: 0.2085\n",
            "Epoch 57/100\n",
            "\u001b[1m383/383\u001b[0m \u001b[32m━━━━━━━━━━━━━━━━━━━━\u001b[0m\u001b[37m\u001b[0m \u001b[1m1s\u001b[0m 2ms/step - accuracy: 0.9203 - loss: 0.2163 - val_accuracy: 0.9207 - val_loss: 0.2418\n",
            "Epoch 58/100\n",
            "\u001b[1m383/383\u001b[0m \u001b[32m━━━━━━━━━━━━━━━━━━━━\u001b[0m\u001b[37m\u001b[0m \u001b[1m1s\u001b[0m 2ms/step - accuracy: 0.9189 - loss: 0.2179 - val_accuracy: 0.9141 - val_loss: 0.2503\n",
            "Epoch 59/100\n",
            "\u001b[1m383/383\u001b[0m \u001b[32m━━━━━━━━━━━━━━━━━━━━\u001b[0m\u001b[37m\u001b[0m \u001b[1m1s\u001b[0m 2ms/step - accuracy: 0.9176 - loss: 0.2204 - val_accuracy: 0.9082 - val_loss: 0.2281\n",
            "Epoch 60/100\n",
            "\u001b[1m383/383\u001b[0m \u001b[32m━━━━━━━━━━━━━━━━━━━━\u001b[0m\u001b[37m\u001b[0m \u001b[1m1s\u001b[0m 2ms/step - accuracy: 0.9220 - loss: 0.2129 - val_accuracy: 0.9068 - val_loss: 0.2240\n",
            "Epoch 61/100\n",
            "\u001b[1m383/383\u001b[0m \u001b[32m━━━━━━━━━━━━━━━━━━━━\u001b[0m\u001b[37m\u001b[0m \u001b[1m2s\u001b[0m 3ms/step - accuracy: 0.9259 - loss: 0.1996 - val_accuracy: 0.9178 - val_loss: 0.2348\n",
            "Epoch 62/100\n",
            "\u001b[1m383/383\u001b[0m \u001b[32m━━━━━━━━━━━━━━━━━━━━\u001b[0m\u001b[37m\u001b[0m \u001b[1m1s\u001b[0m 4ms/step - accuracy: 0.9230 - loss: 0.2108 - val_accuracy: 0.9104 - val_loss: 0.2297\n",
            "Epoch 63/100\n",
            "\u001b[1m383/383\u001b[0m \u001b[32m━━━━━━━━━━━━━━━━━━━━\u001b[0m\u001b[37m\u001b[0m \u001b[1m2s\u001b[0m 2ms/step - accuracy: 0.9174 - loss: 0.2208 - val_accuracy: 0.9009 - val_loss: 0.2320\n",
            "Epoch 64/100\n",
            "\u001b[1m383/383\u001b[0m \u001b[32m━━━━━━━━━━━━━━━━━━━━\u001b[0m\u001b[37m\u001b[0m \u001b[1m1s\u001b[0m 2ms/step - accuracy: 0.9255 - loss: 0.2011 - val_accuracy: 0.9060 - val_loss: 0.2245\n",
            "Epoch 65/100\n",
            "\u001b[1m383/383\u001b[0m \u001b[32m━━━━━━━━━━━━━━━━━━━━\u001b[0m\u001b[37m\u001b[0m \u001b[1m1s\u001b[0m 2ms/step - accuracy: 0.9238 - loss: 0.2097 - val_accuracy: 0.9156 - val_loss: 0.2124\n",
            "Epoch 66/100\n",
            "\u001b[1m383/383\u001b[0m \u001b[32m━━━━━━━━━━━━━━━━━━━━\u001b[0m\u001b[37m\u001b[0m \u001b[1m1s\u001b[0m 2ms/step - accuracy: 0.9233 - loss: 0.2084 - val_accuracy: 0.9156 - val_loss: 0.2325\n",
            "Epoch 67/100\n",
            "\u001b[1m383/383\u001b[0m \u001b[32m━━━━━━━━━━━━━━━━━━━━\u001b[0m\u001b[37m\u001b[0m \u001b[1m1s\u001b[0m 2ms/step - accuracy: 0.9225 - loss: 0.2074 - val_accuracy: 0.9163 - val_loss: 0.2140\n",
            "Epoch 68/100\n",
            "\u001b[1m383/383\u001b[0m \u001b[32m━━━━━━━━━━━━━━━━━━━━\u001b[0m\u001b[37m\u001b[0m \u001b[1m1s\u001b[0m 2ms/step - accuracy: 0.9246 - loss: 0.2096 - val_accuracy: 0.8869 - val_loss: 0.3055\n",
            "Epoch 69/100\n",
            "\u001b[1m383/383\u001b[0m \u001b[32m━━━━━━━━━━━━━━━━━━━━\u001b[0m\u001b[37m\u001b[0m \u001b[1m1s\u001b[0m 2ms/step - accuracy: 0.9180 - loss: 0.2186 - val_accuracy: 0.9185 - val_loss: 0.2167\n",
            "Epoch 70/100\n",
            "\u001b[1m383/383\u001b[0m \u001b[32m━━━━━━━━━━━━━━━━━━━━\u001b[0m\u001b[37m\u001b[0m \u001b[1m1s\u001b[0m 2ms/step - accuracy: 0.9247 - loss: 0.2100 - val_accuracy: 0.9031 - val_loss: 0.2266\n",
            "Epoch 71/100\n",
            "\u001b[1m383/383\u001b[0m \u001b[32m━━━━━━━━━━━━━━━━━━━━\u001b[0m\u001b[37m\u001b[0m \u001b[1m2s\u001b[0m 3ms/step - accuracy: 0.9260 - loss: 0.2044 - val_accuracy: 0.9126 - val_loss: 0.2175\n",
            "Epoch 72/100\n",
            "\u001b[1m383/383\u001b[0m \u001b[32m━━━━━━━━━━━━━━━━━━━━\u001b[0m\u001b[37m\u001b[0m \u001b[1m1s\u001b[0m 4ms/step - accuracy: 0.9255 - loss: 0.2090 - val_accuracy: 0.9222 - val_loss: 0.2029\n",
            "Epoch 73/100\n",
            "\u001b[1m383/383\u001b[0m \u001b[32m━━━━━━━━━━━━━━━━━━━━\u001b[0m\u001b[37m\u001b[0m \u001b[1m2s\u001b[0m 2ms/step - accuracy: 0.9230 - loss: 0.2088 - val_accuracy: 0.9119 - val_loss: 0.2174\n",
            "Epoch 74/100\n",
            "\u001b[1m383/383\u001b[0m \u001b[32m━━━━━━━━━━━━━━━━━━━━\u001b[0m\u001b[37m\u001b[0m \u001b[1m1s\u001b[0m 2ms/step - accuracy: 0.9205 - loss: 0.2049 - val_accuracy: 0.9126 - val_loss: 0.2279\n",
            "Epoch 75/100\n",
            "\u001b[1m383/383\u001b[0m \u001b[32m━━━━━━━━━━━━━━━━━━━━\u001b[0m\u001b[37m\u001b[0m \u001b[1m1s\u001b[0m 2ms/step - accuracy: 0.9203 - loss: 0.2210 - val_accuracy: 0.9112 - val_loss: 0.2490\n",
            "Epoch 76/100\n",
            "\u001b[1m383/383\u001b[0m \u001b[32m━━━━━━━━━━━━━━━━━━━━\u001b[0m\u001b[37m\u001b[0m \u001b[1m1s\u001b[0m 2ms/step - accuracy: 0.9207 - loss: 0.2192 - val_accuracy: 0.9192 - val_loss: 0.2110\n",
            "Epoch 77/100\n",
            "\u001b[1m383/383\u001b[0m \u001b[32m━━━━━━━━━━━━━━━━━━━━\u001b[0m\u001b[37m\u001b[0m \u001b[1m1s\u001b[0m 2ms/step - accuracy: 0.9264 - loss: 0.1938 - val_accuracy: 0.9170 - val_loss: 0.2131\n",
            "Epoch 78/100\n",
            "\u001b[1m383/383\u001b[0m \u001b[32m━━━━━━━━━━━━━━━━━━━━\u001b[0m\u001b[37m\u001b[0m \u001b[1m1s\u001b[0m 2ms/step - accuracy: 0.9242 - loss: 0.1999 - val_accuracy: 0.9156 - val_loss: 0.2294\n",
            "Epoch 79/100\n",
            "\u001b[1m383/383\u001b[0m \u001b[32m━━━━━━━━━━━━━━━━━━━━\u001b[0m\u001b[37m\u001b[0m \u001b[1m1s\u001b[0m 2ms/step - accuracy: 0.9255 - loss: 0.2007 - val_accuracy: 0.9126 - val_loss: 0.2407\n",
            "Epoch 80/100\n",
            "\u001b[1m383/383\u001b[0m \u001b[32m━━━━━━━━━━━━━━━━━━━━\u001b[0m\u001b[37m\u001b[0m \u001b[1m1s\u001b[0m 2ms/step - accuracy: 0.9249 - loss: 0.2122 - val_accuracy: 0.9200 - val_loss: 0.2138\n",
            "Epoch 81/100\n",
            "\u001b[1m383/383\u001b[0m \u001b[32m━━━━━━━━━━━━━━━━━━━━\u001b[0m\u001b[37m\u001b[0m \u001b[1m1s\u001b[0m 2ms/step - accuracy: 0.9185 - loss: 0.2109 - val_accuracy: 0.9156 - val_loss: 0.2147\n",
            "Epoch 82/100\n",
            "\u001b[1m383/383\u001b[0m \u001b[32m━━━━━━━━━━━━━━━━━━━━\u001b[0m\u001b[37m\u001b[0m \u001b[1m1s\u001b[0m 2ms/step - accuracy: 0.9248 - loss: 0.2061 - val_accuracy: 0.9126 - val_loss: 0.2117\n",
            "Epoch 83/100\n",
            "\u001b[1m383/383\u001b[0m \u001b[32m━━━━━━━━━━━━━━━━━━━━\u001b[0m\u001b[37m\u001b[0m \u001b[1m1s\u001b[0m 4ms/step - accuracy: 0.9268 - loss: 0.2009 - val_accuracy: 0.9119 - val_loss: 0.2260\n",
            "Epoch 84/100\n",
            "\u001b[1m383/383\u001b[0m \u001b[32m━━━━━━━━━━━━━━━━━━━━\u001b[0m\u001b[37m\u001b[0m \u001b[1m1s\u001b[0m 4ms/step - accuracy: 0.9217 - loss: 0.2013 - val_accuracy: 0.9141 - val_loss: 0.2154\n",
            "Epoch 85/100\n",
            "\u001b[1m383/383\u001b[0m \u001b[32m━━━━━━━━━━━━━━━━━━━━\u001b[0m\u001b[37m\u001b[0m \u001b[1m1s\u001b[0m 3ms/step - accuracy: 0.9282 - loss: 0.1915 - val_accuracy: 0.9141 - val_loss: 0.2272\n",
            "Epoch 86/100\n",
            "\u001b[1m383/383\u001b[0m \u001b[32m━━━━━━━━━━━━━━━━━━━━\u001b[0m\u001b[37m\u001b[0m \u001b[1m1s\u001b[0m 2ms/step - accuracy: 0.9241 - loss: 0.2009 - val_accuracy: 0.9068 - val_loss: 0.2198\n",
            "Epoch 87/100\n",
            "\u001b[1m383/383\u001b[0m \u001b[32m━━━━━━━━━━━━━━━━━━━━\u001b[0m\u001b[37m\u001b[0m \u001b[1m1s\u001b[0m 2ms/step - accuracy: 0.9280 - loss: 0.1935 - val_accuracy: 0.9207 - val_loss: 0.2115\n",
            "Epoch 88/100\n",
            "\u001b[1m383/383\u001b[0m \u001b[32m━━━━━━━━━━━━━━━━━━━━\u001b[0m\u001b[37m\u001b[0m \u001b[1m1s\u001b[0m 2ms/step - accuracy: 0.9262 - loss: 0.1943 - val_accuracy: 0.9141 - val_loss: 0.2076\n",
            "Epoch 89/100\n",
            "\u001b[1m383/383\u001b[0m \u001b[32m━━━━━━━━━━━━━━━━━━━━\u001b[0m\u001b[37m\u001b[0m \u001b[1m1s\u001b[0m 2ms/step - accuracy: 0.9214 - loss: 0.2043 - val_accuracy: 0.9170 - val_loss: 0.2071\n",
            "Epoch 90/100\n",
            "\u001b[1m383/383\u001b[0m \u001b[32m━━━━━━━━━━━━━━━━━━━━\u001b[0m\u001b[37m\u001b[0m \u001b[1m1s\u001b[0m 2ms/step - accuracy: 0.9241 - loss: 0.2060 - val_accuracy: 0.9170 - val_loss: 0.2123\n",
            "Epoch 91/100\n",
            "\u001b[1m383/383\u001b[0m \u001b[32m━━━━━━━━━━━━━━━━━━━━\u001b[0m\u001b[37m\u001b[0m \u001b[1m1s\u001b[0m 2ms/step - accuracy: 0.9249 - loss: 0.2007 - val_accuracy: 0.9214 - val_loss: 0.2119\n",
            "Epoch 92/100\n",
            "\u001b[1m383/383\u001b[0m \u001b[32m━━━━━━━━━━━━━━━━━━━━\u001b[0m\u001b[37m\u001b[0m \u001b[1m1s\u001b[0m 2ms/step - accuracy: 0.9250 - loss: 0.2031 - val_accuracy: 0.9207 - val_loss: 0.2061\n",
            "Epoch 93/100\n",
            "\u001b[1m383/383\u001b[0m \u001b[32m━━━━━━━━━━━━━━━━━━━━\u001b[0m\u001b[37m\u001b[0m \u001b[1m1s\u001b[0m 2ms/step - accuracy: 0.9242 - loss: 0.2001 - val_accuracy: 0.9134 - val_loss: 0.2124\n",
            "Epoch 94/100\n",
            "\u001b[1m383/383\u001b[0m \u001b[32m━━━━━━━━━━━━━━━━━━━━\u001b[0m\u001b[37m\u001b[0m \u001b[1m1s\u001b[0m 2ms/step - accuracy: 0.9268 - loss: 0.1917 - val_accuracy: 0.9178 - val_loss: 0.2182\n",
            "Epoch 95/100\n",
            "\u001b[1m383/383\u001b[0m \u001b[32m━━━━━━━━━━━━━━━━━━━━\u001b[0m\u001b[37m\u001b[0m \u001b[1m1s\u001b[0m 4ms/step - accuracy: 0.9262 - loss: 0.1927 - val_accuracy: 0.9229 - val_loss: 0.2095\n",
            "Epoch 96/100\n",
            "\u001b[1m383/383\u001b[0m \u001b[32m━━━━━━━━━━━━━━━━━━━━\u001b[0m\u001b[37m\u001b[0m \u001b[1m1s\u001b[0m 4ms/step - accuracy: 0.9307 - loss: 0.1886 - val_accuracy: 0.9075 - val_loss: 0.2322\n",
            "Epoch 97/100\n",
            "\u001b[1m383/383\u001b[0m \u001b[32m━━━━━━━━━━━━━━━━━━━━\u001b[0m\u001b[37m\u001b[0m \u001b[1m1s\u001b[0m 4ms/step - accuracy: 0.9272 - loss: 0.1970 - val_accuracy: 0.9068 - val_loss: 0.2328\n",
            "Epoch 98/100\n",
            "\u001b[1m383/383\u001b[0m \u001b[32m━━━━━━━━━━━━━━━━━━━━\u001b[0m\u001b[37m\u001b[0m \u001b[1m2s\u001b[0m 2ms/step - accuracy: 0.9284 - loss: 0.1950 - val_accuracy: 0.9207 - val_loss: 0.2060\n",
            "Epoch 99/100\n",
            "\u001b[1m383/383\u001b[0m \u001b[32m━━━━━━━━━━━━━━━━━━━━\u001b[0m\u001b[37m\u001b[0m \u001b[1m1s\u001b[0m 2ms/step - accuracy: 0.9253 - loss: 0.1984 - val_accuracy: 0.9178 - val_loss: 0.2080\n",
            "Epoch 100/100\n",
            "\u001b[1m383/383\u001b[0m \u001b[32m━━━━━━━━━━━━━━━━━━━━\u001b[0m\u001b[37m\u001b[0m \u001b[1m1s\u001b[0m 2ms/step - accuracy: 0.9232 - loss: 0.2120 - val_accuracy: 0.8855 - val_loss: 0.2950\n"
          ]
        },
        {
          "output_type": "execute_result",
          "data": {
            "text/plain": [
              "<keras.src.callbacks.history.History at 0x7ddda6e4e080>"
            ]
          },
          "metadata": {},
          "execution_count": 107
        }
      ]
    },
    {
      "cell_type": "code",
      "source": [
        "# Evaluate the model on the test set\n",
        "test_loss, test_acc = model.evaluate(X_test, y_test)\n",
        "print(f\"The maximum accuracy achieved using this set of optimal hyperparameters is: {test_acc}\")\n",
        "print(f\"Test loss: {test_loss}\")"
      ],
      "metadata": {
        "id": "cx-tQH4nYchB",
        "colab": {
          "base_uri": "https://localhost:8080/"
        },
        "outputId": "fe03ede5-7c63-47bf-9d30-5386e275c221"
      },
      "id": "cx-tQH4nYchB",
      "execution_count": 108,
      "outputs": [
        {
          "output_type": "stream",
          "name": "stdout",
          "text": [
            "\u001b[1m43/43\u001b[0m \u001b[32m━━━━━━━━━━━━━━━━━━━━\u001b[0m\u001b[37m\u001b[0m \u001b[1m0s\u001b[0m 2ms/step - accuracy: 0.8892 - loss: 0.2889\n",
            "The maximum accuracy achieved using this set of optimal hyperparameters is: 0.8854625821113586\n",
            "Test loss: 0.2949880063533783\n"
          ]
        }
      ]
    },
    {
      "cell_type": "markdown",
      "id": "nPfZ4mzk09EI",
      "metadata": {
        "id": "nPfZ4mzk09EI"
      },
      "source": [
        "## Exercise 4 - Collaborative Statement (5 points)\n",
        "\n",
        "It is mandatory to include a Statement of Collaboration in each submission, that follows the guidelines below.\n",
        "Include the names of everyone involved in the discussions (especially in-person ones), and what was discussed.\n",
        "All students are required to follow the academic honesty guidelines posted on the course website. For\n",
        "programming assignments in particular, I encourage students to organize (perhaps using Piazza) to discuss the\n",
        "task descriptions, requirements, possible bugs in the support code, and the relevant technical content before they\n",
        "start working on it. However, you should not discuss the specific solutions, and as a guiding principle, you are\n",
        "not allowed to take anything written or drawn away from these discussions (no photographs of the blackboard,\n",
        "written notes, referring to Piazza, etc.). Especially after you have started working on the assignment, try to restrict\n",
        "the discussion to Piazza as much as possible, so that there is no doubt as to the extent of your collaboration.\n",
        "\n",
        "Even if you did not use any outside resources or collaborate with anyone, please state that explicitly in the space below."
      ]
    },
    {
      "cell_type": "markdown",
      "source": [
        "I worked independently on this assignment and did not collaborate with anyone. I followed the academic honesty guidelines and focused solely on my own analysis and coding practices."
      ],
      "metadata": {
        "id": "YhpBTbZ7pQjv"
      },
      "id": "YhpBTbZ7pQjv"
    }
  ],
  "metadata": {
    "colab": {
      "provenance": []
    },
    "kernelspec": {
      "display_name": "Python 3",
      "language": "python",
      "name": "python3"
    },
    "language_info": {
      "codemirror_mode": {
        "name": "ipython",
        "version": 3
      },
      "file_extension": ".py",
      "mimetype": "text/x-python",
      "name": "python",
      "nbconvert_exporter": "python",
      "pygments_lexer": "ipython3",
      "version": "3.8.10"
    }
  },
  "nbformat": 4,
  "nbformat_minor": 5
}